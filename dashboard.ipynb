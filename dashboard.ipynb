{
 "cells": [
  {
   "cell_type": "markdown",
   "metadata": {},
   "source": [
    "# Análise de conjunto de dados vindo do Spotify\n",
    "\n",
    "## Projeto da disciplina SCC0252 - Visualização Computacional\n",
    "\n",
    "### Membros\n",
    "\n",
    "* Alexandre E. de Souza Jesus - alexandre_souza@usp.br - **12559506**\n",
    "\n",
    "* Eduardo Zaffari Monteiro - eduardozaffarimonteiro@usp.br - **12559490**\n",
    "\n",
    "* Pedro Henrique de Freitas Maçonetto - pedromaconetto@usp.br - **12675419**"
   ]
  },
  {
   "cell_type": "code",
   "execution_count": 1,
   "metadata": {},
   "outputs": [],
   "source": [
    "import dash\n",
    "from dash import Dash, dcc, html, Input, Output\n",
    "import dash_bootstrap_components as dbc\n",
    "import plotly.graph_objs as go\n",
    "import pandas as pd\n",
    "\n",
    "import plotly.express as px\n",
    "import numpy as np\n",
    "\n",
    "from wordcloud import WordCloud\n",
    "from sklearn.decomposition import PCA\n",
    "from sklearn.preprocessing import StandardScaler"
   ]
  },
  {
   "cell_type": "markdown",
   "metadata": {},
   "source": [
    "## Gráfico 1 - Bar Plot\n",
    "Para o primeiro gráfico o modelo escolhido foi o barplot, esse modelo foi selecionado com objetivo de visualizar uma variável numérica (Aparecimento em playlists do Spotify) por um valor temporal (Anos). Para esses atributos seria interessante utilizar ou o gráfico de barras, como escolhido, ou gráfico de linha, porém o primeiro foi escolhido para apresentar uma terceira variável (Tonalidade). \n",
    "\n",
    "Dessa forma, o gráfico de barras empilhadas foi escolhido para dar melhor noção de proporção de tonalidade em cada ano, isso funciona melhor nesse gráfico do que um gráfico de várias linhas ou o gráfico de barras lado a lado.\n"
   ]
  },
  {
   "cell_type": "markdown",
   "metadata": {},
   "source": [
    "## Gráfico 2 - "
   ]
  },
  {
   "cell_type": "markdown",
   "metadata": {},
   "source": [
    "## Gráfico 3 - Radar Plot\n",
    "Para o gráfico multidimensional a escolha foi o Radar Plot. Esse tipo de gráfico é útil para exibir os dados com um número arbitrário de variáveis, e é recomendado para se comparar diversas variáveis quantitativas de uma só vez. Essa visualização foi escolhida pois há um bom número de atributos quantitativos no *dataset* que podem ser utilizados para explicar melhor qual é o perfil de cada artista no *Spotify*.\n",
    "\n",
    "Dessa forma, ao escolher o artista do qual se deseja visualizar as informações, o usuário tem a possibilidade de entender melhor quais características fizeram com que aquele artista tenha se destacado em comparação aos demais. Vale ressaltar que os gráficos estão disponíveis apenas para os 15 artistas mais escutados na plataforma, o que permite que seja feita uma análise do porquê esses artistas ficaram tão populares. \n",
    "\n",
    "Os atributos escolhidos variam de quantidade total de *streams* até o *playlisting* (número de *playlists* em que o artista se encontra) e características médias de suas músicas, como energia e dançabilidade."
   ]
  },
  {
   "cell_type": "code",
   "execution_count": 2,
   "metadata": {},
   "outputs": [
    {
     "name": "stderr",
     "output_type": "stream",
     "text": [
      "C:\\Users\\Eduardo\\AppData\\Local\\Packages\\PythonSoftwareFoundation.Python.3.10_qbz5n2kfra8p0\\LocalCache\\local-packages\\Python310\\site-packages\\plotly\\express\\_core.py:271: FutureWarning:\n",
      "\n",
      "The frame.append method is deprecated and will be removed from pandas in a future version. Use pandas.concat instead.\n",
      "\n"
     ]
    },
    {
     "data": {
      "text/html": [
       "\n",
       "        <iframe\n",
       "            width=\"100%\"\n",
       "            height=\"650\"\n",
       "            src=\"http://127.0.0.1:8050/\"\n",
       "            frameborder=\"0\"\n",
       "            allowfullscreen\n",
       "            \n",
       "        ></iframe>\n",
       "        "
      ],
      "text/plain": [
       "<IPython.lib.display.IFrame at 0x1ac7f5cd3f0>"
      ]
     },
     "metadata": {},
     "output_type": "display_data"
    },
    {
     "name": "stderr",
     "output_type": "stream",
     "text": [
      "C:\\Users\\Eduardo\\AppData\\Local\\Packages\\PythonSoftwareFoundation.Python.3.10_qbz5n2kfra8p0\\LocalCache\\local-packages\\Python310\\site-packages\\plotly\\express\\_core.py:271: FutureWarning:\n",
      "\n",
      "The frame.append method is deprecated and will be removed from pandas in a future version. Use pandas.concat instead.\n",
      "\n"
     ]
    }
   ],
   "source": [
    "# Criando aplicativo\n",
    "aplicativo = dash.Dash(__name__)\n",
    "\n",
    "# Lendo os dados\n",
    "df = pd.read_csv('https://raw.githubusercontent.com/EduardoDuX/DataViz/main/spotify-2023.csv', encoding='latin-1')\n",
    "df_radar_plot = pd.read_csv('https://raw.githubusercontent.com/EduardoDuX/DataViz/main/media-artistas-principais.csv', index_col='main_artist')\n",
    "\n",
    "# Tratamento dos dados\n",
    "stream = df['streams'].apply(lambda x: x.isnumeric())\n",
    "df = df[stream]\n",
    "df['streams'] = df['streams'].astype('int64')\n",
    "\n",
    "# Figura do grafico 1\n",
    "fig_1 = px.bar(df,\n",
    "             x='released_year',\n",
    "             y='in_spotify_playlists',\n",
    "             color='key',\n",
    "             labels={\n",
    "                     \"in_spotify_playlists\": \"Playlists do Spotify\",\n",
    "                     \"released_year\": \"Ano de lançamento\",\n",
    "                     \"key\": \"Tonalidade\"\n",
    "                 })\n",
    "\n",
    "# Figura do grafico 2\n",
    "fig_2 = px.scatter(df, \n",
    "            size='artist_count',\n",
    "            y='streams',\n",
    "            x='in_spotify_playlists',\n",
    "            color='artist_count',\n",
    "            labels={\n",
    "                     \"streams\": \"Quantidade de reproduções\",\n",
    "                     \"in_spotify_playlists\": \"Playlists em que aparece\",\n",
    "                     \"artist_count\": \"Artistas envolvidos\"\n",
    "                 })\n",
    "\n",
    "# Figura do gráfico 3\n",
    "fig_3 = px.line_polar(df_radar_plot, df_radar_plot.iloc[0], theta=df_radar_plot.columns, line_close=True)\n",
    "fig_3.update_traces(fill='toself')\n",
    "\n",
    "aplicativo.layout = html.Div([\n",
    "\n",
    "    # Titulo do projeto\n",
    "    html.H1('Análise de dados do Spotify', style={'text-align':'center'}),\n",
    "    \n",
    "\n",
    "    # Gráfico 1\n",
    "    html.Div([\n",
    "        html.H1('Aparecimento em playlists do Spotify por ano de lançamento por tonalidade'),\n",
    "        dcc.Graph(\n",
    "            id='grafico_1',\n",
    "            figure=fig_1\n",
    "        ),\n",
    "        html.H3('Anos no gráfico:'),\n",
    "        dcc.RangeSlider(\n",
    "            id='year-slider',\n",
    "            min=df.released_year.min(),\n",
    "            max=df.released_year.max(),\n",
    "            step=3,\n",
    "            value=[1980, 2023],\n",
    "            marks={i: {'label': str(i), 'style': {'transform': 'rotate(-45deg)'}} \n",
    "                   for i in range(df.released_year.min(), df.released_year.max() + 1, 3)},\n",
    "        )],\n",
    "    style={'display': 'inline-block', 'width':'48%'}),\n",
    "\n",
    "\n",
    "    # Gráfico 2\n",
    "\n",
    "    # Gráfico 3\n",
    "    html.Div([\n",
    "        html.H1('Artista:'),\n",
    "        dcc.Dropdown(df_radar_plot.index.tolist(), df_radar_plot.index[0], id='radar-dropdown'),\n",
    "        html.H2('Atributos de artistas mais populares'),\n",
    "        dcc.Graph(\n",
    "            id='grafico_3',\n",
    "            figure=fig_3\n",
    "        )\n",
    "    ],\n",
    "    style={'display': 'inline-block','float': 'right', 'width':'48%'})\n",
    "    \n",
    "\n",
    "\n",
    "])\n",
    "\n",
    "@aplicativo.callback(\n",
    "    Output('grafico_1', 'figure'),\n",
    "    Input('year-slider', 'value')\n",
    ")\n",
    "def update_grafico_1(year_list):\n",
    "    df_updated = df[df['released_year'].isin(range(*year_list))]\n",
    "\n",
    "    updated_fig = px.bar(df_updated,\n",
    "             x='released_year',\n",
    "             y='in_spotify_playlists',\n",
    "             color='key',\n",
    "             labels={\n",
    "                     \"in_spotify_playlists\": \"Playlists do Spotify\",\n",
    "                     \"released_year\": \"Ano de lançamento\",\n",
    "                     \"key\": \"Tonalidade\"\n",
    "                 })\n",
    "    \n",
    "    return updated_fig\n",
    "\n",
    "@aplicativo.callback(\n",
    "    Output('grafico_3', 'figure'),\n",
    "    Input('radar-dropdown', 'value')\n",
    ")\n",
    "def update_grafico_3(artist):\n",
    "    artists = df_radar_plot.index.tolist()\n",
    "    index = artists.index(artist)\n",
    "\n",
    "    updated_fig = px.line_polar(df_radar_plot, df_radar_plot.iloc[index], theta=df_radar_plot.columns, line_close=True)\n",
    "    updated_fig.update_traces(fill='toself')\n",
    "\n",
    "    return updated_fig\n",
    "\n",
    "\n",
    "if __name__ == '__main__':\n",
    "    aplicativo.run_server(debug=True)"
   ]
  }
 ],
 "metadata": {
  "kernelspec": {
   "display_name": "Python 3",
   "language": "python",
   "name": "python3"
  },
  "language_info": {
   "codemirror_mode": {
    "name": "ipython",
    "version": 3
   },
   "file_extension": ".py",
   "mimetype": "text/x-python",
   "name": "python",
   "nbconvert_exporter": "python",
   "pygments_lexer": "ipython3",
   "version": "3.10.11"
  }
 },
 "nbformat": 4,
 "nbformat_minor": 2
}
