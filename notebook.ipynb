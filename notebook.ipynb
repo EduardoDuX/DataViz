{
  "cells": [
    {
      "cell_type": "markdown",
      "metadata": {
        "id": "JY1jmMnJv1QA"
      },
      "source": [
        "# Análise de conjunto de dados vindo do Spotify\n",
        "\n",
        "## Projeto da disciplina SCC0252 - Visualização Computacional\n",
        "\n",
        "### Membros\n",
        "\n",
        "* Alexandre E. de Souza Jesus - alexandre_souza@usp.br - **12559506**\n",
        "\n",
        "* Eduardo Zaffari Monteiro - eduardozaffarimonteiro@usp.br - **12559490**\n",
        "\n",
        "* Pedro Henrique de Freitas Maçonetto - pedromaconetto@usp.br - **12675419**"
      ]
    },
    {
      "cell_type": "markdown",
      "metadata": {
        "id": "RyRPd55LzOT7"
      },
      "source": [
        "## Descrição do conjunto de dados\n",
        "\n",
        "O conjunto de dados spotify-2023 contém uma lista abrangente das músicas mais famosas de 2023, conforme listadas no Spotify. O conjunto de dados oferece uma riqueza de recursos além do que normalmente está disponível em conjuntos de dados semelhantes. Ele fornece insights sobre os atributos de cada música, sua popularidade e presença em várias plataformas de música. O conjunto de dados inclui informações como nome da faixa, nome do(s) artista(s), data de lançamento, listas de reprodução e gráficos do Spotify, estatísticas de streaming, presença no Apple Music, presença no Deezer, gráficos do Shazam e vários recursos de áudio."
      ]
    },
    {
      "cell_type": "markdown",
      "metadata": {
        "id": "qCW7HbmwzwFm"
      },
      "source": [
        "### Descrição das variáveis\n",
        "\n",
        "**track_name**: Nome da música  \n",
        "**artist(s)_name**: Nome do(s) artista(s) da música  \n",
        "**artist_count**: Número de artistas que contribuíram para a música  \n",
        "**released_year**: Ano em que a música foi lançada  \n",
        "**released_month**: Mês em que a música foi lançada  \n",
        "**released_day**: Dia do mês em que a música foi lançada  \n",
        "**in_spotify_playlists**: Número de listas de reprodução do Spotify nas quais a música está incluída  \n",
        "**in_spotify_charts**: Presença e posição da música nas gráficos do Spotify  \n",
        "**streams**: Número total de reproduções no Spotify  \n",
        "**in_apple_playlists**: Número de listas de reprodução do Apple Music nas quais a música está incluída  \n",
        "**in_apple_charts**: Presença e posição da música nas gráficos do Apple Music  \n",
        "**in_deezer_playlists**: Número de listas de reprodução do Deezer nas quais a música está incluída  \n",
        "**in_deezer_charts**: Presença e posição da música nas gráficos do Deezer  \n",
        "**in_shazam_charts**: Presença e posição da música nas gráficos do Shazam  \n",
        "**bpm**: Batidas por minuto, medida do ritmo da música  \n",
        "**key**: Tonalidade da música  \n",
        "**mode**: Modo da música (maior ou menor)  \n",
        "**danceability_%**: Porcentagem que indica o quão adequada a música é para dançar  \n",
        "**valence_%**: Positividade do conteúdo musical da música  \n",
        "**energy_%**: Nível percebido de energia da música  \n",
        "**acousticness_%**: Quantidade de som acústico na música  \n",
        "**instrumentalness_%**: Quantidade de conteúdo instrumental na música  \n",
        "**liveness_%**: Presença de elementos de performance ao vivo  \n",
        "**speechiness_%**: Quantidade de palavras faladas na música  \n"
      ]
    },
    {
      "cell_type": "markdown",
      "metadata": {
        "id": "bNrpTqz_1lLt"
      },
      "source": [
        "### Possíveis usos para os dados\n",
        "\n",
        "A análise musical permite explorar padrões nas características de áudio para entender as tendências e preferências em músicas populares. Além disso, é possível comparar a popularidade de uma música em diversas plataformas de música, o que nos ajuda a compreender seu alcance. Ao analisar o envolvimento do artista e suas características, podemos entender como isso se relaciona com o sucesso de uma música. Também é importante identificar mudanças ao longo do tempo nas características musicais e nas preferências do público. Por fim, investigar como as músicas performam em diferentes serviços de streaming nos fornece insights valiosos sobre sua presença em várias plataformas. Essas análises combinadas nos ajudam a compreender melhor a dinâmica da indústria da música e as escolhas dos ouvintes."
      ]
    },
    {
      "cell_type": "markdown",
      "metadata": {
        "id": "e6DrJL7w2dRn"
      },
      "source": [
        "## Obtendo dados e exploração inicial"
      ]
    },
    {
      "cell_type": "code",
      "execution_count": 3,
      "metadata": {
        "id": "gQekdcRCvuf0"
      },
      "outputs": [],
      "source": [
        "# Importando bibliotecas\n",
        "import pandas as pd\n",
        "import plotly.express as px\n",
        "import numpy as np\n",
        "import seaborn as sns\n",
        "import matplotlib.pyplot as plt\n",
        "\n",
        "from wordcloud import WordCloud\n",
        "from sklearn.decomposition import PCA\n",
        "from sklearn.preprocessing import StandardScaler"
      ]
    },
    {
      "cell_type": "code",
      "execution_count": 4,
      "metadata": {
        "id": "ErBhOlQ6x16y"
      },
      "outputs": [],
      "source": [
        "# Obtendo conjunto de dados\n",
        "df = pd.read_csv('https://raw.githubusercontent.com/EduardoDuX/DataViz/main/spotify-2023.csv', encoding='latin-1')"
      ]
    },
    {
      "cell_type": "code",
      "execution_count": 5,
      "metadata": {
        "colab": {
          "base_uri": "https://localhost:8080/",
          "height": 342
        },
        "id": "iob7Hjw7ykfO",
        "outputId": "a11ebbe8-9102-424b-e6a5-753fbd7c5604"
      },
      "outputs": [
        {
          "data": {
            "text/html": [
              "<div>\n",
              "<style scoped>\n",
              "    .dataframe tbody tr th:only-of-type {\n",
              "        vertical-align: middle;\n",
              "    }\n",
              "\n",
              "    .dataframe tbody tr th {\n",
              "        vertical-align: top;\n",
              "    }\n",
              "\n",
              "    .dataframe thead th {\n",
              "        text-align: right;\n",
              "    }\n",
              "</style>\n",
              "<table border=\"1\" class=\"dataframe\">\n",
              "  <thead>\n",
              "    <tr style=\"text-align: right;\">\n",
              "      <th></th>\n",
              "      <th>track_name</th>\n",
              "      <th>artist(s)_name</th>\n",
              "      <th>artist_count</th>\n",
              "      <th>released_year</th>\n",
              "      <th>released_month</th>\n",
              "      <th>released_day</th>\n",
              "      <th>in_spotify_playlists</th>\n",
              "      <th>in_spotify_charts</th>\n",
              "      <th>streams</th>\n",
              "      <th>in_apple_playlists</th>\n",
              "      <th>...</th>\n",
              "      <th>bpm</th>\n",
              "      <th>key</th>\n",
              "      <th>mode</th>\n",
              "      <th>danceability_%</th>\n",
              "      <th>valence_%</th>\n",
              "      <th>energy_%</th>\n",
              "      <th>acousticness_%</th>\n",
              "      <th>instrumentalness_%</th>\n",
              "      <th>liveness_%</th>\n",
              "      <th>speechiness_%</th>\n",
              "    </tr>\n",
              "  </thead>\n",
              "  <tbody>\n",
              "    <tr>\n",
              "      <th>0</th>\n",
              "      <td>Seven (feat. Latto) (Explicit Ver.)</td>\n",
              "      <td>Latto, Jung Kook</td>\n",
              "      <td>2</td>\n",
              "      <td>2023</td>\n",
              "      <td>7</td>\n",
              "      <td>14</td>\n",
              "      <td>553</td>\n",
              "      <td>147</td>\n",
              "      <td>141381703</td>\n",
              "      <td>43</td>\n",
              "      <td>...</td>\n",
              "      <td>125</td>\n",
              "      <td>B</td>\n",
              "      <td>Major</td>\n",
              "      <td>80</td>\n",
              "      <td>89</td>\n",
              "      <td>83</td>\n",
              "      <td>31</td>\n",
              "      <td>0</td>\n",
              "      <td>8</td>\n",
              "      <td>4</td>\n",
              "    </tr>\n",
              "    <tr>\n",
              "      <th>1</th>\n",
              "      <td>LALA</td>\n",
              "      <td>Myke Towers</td>\n",
              "      <td>1</td>\n",
              "      <td>2023</td>\n",
              "      <td>3</td>\n",
              "      <td>23</td>\n",
              "      <td>1474</td>\n",
              "      <td>48</td>\n",
              "      <td>133716286</td>\n",
              "      <td>48</td>\n",
              "      <td>...</td>\n",
              "      <td>92</td>\n",
              "      <td>C#</td>\n",
              "      <td>Major</td>\n",
              "      <td>71</td>\n",
              "      <td>61</td>\n",
              "      <td>74</td>\n",
              "      <td>7</td>\n",
              "      <td>0</td>\n",
              "      <td>10</td>\n",
              "      <td>4</td>\n",
              "    </tr>\n",
              "    <tr>\n",
              "      <th>2</th>\n",
              "      <td>vampire</td>\n",
              "      <td>Olivia Rodrigo</td>\n",
              "      <td>1</td>\n",
              "      <td>2023</td>\n",
              "      <td>6</td>\n",
              "      <td>30</td>\n",
              "      <td>1397</td>\n",
              "      <td>113</td>\n",
              "      <td>140003974</td>\n",
              "      <td>94</td>\n",
              "      <td>...</td>\n",
              "      <td>138</td>\n",
              "      <td>F</td>\n",
              "      <td>Major</td>\n",
              "      <td>51</td>\n",
              "      <td>32</td>\n",
              "      <td>53</td>\n",
              "      <td>17</td>\n",
              "      <td>0</td>\n",
              "      <td>31</td>\n",
              "      <td>6</td>\n",
              "    </tr>\n",
              "    <tr>\n",
              "      <th>3</th>\n",
              "      <td>Cruel Summer</td>\n",
              "      <td>Taylor Swift</td>\n",
              "      <td>1</td>\n",
              "      <td>2019</td>\n",
              "      <td>8</td>\n",
              "      <td>23</td>\n",
              "      <td>7858</td>\n",
              "      <td>100</td>\n",
              "      <td>800840817</td>\n",
              "      <td>116</td>\n",
              "      <td>...</td>\n",
              "      <td>170</td>\n",
              "      <td>A</td>\n",
              "      <td>Major</td>\n",
              "      <td>55</td>\n",
              "      <td>58</td>\n",
              "      <td>72</td>\n",
              "      <td>11</td>\n",
              "      <td>0</td>\n",
              "      <td>11</td>\n",
              "      <td>15</td>\n",
              "    </tr>\n",
              "    <tr>\n",
              "      <th>4</th>\n",
              "      <td>WHERE SHE GOES</td>\n",
              "      <td>Bad Bunny</td>\n",
              "      <td>1</td>\n",
              "      <td>2023</td>\n",
              "      <td>5</td>\n",
              "      <td>18</td>\n",
              "      <td>3133</td>\n",
              "      <td>50</td>\n",
              "      <td>303236322</td>\n",
              "      <td>84</td>\n",
              "      <td>...</td>\n",
              "      <td>144</td>\n",
              "      <td>A</td>\n",
              "      <td>Minor</td>\n",
              "      <td>65</td>\n",
              "      <td>23</td>\n",
              "      <td>80</td>\n",
              "      <td>14</td>\n",
              "      <td>63</td>\n",
              "      <td>11</td>\n",
              "      <td>6</td>\n",
              "    </tr>\n",
              "  </tbody>\n",
              "</table>\n",
              "<p>5 rows × 24 columns</p>\n",
              "</div>"
            ],
            "text/plain": [
              "                            track_name    artist(s)_name  artist_count  \\\n",
              "0  Seven (feat. Latto) (Explicit Ver.)  Latto, Jung Kook             2   \n",
              "1                                 LALA       Myke Towers             1   \n",
              "2                              vampire    Olivia Rodrigo             1   \n",
              "3                         Cruel Summer      Taylor Swift             1   \n",
              "4                       WHERE SHE GOES         Bad Bunny             1   \n",
              "\n",
              "   released_year  released_month  released_day  in_spotify_playlists  \\\n",
              "0           2023               7            14                   553   \n",
              "1           2023               3            23                  1474   \n",
              "2           2023               6            30                  1397   \n",
              "3           2019               8            23                  7858   \n",
              "4           2023               5            18                  3133   \n",
              "\n",
              "   in_spotify_charts    streams  in_apple_playlists  ...  bpm key   mode  \\\n",
              "0                147  141381703                  43  ...  125   B  Major   \n",
              "1                 48  133716286                  48  ...   92  C#  Major   \n",
              "2                113  140003974                  94  ...  138   F  Major   \n",
              "3                100  800840817                 116  ...  170   A  Major   \n",
              "4                 50  303236322                  84  ...  144   A  Minor   \n",
              "\n",
              "  danceability_%  valence_% energy_% acousticness_%  instrumentalness_%  \\\n",
              "0             80         89       83             31                   0   \n",
              "1             71         61       74              7                   0   \n",
              "2             51         32       53             17                   0   \n",
              "3             55         58       72             11                   0   \n",
              "4             65         23       80             14                  63   \n",
              "\n",
              "   liveness_%  speechiness_%  \n",
              "0           8              4  \n",
              "1          10              4  \n",
              "2          31              6  \n",
              "3          11             15  \n",
              "4          11              6  \n",
              "\n",
              "[5 rows x 24 columns]"
            ]
          },
          "execution_count": 5,
          "metadata": {},
          "output_type": "execute_result"
        }
      ],
      "source": [
        "# Visualização em formato de tabela\n",
        "df.head(5)"
      ]
    },
    {
      "cell_type": "code",
      "execution_count": 6,
      "metadata": {
        "id": "L04Z4OJyMiI4"
      },
      "outputs": [],
      "source": [
        "%%capture\n",
        "stream = df['streams'].apply(lambda x: x.isnumeric())\n",
        "df = df[stream]\n",
        "df['streams'] = df['streams'].astype('int64')"
      ]
    },
    {
      "cell_type": "code",
      "execution_count": 7,
      "metadata": {
        "colab": {
          "base_uri": "https://localhost:8080/",
          "height": 320
        },
        "id": "mmvlWRHrypUl",
        "outputId": "750bce40-c3fb-4faf-fce0-ad4035693362"
      },
      "outputs": [
        {
          "data": {
            "text/html": [
              "<div>\n",
              "<style scoped>\n",
              "    .dataframe tbody tr th:only-of-type {\n",
              "        vertical-align: middle;\n",
              "    }\n",
              "\n",
              "    .dataframe tbody tr th {\n",
              "        vertical-align: top;\n",
              "    }\n",
              "\n",
              "    .dataframe thead th {\n",
              "        text-align: right;\n",
              "    }\n",
              "</style>\n",
              "<table border=\"1\" class=\"dataframe\">\n",
              "  <thead>\n",
              "    <tr style=\"text-align: right;\">\n",
              "      <th></th>\n",
              "      <th>artist_count</th>\n",
              "      <th>released_year</th>\n",
              "      <th>released_month</th>\n",
              "      <th>released_day</th>\n",
              "      <th>in_spotify_playlists</th>\n",
              "      <th>in_spotify_charts</th>\n",
              "      <th>streams</th>\n",
              "      <th>in_apple_playlists</th>\n",
              "      <th>in_apple_charts</th>\n",
              "      <th>in_deezer_charts</th>\n",
              "      <th>bpm</th>\n",
              "      <th>danceability_%</th>\n",
              "      <th>valence_%</th>\n",
              "      <th>energy_%</th>\n",
              "      <th>acousticness_%</th>\n",
              "      <th>instrumentalness_%</th>\n",
              "      <th>liveness_%</th>\n",
              "      <th>speechiness_%</th>\n",
              "    </tr>\n",
              "  </thead>\n",
              "  <tbody>\n",
              "    <tr>\n",
              "      <th>count</th>\n",
              "      <td>952.000000</td>\n",
              "      <td>952.000000</td>\n",
              "      <td>952.000000</td>\n",
              "      <td>952.000000</td>\n",
              "      <td>952.000000</td>\n",
              "      <td>952.000000</td>\n",
              "      <td>9.520000e+02</td>\n",
              "      <td>952.000000</td>\n",
              "      <td>952.000000</td>\n",
              "      <td>952.000000</td>\n",
              "      <td>952.000000</td>\n",
              "      <td>952.000000</td>\n",
              "      <td>952.000000</td>\n",
              "      <td>952.000000</td>\n",
              "      <td>952.000000</td>\n",
              "      <td>952.000000</td>\n",
              "      <td>952.000000</td>\n",
              "      <td>952.000000</td>\n",
              "    </tr>\n",
              "    <tr>\n",
              "      <th>mean</th>\n",
              "      <td>1.556723</td>\n",
              "      <td>2018.288866</td>\n",
              "      <td>6.038866</td>\n",
              "      <td>13.944328</td>\n",
              "      <td>5202.565126</td>\n",
              "      <td>12.022059</td>\n",
              "      <td>5.141374e+08</td>\n",
              "      <td>67.866597</td>\n",
              "      <td>51.963235</td>\n",
              "      <td>2.669118</td>\n",
              "      <td>122.553571</td>\n",
              "      <td>66.984244</td>\n",
              "      <td>51.406513</td>\n",
              "      <td>64.274160</td>\n",
              "      <td>27.078782</td>\n",
              "      <td>1.582983</td>\n",
              "      <td>18.214286</td>\n",
              "      <td>10.138655</td>\n",
              "    </tr>\n",
              "    <tr>\n",
              "      <th>std</th>\n",
              "      <td>0.893331</td>\n",
              "      <td>11.011397</td>\n",
              "      <td>3.564571</td>\n",
              "      <td>9.197223</td>\n",
              "      <td>7901.400683</td>\n",
              "      <td>19.582405</td>\n",
              "      <td>5.668569e+08</td>\n",
              "      <td>86.470591</td>\n",
              "      <td>50.628850</td>\n",
              "      <td>6.038152</td>\n",
              "      <td>28.069601</td>\n",
              "      <td>14.631282</td>\n",
              "      <td>23.480526</td>\n",
              "      <td>16.558517</td>\n",
              "      <td>26.001599</td>\n",
              "      <td>8.414064</td>\n",
              "      <td>13.718374</td>\n",
              "      <td>9.915399</td>\n",
              "    </tr>\n",
              "    <tr>\n",
              "      <th>min</th>\n",
              "      <td>1.000000</td>\n",
              "      <td>1930.000000</td>\n",
              "      <td>1.000000</td>\n",
              "      <td>1.000000</td>\n",
              "      <td>31.000000</td>\n",
              "      <td>0.000000</td>\n",
              "      <td>2.762000e+03</td>\n",
              "      <td>0.000000</td>\n",
              "      <td>0.000000</td>\n",
              "      <td>0.000000</td>\n",
              "      <td>65.000000</td>\n",
              "      <td>23.000000</td>\n",
              "      <td>4.000000</td>\n",
              "      <td>9.000000</td>\n",
              "      <td>0.000000</td>\n",
              "      <td>0.000000</td>\n",
              "      <td>3.000000</td>\n",
              "      <td>2.000000</td>\n",
              "    </tr>\n",
              "    <tr>\n",
              "      <th>25%</th>\n",
              "      <td>1.000000</td>\n",
              "      <td>2020.000000</td>\n",
              "      <td>3.000000</td>\n",
              "      <td>6.000000</td>\n",
              "      <td>874.500000</td>\n",
              "      <td>0.000000</td>\n",
              "      <td>1.416362e+08</td>\n",
              "      <td>13.000000</td>\n",
              "      <td>7.000000</td>\n",
              "      <td>0.000000</td>\n",
              "      <td>99.750000</td>\n",
              "      <td>57.000000</td>\n",
              "      <td>32.000000</td>\n",
              "      <td>53.000000</td>\n",
              "      <td>6.000000</td>\n",
              "      <td>0.000000</td>\n",
              "      <td>10.000000</td>\n",
              "      <td>4.000000</td>\n",
              "    </tr>\n",
              "    <tr>\n",
              "      <th>50%</th>\n",
              "      <td>1.000000</td>\n",
              "      <td>2022.000000</td>\n",
              "      <td>6.000000</td>\n",
              "      <td>13.000000</td>\n",
              "      <td>2216.500000</td>\n",
              "      <td>3.000000</td>\n",
              "      <td>2.905309e+08</td>\n",
              "      <td>34.000000</td>\n",
              "      <td>38.500000</td>\n",
              "      <td>0.000000</td>\n",
              "      <td>121.000000</td>\n",
              "      <td>69.000000</td>\n",
              "      <td>51.000000</td>\n",
              "      <td>66.000000</td>\n",
              "      <td>18.000000</td>\n",
              "      <td>0.000000</td>\n",
              "      <td>12.000000</td>\n",
              "      <td>6.000000</td>\n",
              "    </tr>\n",
              "    <tr>\n",
              "      <th>75%</th>\n",
              "      <td>2.000000</td>\n",
              "      <td>2022.000000</td>\n",
              "      <td>9.000000</td>\n",
              "      <td>22.000000</td>\n",
              "      <td>5573.750000</td>\n",
              "      <td>16.000000</td>\n",
              "      <td>6.738690e+08</td>\n",
              "      <td>88.000000</td>\n",
              "      <td>87.000000</td>\n",
              "      <td>2.000000</td>\n",
              "      <td>140.250000</td>\n",
              "      <td>78.000000</td>\n",
              "      <td>70.000000</td>\n",
              "      <td>77.000000</td>\n",
              "      <td>43.000000</td>\n",
              "      <td>0.000000</td>\n",
              "      <td>24.000000</td>\n",
              "      <td>11.000000</td>\n",
              "    </tr>\n",
              "    <tr>\n",
              "      <th>max</th>\n",
              "      <td>8.000000</td>\n",
              "      <td>2023.000000</td>\n",
              "      <td>12.000000</td>\n",
              "      <td>31.000000</td>\n",
              "      <td>52898.000000</td>\n",
              "      <td>147.000000</td>\n",
              "      <td>3.703895e+09</td>\n",
              "      <td>672.000000</td>\n",
              "      <td>275.000000</td>\n",
              "      <td>58.000000</td>\n",
              "      <td>206.000000</td>\n",
              "      <td>96.000000</td>\n",
              "      <td>97.000000</td>\n",
              "      <td>97.000000</td>\n",
              "      <td>97.000000</td>\n",
              "      <td>91.000000</td>\n",
              "      <td>97.000000</td>\n",
              "      <td>64.000000</td>\n",
              "    </tr>\n",
              "  </tbody>\n",
              "</table>\n",
              "</div>"
            ],
            "text/plain": [
              "       artist_count  released_year  released_month  released_day  \\\n",
              "count    952.000000     952.000000      952.000000    952.000000   \n",
              "mean       1.556723    2018.288866        6.038866     13.944328   \n",
              "std        0.893331      11.011397        3.564571      9.197223   \n",
              "min        1.000000    1930.000000        1.000000      1.000000   \n",
              "25%        1.000000    2020.000000        3.000000      6.000000   \n",
              "50%        1.000000    2022.000000        6.000000     13.000000   \n",
              "75%        2.000000    2022.000000        9.000000     22.000000   \n",
              "max        8.000000    2023.000000       12.000000     31.000000   \n",
              "\n",
              "       in_spotify_playlists  in_spotify_charts       streams  \\\n",
              "count            952.000000         952.000000  9.520000e+02   \n",
              "mean            5202.565126          12.022059  5.141374e+08   \n",
              "std             7901.400683          19.582405  5.668569e+08   \n",
              "min               31.000000           0.000000  2.762000e+03   \n",
              "25%              874.500000           0.000000  1.416362e+08   \n",
              "50%             2216.500000           3.000000  2.905309e+08   \n",
              "75%             5573.750000          16.000000  6.738690e+08   \n",
              "max            52898.000000         147.000000  3.703895e+09   \n",
              "\n",
              "       in_apple_playlists  in_apple_charts  in_deezer_charts         bpm  \\\n",
              "count          952.000000       952.000000        952.000000  952.000000   \n",
              "mean            67.866597        51.963235          2.669118  122.553571   \n",
              "std             86.470591        50.628850          6.038152   28.069601   \n",
              "min              0.000000         0.000000          0.000000   65.000000   \n",
              "25%             13.000000         7.000000          0.000000   99.750000   \n",
              "50%             34.000000        38.500000          0.000000  121.000000   \n",
              "75%             88.000000        87.000000          2.000000  140.250000   \n",
              "max            672.000000       275.000000         58.000000  206.000000   \n",
              "\n",
              "       danceability_%   valence_%    energy_%  acousticness_%  \\\n",
              "count      952.000000  952.000000  952.000000      952.000000   \n",
              "mean        66.984244   51.406513   64.274160       27.078782   \n",
              "std         14.631282   23.480526   16.558517       26.001599   \n",
              "min         23.000000    4.000000    9.000000        0.000000   \n",
              "25%         57.000000   32.000000   53.000000        6.000000   \n",
              "50%         69.000000   51.000000   66.000000       18.000000   \n",
              "75%         78.000000   70.000000   77.000000       43.000000   \n",
              "max         96.000000   97.000000   97.000000       97.000000   \n",
              "\n",
              "       instrumentalness_%  liveness_%  speechiness_%  \n",
              "count          952.000000  952.000000     952.000000  \n",
              "mean             1.582983   18.214286      10.138655  \n",
              "std              8.414064   13.718374       9.915399  \n",
              "min              0.000000    3.000000       2.000000  \n",
              "25%              0.000000   10.000000       4.000000  \n",
              "50%              0.000000   12.000000       6.000000  \n",
              "75%              0.000000   24.000000      11.000000  \n",
              "max             91.000000   97.000000      64.000000  "
            ]
          },
          "execution_count": 7,
          "metadata": {},
          "output_type": "execute_result"
        }
      ],
      "source": [
        "# Algumas medidas de posição e dispersão para as variáveis numéricas\n",
        "df.describe()"
      ]
    },
    {
      "cell_type": "markdown",
      "metadata": {
        "id": "tINoyA8Q2X1H"
      },
      "source": [
        "## Visualizações dos dados"
      ]
    },
    {
      "cell_type": "code",
      "execution_count": 8,
      "metadata": {
        "id": "oMEewqoZLOyv"
      },
      "outputs": [],
      "source": [
        "a = df[['released_year', 'key', 'in_spotify_playlists']].groupby(['released_year', 'key']).sum().reset_index()"
      ]
    },
    {
      "cell_type": "markdown",
      "metadata": {
        "id": "Ycy3VDgWWkTu"
      },
      "source": [
        "Existe alguma diferença entre a tonalidade das músicas mais antigas que continuam populares e as músicas populares lançadas nos últimos anos? Dentre as músicas populares, a maioria delas são recentes? Esses questionamentos podem ser verificados com um gráfico de barras, em que no eixo Y há a quantia de playlists em que as músicas de um ano se encontram, e no eixo X há o ano de lançamento das músicas, adicionalmente, a porcentagem de músicas de cada tonalidade será indicada pela cor das barras."
      ]
    },
    {
      "cell_type": "code",
      "execution_count": 9,
      "metadata": {
        "colab": {
          "base_uri": "https://localhost:8080/",
          "height": 542
        },
        "id": "glGYVSjz2WMU",
        "outputId": "3508cc2a-a0c7-4d85-9478-de5b1176d5a7"
      },
      "outputs": [
        {
          "data": {
            "application/vnd.plotly.v1+json": {
              "config": {
                "plotlyServerURL": "https://plot.ly"
              },
              "data": [
                {
                  "alignmentgroup": "True",
                  "hovertemplate": "Tonalidade=F#<br>Ano de lançamento=%{x}<br>Playlists do Spotify=%{y}<extra></extra>",
                  "legendgroup": "F#",
                  "marker": {
                    "color": "#636efa",
                    "pattern": {
                      "shape": ""
                    }
                  },
                  "name": "F#",
                  "offsetgroup": "F#",
                  "orientation": "v",
                  "showlegend": true,
                  "textposition": "auto",
                  "type": "bar",
                  "x": [
                    1930,
                    1959,
                    1984,
                    1987,
                    1999,
                    2002,
                    2010,
                    2011,
                    2013,
                    2014,
                    2017,
                    2019,
                    2020,
                    2021,
                    2022,
                    2023
                  ],
                  "xaxis": "x",
                  "y": [
                    323,
                    3299,
                    44927,
                    41231,
                    17115,
                    30427,
                    492,
                    9577,
                    52898,
                    17354,
                    23818,
                    27134,
                    34940,
                    54528,
                    64164,
                    17719
                  ],
                  "yaxis": "y"
                },
                {
                  "alignmentgroup": "True",
                  "hovertemplate": "Tonalidade=A<br>Ano de lançamento=%{x}<br>Playlists do Spotify=%{y}<extra></extra>",
                  "legendgroup": "A",
                  "marker": {
                    "color": "#EF553B",
                    "pattern": {
                      "shape": ""
                    }
                  },
                  "name": "A",
                  "offsetgroup": "A",
                  "orientation": "v",
                  "showlegend": true,
                  "textposition": "auto",
                  "type": "bar",
                  "x": [
                    1942,
                    1982,
                    1986,
                    2003,
                    2004,
                    2011,
                    2012,
                    2015,
                    2016,
                    2017,
                    2018,
                    2019,
                    2020,
                    2021,
                    2022,
                    2023
                  ],
                  "xaxis": "x",
                  "y": [
                    11940,
                    2020,
                    888,
                    20111,
                    20015,
                    3909,
                    641,
                    3006,
                    31648,
                    32580,
                    3659,
                    34167,
                    4014,
                    27733,
                    45725,
                    19646
                  ],
                  "yaxis": "y"
                },
                {
                  "alignmentgroup": "True",
                  "hovertemplate": "Tonalidade=C#<br>Ano de lançamento=%{x}<br>Playlists do Spotify=%{y}<extra></extra>",
                  "legendgroup": "C#",
                  "marker": {
                    "color": "#00cc96",
                    "pattern": {
                      "shape": ""
                    }
                  },
                  "name": "C#",
                  "offsetgroup": "C#",
                  "orientation": "v",
                  "showlegend": true,
                  "textposition": "auto",
                  "type": "bar",
                  "x": [
                    1946,
                    1959,
                    1975,
                    1983,
                    1984,
                    1991,
                    2000,
                    2002,
                    2003,
                    2010,
                    2011,
                    2013,
                    2016,
                    2017,
                    2018,
                    2019,
                    2020,
                    2021,
                    2022,
                    2023
                  ],
                  "xaxis": "x",
                  "y": [
                    11500,
                    6512,
                    31123,
                    22439,
                    1087,
                    49991,
                    10826,
                    22923,
                    51979,
                    7109,
                    57176,
                    53331,
                    48208,
                    95047,
                    34820,
                    43899,
                    16535,
                    99811,
                    132305,
                    20655
                  ],
                  "yaxis": "y"
                },
                {
                  "alignmentgroup": "True",
                  "hovertemplate": "Tonalidade=D<br>Ano de lançamento=%{x}<br>Playlists do Spotify=%{y}<extra></extra>",
                  "legendgroup": "D",
                  "marker": {
                    "color": "#ab63fa",
                    "pattern": {
                      "shape": ""
                    }
                  },
                  "name": "D",
                  "offsetgroup": "D",
                  "orientation": "v",
                  "showlegend": true,
                  "textposition": "auto",
                  "type": "bar",
                  "x": [
                    1950,
                    1957,
                    1963,
                    1970,
                    1971,
                    2002,
                    2011,
                    2013,
                    2014,
                    2015,
                    2016,
                    2018,
                    2019,
                    2020,
                    2021,
                    2022,
                    2023
                  ],
                  "xaxis": "x",
                  "y": [
                    10585,
                    10326,
                    10114,
                    3788,
                    10829,
                    32502,
                    30202,
                    74276,
                    40862,
                    24575,
                    12864,
                    28041,
                    18552,
                    13252,
                    49222,
                    62608,
                    23079
                  ],
                  "yaxis": "y"
                },
                {
                  "alignmentgroup": "True",
                  "hovertemplate": "Tonalidade=G#<br>Ano de lançamento=%{x}<br>Playlists do Spotify=%{y}<extra></extra>",
                  "legendgroup": "G#",
                  "marker": {
                    "color": "#FFA15A",
                    "pattern": {
                      "shape": ""
                    }
                  },
                  "name": "G#",
                  "offsetgroup": "G#",
                  "orientation": "v",
                  "showlegend": true,
                  "textposition": "auto",
                  "type": "bar",
                  "x": [
                    1957,
                    1958,
                    1991,
                    1995,
                    1999,
                    2010,
                    2013,
                    2014,
                    2015,
                    2016,
                    2017,
                    2019,
                    2020,
                    2021,
                    2022,
                    2023
                  ],
                  "xaxis": "x",
                  "y": [
                    4326,
                    14994,
                    9514,
                    10624,
                    19067,
                    40248,
                    33817,
                    14048,
                    3045,
                    34550,
                    19338,
                    20368,
                    26640,
                    58466,
                    96458,
                    10892
                  ],
                  "yaxis": "y"
                },
                {
                  "alignmentgroup": "True",
                  "hovertemplate": "Tonalidade=G<br>Ano de lançamento=%{x}<br>Playlists do Spotify=%{y}<extra></extra>",
                  "legendgroup": "G",
                  "marker": {
                    "color": "#19d3f3",
                    "pattern": {
                      "shape": ""
                    }
                  },
                  "name": "G",
                  "offsetgroup": "G",
                  "orientation": "v",
                  "showlegend": true,
                  "textposition": "auto",
                  "type": "bar",
                  "x": [
                    1958,
                    1963,
                    1982,
                    1985,
                    1992,
                    1994,
                    1995,
                    1996,
                    2002,
                    2011,
                    2012,
                    2013,
                    2014,
                    2016,
                    2017,
                    2018,
                    2019,
                    2020,
                    2021,
                    2022,
                    2023
                  ],
                  "xaxis": "x",
                  "y": [
                    14902,
                    8879,
                    5328,
                    41751,
                    36724,
                    25653,
                    18773,
                    1370,
                    21081,
                    7655,
                    8448,
                    9408,
                    21335,
                    36906,
                    4204,
                    23494,
                    6805,
                    12854,
                    41146,
                    111356,
                    18712
                  ],
                  "yaxis": "y"
                },
                {
                  "alignmentgroup": "True",
                  "hovertemplate": "Tonalidade=D#<br>Ano de lançamento=%{x}<br>Playlists do Spotify=%{y}<extra></extra>",
                  "legendgroup": "D#",
                  "marker": {
                    "color": "#FF6692",
                    "pattern": {
                      "shape": ""
                    }
                  },
                  "name": "D#",
                  "offsetgroup": "D#",
                  "orientation": "v",
                  "showlegend": true,
                  "textposition": "auto",
                  "type": "bar",
                  "x": [
                    1963,
                    1999,
                    2000,
                    2012,
                    2015,
                    2018,
                    2019,
                    2020,
                    2021,
                    2022,
                    2023
                  ],
                  "xaxis": "x",
                  "y": [
                    9122,
                    31762,
                    25065,
                    26694,
                    13915,
                    10211,
                    13669,
                    12643,
                    22809,
                    30288,
                    6050
                  ],
                  "yaxis": "y"
                },
                {
                  "alignmentgroup": "True",
                  "hovertemplate": "Tonalidade=F<br>Ano de lançamento=%{x}<br>Playlists do Spotify=%{y}<extra></extra>",
                  "legendgroup": "F",
                  "marker": {
                    "color": "#B6E880",
                    "pattern": {
                      "shape": ""
                    }
                  },
                  "name": "F",
                  "offsetgroup": "F",
                  "orientation": "v",
                  "showlegend": true,
                  "textposition": "auto",
                  "type": "bar",
                  "x": [
                    1973,
                    1997,
                    2000,
                    2002,
                    2005,
                    2008,
                    2010,
                    2012,
                    2013,
                    2014,
                    2015,
                    2016,
                    2017,
                    2019,
                    2020,
                    2021,
                    2022,
                    2023
                  ],
                  "xaxis": "x",
                  "y": [
                    168,
                    472,
                    20763,
                    30992,
                    2577,
                    33898,
                    21106,
                    1622,
                    33783,
                    35265,
                    9243,
                    10050,
                    13091,
                    16709,
                    25222,
                    47448,
                    71570,
                    24665
                  ],
                  "yaxis": "y"
                },
                {
                  "alignmentgroup": "True",
                  "hovertemplate": "Tonalidade=B<br>Ano de lançamento=%{x}<br>Playlists do Spotify=%{y}<extra></extra>",
                  "legendgroup": "B",
                  "marker": {
                    "color": "#FF97FF",
                    "pattern": {
                      "shape": ""
                    }
                  },
                  "name": "B",
                  "offsetgroup": "B",
                  "orientation": "v",
                  "showlegend": true,
                  "textposition": "auto",
                  "type": "bar",
                  "x": [
                    1979,
                    1984,
                    1998,
                    1999,
                    2010,
                    2016,
                    2017,
                    2019,
                    2020,
                    2021,
                    2022,
                    2023
                  ],
                  "xaxis": "x",
                  "y": [
                    1685,
                    22153,
                    13101,
                    65324,
                    13801,
                    2948,
                    54658,
                    53193,
                    35298,
                    40888,
                    58906,
                    21149
                  ],
                  "yaxis": "y"
                },
                {
                  "alignmentgroup": "True",
                  "hovertemplate": "Tonalidade=A#<br>Ano de lançamento=%{x}<br>Playlists do Spotify=%{y}<extra></extra>",
                  "legendgroup": "A#",
                  "marker": {
                    "color": "#FECB52",
                    "pattern": {
                      "shape": ""
                    }
                  },
                  "name": "A#",
                  "offsetgroup": "A#",
                  "orientation": "v",
                  "showlegend": true,
                  "textposition": "auto",
                  "type": "bar",
                  "x": [
                    1985,
                    2004,
                    2008,
                    2012,
                    2014,
                    2015,
                    2016,
                    2017,
                    2018,
                    2020,
                    2021,
                    2022,
                    2023
                  ],
                  "xaxis": "x",
                  "y": [
                    21811,
                    2954,
                    17504,
                    45912,
                    28700,
                    9771,
                    15722,
                    18986,
                    4188,
                    6955,
                    35444,
                    75372,
                    5177
                  ],
                  "yaxis": "y"
                },
                {
                  "alignmentgroup": "True",
                  "hovertemplate": "Tonalidade=E<br>Ano de lançamento=%{x}<br>Playlists do Spotify=%{y}<extra></extra>",
                  "legendgroup": "E",
                  "marker": {
                    "color": "#636efa",
                    "pattern": {
                      "shape": ""
                    }
                  },
                  "name": "E",
                  "offsetgroup": "E",
                  "orientation": "v",
                  "showlegend": true,
                  "textposition": "auto",
                  "type": "bar",
                  "x": [
                    1986,
                    2002,
                    2004,
                    2011,
                    2012,
                    2013,
                    2014,
                    2015,
                    2016,
                    2017,
                    2019,
                    2020,
                    2021,
                    2022,
                    2023
                  ],
                  "xaxis": "x",
                  "y": [
                    6080,
                    7615,
                    12985,
                    12353,
                    59306,
                    23804,
                    18778,
                    22730,
                    4972,
                    17296,
                    28301,
                    21910,
                    18893,
                    58441,
                    6967
                  ],
                  "yaxis": "y"
                }
              ],
              "layout": {
                "barmode": "relative",
                "legend": {
                  "title": {
                    "text": "Tonalidade"
                  },
                  "tracegroupgap": 0
                },
                "template": {
                  "data": {
                    "bar": [
                      {
                        "error_x": {
                          "color": "#2a3f5f"
                        },
                        "error_y": {
                          "color": "#2a3f5f"
                        },
                        "marker": {
                          "line": {
                            "color": "#E5ECF6",
                            "width": 0.5
                          },
                          "pattern": {
                            "fillmode": "overlay",
                            "size": 10,
                            "solidity": 0.2
                          }
                        },
                        "type": "bar"
                      }
                    ],
                    "barpolar": [
                      {
                        "marker": {
                          "line": {
                            "color": "#E5ECF6",
                            "width": 0.5
                          },
                          "pattern": {
                            "fillmode": "overlay",
                            "size": 10,
                            "solidity": 0.2
                          }
                        },
                        "type": "barpolar"
                      }
                    ],
                    "carpet": [
                      {
                        "aaxis": {
                          "endlinecolor": "#2a3f5f",
                          "gridcolor": "white",
                          "linecolor": "white",
                          "minorgridcolor": "white",
                          "startlinecolor": "#2a3f5f"
                        },
                        "baxis": {
                          "endlinecolor": "#2a3f5f",
                          "gridcolor": "white",
                          "linecolor": "white",
                          "minorgridcolor": "white",
                          "startlinecolor": "#2a3f5f"
                        },
                        "type": "carpet"
                      }
                    ],
                    "choropleth": [
                      {
                        "colorbar": {
                          "outlinewidth": 0,
                          "ticks": ""
                        },
                        "type": "choropleth"
                      }
                    ],
                    "contour": [
                      {
                        "colorbar": {
                          "outlinewidth": 0,
                          "ticks": ""
                        },
                        "colorscale": [
                          [
                            0,
                            "#0d0887"
                          ],
                          [
                            0.1111111111111111,
                            "#46039f"
                          ],
                          [
                            0.2222222222222222,
                            "#7201a8"
                          ],
                          [
                            0.3333333333333333,
                            "#9c179e"
                          ],
                          [
                            0.4444444444444444,
                            "#bd3786"
                          ],
                          [
                            0.5555555555555556,
                            "#d8576b"
                          ],
                          [
                            0.6666666666666666,
                            "#ed7953"
                          ],
                          [
                            0.7777777777777778,
                            "#fb9f3a"
                          ],
                          [
                            0.8888888888888888,
                            "#fdca26"
                          ],
                          [
                            1,
                            "#f0f921"
                          ]
                        ],
                        "type": "contour"
                      }
                    ],
                    "contourcarpet": [
                      {
                        "colorbar": {
                          "outlinewidth": 0,
                          "ticks": ""
                        },
                        "type": "contourcarpet"
                      }
                    ],
                    "heatmap": [
                      {
                        "colorbar": {
                          "outlinewidth": 0,
                          "ticks": ""
                        },
                        "colorscale": [
                          [
                            0,
                            "#0d0887"
                          ],
                          [
                            0.1111111111111111,
                            "#46039f"
                          ],
                          [
                            0.2222222222222222,
                            "#7201a8"
                          ],
                          [
                            0.3333333333333333,
                            "#9c179e"
                          ],
                          [
                            0.4444444444444444,
                            "#bd3786"
                          ],
                          [
                            0.5555555555555556,
                            "#d8576b"
                          ],
                          [
                            0.6666666666666666,
                            "#ed7953"
                          ],
                          [
                            0.7777777777777778,
                            "#fb9f3a"
                          ],
                          [
                            0.8888888888888888,
                            "#fdca26"
                          ],
                          [
                            1,
                            "#f0f921"
                          ]
                        ],
                        "type": "heatmap"
                      }
                    ],
                    "heatmapgl": [
                      {
                        "colorbar": {
                          "outlinewidth": 0,
                          "ticks": ""
                        },
                        "colorscale": [
                          [
                            0,
                            "#0d0887"
                          ],
                          [
                            0.1111111111111111,
                            "#46039f"
                          ],
                          [
                            0.2222222222222222,
                            "#7201a8"
                          ],
                          [
                            0.3333333333333333,
                            "#9c179e"
                          ],
                          [
                            0.4444444444444444,
                            "#bd3786"
                          ],
                          [
                            0.5555555555555556,
                            "#d8576b"
                          ],
                          [
                            0.6666666666666666,
                            "#ed7953"
                          ],
                          [
                            0.7777777777777778,
                            "#fb9f3a"
                          ],
                          [
                            0.8888888888888888,
                            "#fdca26"
                          ],
                          [
                            1,
                            "#f0f921"
                          ]
                        ],
                        "type": "heatmapgl"
                      }
                    ],
                    "histogram": [
                      {
                        "marker": {
                          "pattern": {
                            "fillmode": "overlay",
                            "size": 10,
                            "solidity": 0.2
                          }
                        },
                        "type": "histogram"
                      }
                    ],
                    "histogram2d": [
                      {
                        "colorbar": {
                          "outlinewidth": 0,
                          "ticks": ""
                        },
                        "colorscale": [
                          [
                            0,
                            "#0d0887"
                          ],
                          [
                            0.1111111111111111,
                            "#46039f"
                          ],
                          [
                            0.2222222222222222,
                            "#7201a8"
                          ],
                          [
                            0.3333333333333333,
                            "#9c179e"
                          ],
                          [
                            0.4444444444444444,
                            "#bd3786"
                          ],
                          [
                            0.5555555555555556,
                            "#d8576b"
                          ],
                          [
                            0.6666666666666666,
                            "#ed7953"
                          ],
                          [
                            0.7777777777777778,
                            "#fb9f3a"
                          ],
                          [
                            0.8888888888888888,
                            "#fdca26"
                          ],
                          [
                            1,
                            "#f0f921"
                          ]
                        ],
                        "type": "histogram2d"
                      }
                    ],
                    "histogram2dcontour": [
                      {
                        "colorbar": {
                          "outlinewidth": 0,
                          "ticks": ""
                        },
                        "colorscale": [
                          [
                            0,
                            "#0d0887"
                          ],
                          [
                            0.1111111111111111,
                            "#46039f"
                          ],
                          [
                            0.2222222222222222,
                            "#7201a8"
                          ],
                          [
                            0.3333333333333333,
                            "#9c179e"
                          ],
                          [
                            0.4444444444444444,
                            "#bd3786"
                          ],
                          [
                            0.5555555555555556,
                            "#d8576b"
                          ],
                          [
                            0.6666666666666666,
                            "#ed7953"
                          ],
                          [
                            0.7777777777777778,
                            "#fb9f3a"
                          ],
                          [
                            0.8888888888888888,
                            "#fdca26"
                          ],
                          [
                            1,
                            "#f0f921"
                          ]
                        ],
                        "type": "histogram2dcontour"
                      }
                    ],
                    "mesh3d": [
                      {
                        "colorbar": {
                          "outlinewidth": 0,
                          "ticks": ""
                        },
                        "type": "mesh3d"
                      }
                    ],
                    "parcoords": [
                      {
                        "line": {
                          "colorbar": {
                            "outlinewidth": 0,
                            "ticks": ""
                          }
                        },
                        "type": "parcoords"
                      }
                    ],
                    "pie": [
                      {
                        "automargin": true,
                        "type": "pie"
                      }
                    ],
                    "scatter": [
                      {
                        "fillpattern": {
                          "fillmode": "overlay",
                          "size": 10,
                          "solidity": 0.2
                        },
                        "type": "scatter"
                      }
                    ],
                    "scatter3d": [
                      {
                        "line": {
                          "colorbar": {
                            "outlinewidth": 0,
                            "ticks": ""
                          }
                        },
                        "marker": {
                          "colorbar": {
                            "outlinewidth": 0,
                            "ticks": ""
                          }
                        },
                        "type": "scatter3d"
                      }
                    ],
                    "scattercarpet": [
                      {
                        "marker": {
                          "colorbar": {
                            "outlinewidth": 0,
                            "ticks": ""
                          }
                        },
                        "type": "scattercarpet"
                      }
                    ],
                    "scattergeo": [
                      {
                        "marker": {
                          "colorbar": {
                            "outlinewidth": 0,
                            "ticks": ""
                          }
                        },
                        "type": "scattergeo"
                      }
                    ],
                    "scattergl": [
                      {
                        "marker": {
                          "colorbar": {
                            "outlinewidth": 0,
                            "ticks": ""
                          }
                        },
                        "type": "scattergl"
                      }
                    ],
                    "scattermapbox": [
                      {
                        "marker": {
                          "colorbar": {
                            "outlinewidth": 0,
                            "ticks": ""
                          }
                        },
                        "type": "scattermapbox"
                      }
                    ],
                    "scatterpolar": [
                      {
                        "marker": {
                          "colorbar": {
                            "outlinewidth": 0,
                            "ticks": ""
                          }
                        },
                        "type": "scatterpolar"
                      }
                    ],
                    "scatterpolargl": [
                      {
                        "marker": {
                          "colorbar": {
                            "outlinewidth": 0,
                            "ticks": ""
                          }
                        },
                        "type": "scatterpolargl"
                      }
                    ],
                    "scatterternary": [
                      {
                        "marker": {
                          "colorbar": {
                            "outlinewidth": 0,
                            "ticks": ""
                          }
                        },
                        "type": "scatterternary"
                      }
                    ],
                    "surface": [
                      {
                        "colorbar": {
                          "outlinewidth": 0,
                          "ticks": ""
                        },
                        "colorscale": [
                          [
                            0,
                            "#0d0887"
                          ],
                          [
                            0.1111111111111111,
                            "#46039f"
                          ],
                          [
                            0.2222222222222222,
                            "#7201a8"
                          ],
                          [
                            0.3333333333333333,
                            "#9c179e"
                          ],
                          [
                            0.4444444444444444,
                            "#bd3786"
                          ],
                          [
                            0.5555555555555556,
                            "#d8576b"
                          ],
                          [
                            0.6666666666666666,
                            "#ed7953"
                          ],
                          [
                            0.7777777777777778,
                            "#fb9f3a"
                          ],
                          [
                            0.8888888888888888,
                            "#fdca26"
                          ],
                          [
                            1,
                            "#f0f921"
                          ]
                        ],
                        "type": "surface"
                      }
                    ],
                    "table": [
                      {
                        "cells": {
                          "fill": {
                            "color": "#EBF0F8"
                          },
                          "line": {
                            "color": "white"
                          }
                        },
                        "header": {
                          "fill": {
                            "color": "#C8D4E3"
                          },
                          "line": {
                            "color": "white"
                          }
                        },
                        "type": "table"
                      }
                    ]
                  },
                  "layout": {
                    "annotationdefaults": {
                      "arrowcolor": "#2a3f5f",
                      "arrowhead": 0,
                      "arrowwidth": 1
                    },
                    "autotypenumbers": "strict",
                    "coloraxis": {
                      "colorbar": {
                        "outlinewidth": 0,
                        "ticks": ""
                      }
                    },
                    "colorscale": {
                      "diverging": [
                        [
                          0,
                          "#8e0152"
                        ],
                        [
                          0.1,
                          "#c51b7d"
                        ],
                        [
                          0.2,
                          "#de77ae"
                        ],
                        [
                          0.3,
                          "#f1b6da"
                        ],
                        [
                          0.4,
                          "#fde0ef"
                        ],
                        [
                          0.5,
                          "#f7f7f7"
                        ],
                        [
                          0.6,
                          "#e6f5d0"
                        ],
                        [
                          0.7,
                          "#b8e186"
                        ],
                        [
                          0.8,
                          "#7fbc41"
                        ],
                        [
                          0.9,
                          "#4d9221"
                        ],
                        [
                          1,
                          "#276419"
                        ]
                      ],
                      "sequential": [
                        [
                          0,
                          "#0d0887"
                        ],
                        [
                          0.1111111111111111,
                          "#46039f"
                        ],
                        [
                          0.2222222222222222,
                          "#7201a8"
                        ],
                        [
                          0.3333333333333333,
                          "#9c179e"
                        ],
                        [
                          0.4444444444444444,
                          "#bd3786"
                        ],
                        [
                          0.5555555555555556,
                          "#d8576b"
                        ],
                        [
                          0.6666666666666666,
                          "#ed7953"
                        ],
                        [
                          0.7777777777777778,
                          "#fb9f3a"
                        ],
                        [
                          0.8888888888888888,
                          "#fdca26"
                        ],
                        [
                          1,
                          "#f0f921"
                        ]
                      ],
                      "sequentialminus": [
                        [
                          0,
                          "#0d0887"
                        ],
                        [
                          0.1111111111111111,
                          "#46039f"
                        ],
                        [
                          0.2222222222222222,
                          "#7201a8"
                        ],
                        [
                          0.3333333333333333,
                          "#9c179e"
                        ],
                        [
                          0.4444444444444444,
                          "#bd3786"
                        ],
                        [
                          0.5555555555555556,
                          "#d8576b"
                        ],
                        [
                          0.6666666666666666,
                          "#ed7953"
                        ],
                        [
                          0.7777777777777778,
                          "#fb9f3a"
                        ],
                        [
                          0.8888888888888888,
                          "#fdca26"
                        ],
                        [
                          1,
                          "#f0f921"
                        ]
                      ]
                    },
                    "colorway": [
                      "#636efa",
                      "#EF553B",
                      "#00cc96",
                      "#ab63fa",
                      "#FFA15A",
                      "#19d3f3",
                      "#FF6692",
                      "#B6E880",
                      "#FF97FF",
                      "#FECB52"
                    ],
                    "font": {
                      "color": "#2a3f5f"
                    },
                    "geo": {
                      "bgcolor": "white",
                      "lakecolor": "white",
                      "landcolor": "#E5ECF6",
                      "showlakes": true,
                      "showland": true,
                      "subunitcolor": "white"
                    },
                    "hoverlabel": {
                      "align": "left"
                    },
                    "hovermode": "closest",
                    "mapbox": {
                      "style": "light"
                    },
                    "paper_bgcolor": "white",
                    "plot_bgcolor": "#E5ECF6",
                    "polar": {
                      "angularaxis": {
                        "gridcolor": "white",
                        "linecolor": "white",
                        "ticks": ""
                      },
                      "bgcolor": "#E5ECF6",
                      "radialaxis": {
                        "gridcolor": "white",
                        "linecolor": "white",
                        "ticks": ""
                      }
                    },
                    "scene": {
                      "xaxis": {
                        "backgroundcolor": "#E5ECF6",
                        "gridcolor": "white",
                        "gridwidth": 2,
                        "linecolor": "white",
                        "showbackground": true,
                        "ticks": "",
                        "zerolinecolor": "white"
                      },
                      "yaxis": {
                        "backgroundcolor": "#E5ECF6",
                        "gridcolor": "white",
                        "gridwidth": 2,
                        "linecolor": "white",
                        "showbackground": true,
                        "ticks": "",
                        "zerolinecolor": "white"
                      },
                      "zaxis": {
                        "backgroundcolor": "#E5ECF6",
                        "gridcolor": "white",
                        "gridwidth": 2,
                        "linecolor": "white",
                        "showbackground": true,
                        "ticks": "",
                        "zerolinecolor": "white"
                      }
                    },
                    "shapedefaults": {
                      "line": {
                        "color": "#2a3f5f"
                      }
                    },
                    "ternary": {
                      "aaxis": {
                        "gridcolor": "white",
                        "linecolor": "white",
                        "ticks": ""
                      },
                      "baxis": {
                        "gridcolor": "white",
                        "linecolor": "white",
                        "ticks": ""
                      },
                      "bgcolor": "#E5ECF6",
                      "caxis": {
                        "gridcolor": "white",
                        "linecolor": "white",
                        "ticks": ""
                      }
                    },
                    "title": {
                      "x": 0.05
                    },
                    "xaxis": {
                      "automargin": true,
                      "gridcolor": "white",
                      "linecolor": "white",
                      "ticks": "",
                      "title": {
                        "standoff": 15
                      },
                      "zerolinecolor": "white",
                      "zerolinewidth": 2
                    },
                    "yaxis": {
                      "automargin": true,
                      "gridcolor": "white",
                      "linecolor": "white",
                      "ticks": "",
                      "title": {
                        "standoff": 15
                      },
                      "zerolinecolor": "white",
                      "zerolinewidth": 2
                    }
                  }
                },
                "title": {
                  "text": "Aparecimento em playlists do Spotify por ano de lançamento por tonalidade"
                },
                "xaxis": {
                  "anchor": "y",
                  "domain": [
                    0,
                    1
                  ],
                  "title": {
                    "text": "Ano de lançamento"
                  }
                },
                "yaxis": {
                  "anchor": "x",
                  "domain": [
                    0,
                    1
                  ],
                  "title": {
                    "text": "Playlists do Spotify"
                  }
                }
              }
            }
          },
          "metadata": {},
          "output_type": "display_data"
        }
      ],
      "source": [
        "fig = px.bar(a,\n",
        "             x='released_year',\n",
        "             y='in_spotify_playlists',\n",
        "             color=\"key\",\n",
        "             title='Aparecimento em playlists do Spotify por ano de lançamento por tonalidade',\n",
        "             labels={\n",
        "                     \"in_spotify_playlists\": \"Playlists do Spotify\",\n",
        "                     \"released_year\": \"Ano de lançamento\",\n",
        "                     \"key\": \"Tonalidade\"\n",
        "                 })\n",
        "fig.show()"
      ]
    },
    {
      "cell_type": "markdown",
      "metadata": {
        "id": "nwSiyKNpXBzp"
      },
      "source": [
        "Pode se concluir que as músicas mais populares tendem a serem atuais, lançadas após o ano de 2010, porém algumas músicas antigas resistiram ao teste do tempo e continuam sendo muito ouvidas nos dias de hoje. Também é evidente que as músicas populares são de diversas tonalidade atualmente, para as músicas antigas é difícil dizer devido à pequena presença dessas músicas dentre as populares na atualidade."
      ]
    },
    {
      "cell_type": "markdown",
      "metadata": {
        "id": "-nfA9g971wQq"
      },
      "source": [
        "---\n",
        "Nos últimos anos tem-se popularizado músicas mais curtas e com refrões curtos e repetitivos, vemos essas músicas principalmente em aplicativos de vídeos curtos como o TikTok e o Instagram, vamos analisar como essa visão se demonstra pelos dados."
      ]
    },
    {
      "cell_type": "code",
      "execution_count": 10,
      "metadata": {
        "colab": {
          "base_uri": "https://localhost:8080/",
          "height": 542
        },
        "id": "IpimSH411rwT",
        "outputId": "7fa0f391-1132-4d03-b531-c3ab619adad1"
      },
      "outputs": [
        {
          "data": {
            "application/vnd.plotly.v1+json": {
              "config": {
                "plotlyServerURL": "https://plot.ly"
              },
              "data": [
                {
                  "hovertemplate": "speechiness_%=%{x}<br>streams=%{y}<extra></extra>",
                  "legendgroup": "",
                  "line": {
                    "color": "#636efa",
                    "dash": "solid"
                  },
                  "marker": {
                    "symbol": "circle"
                  },
                  "mode": "lines",
                  "name": "",
                  "orientation": "v",
                  "showlegend": false,
                  "type": "scatter",
                  "x": [
                    2,
                    3,
                    4,
                    5,
                    6,
                    7,
                    8,
                    9,
                    10,
                    11,
                    12,
                    13,
                    14,
                    15,
                    16,
                    17,
                    18,
                    19,
                    20,
                    21,
                    22,
                    23,
                    24,
                    25,
                    26,
                    27,
                    28,
                    29,
                    30,
                    31,
                    32,
                    33,
                    34,
                    35,
                    36,
                    37,
                    38,
                    39,
                    40,
                    41,
                    42,
                    43,
                    44,
                    45,
                    46,
                    49,
                    59,
                    64
                  ],
                  "xaxis": "x",
                  "y": [
                    1468183499.3333333,
                    613850150.2516556,
                    496644251.4685714,
                    577209802.8,
                    490448161.6447368,
                    481139359.59183675,
                    541502482.9423077,
                    445998906.7027027,
                    695549781.625,
                    536891297.7272727,
                    467490674.3125,
                    412556388.5833333,
                    356948891.26666665,
                    531737917,
                    375144046.09090906,
                    341687356.1666667,
                    865491546.6666666,
                    200181264.42857143,
                    328932411.8,
                    389086388.5,
                    560913010.5714285,
                    420483947.8181818,
                    752798470,
                    354708773.7777778,
                    708870215.5,
                    177112858.4,
                    791452479.375,
                    242124260.57142857,
                    264775753.75,
                    489926199.125,
                    400479598.5714286,
                    497167507,
                    391298246.1666667,
                    149432968,
                    180610848.375,
                    798376505,
                    168859550,
                    261337307.6,
                    102987703.25,
                    212234990,
                    190490915,
                    156898322,
                    1155505655,
                    201614521.5,
                    123707497.33333333,
                    113509496,
                    170413877,
                    71573339
                  ],
                  "yaxis": "y"
                }
              ],
              "layout": {
                "legend": {
                  "tracegroupgap": 0
                },
                "template": {
                  "data": {
                    "bar": [
                      {
                        "error_x": {
                          "color": "#2a3f5f"
                        },
                        "error_y": {
                          "color": "#2a3f5f"
                        },
                        "marker": {
                          "line": {
                            "color": "#E5ECF6",
                            "width": 0.5
                          },
                          "pattern": {
                            "fillmode": "overlay",
                            "size": 10,
                            "solidity": 0.2
                          }
                        },
                        "type": "bar"
                      }
                    ],
                    "barpolar": [
                      {
                        "marker": {
                          "line": {
                            "color": "#E5ECF6",
                            "width": 0.5
                          },
                          "pattern": {
                            "fillmode": "overlay",
                            "size": 10,
                            "solidity": 0.2
                          }
                        },
                        "type": "barpolar"
                      }
                    ],
                    "carpet": [
                      {
                        "aaxis": {
                          "endlinecolor": "#2a3f5f",
                          "gridcolor": "white",
                          "linecolor": "white",
                          "minorgridcolor": "white",
                          "startlinecolor": "#2a3f5f"
                        },
                        "baxis": {
                          "endlinecolor": "#2a3f5f",
                          "gridcolor": "white",
                          "linecolor": "white",
                          "minorgridcolor": "white",
                          "startlinecolor": "#2a3f5f"
                        },
                        "type": "carpet"
                      }
                    ],
                    "choropleth": [
                      {
                        "colorbar": {
                          "outlinewidth": 0,
                          "ticks": ""
                        },
                        "type": "choropleth"
                      }
                    ],
                    "contour": [
                      {
                        "colorbar": {
                          "outlinewidth": 0,
                          "ticks": ""
                        },
                        "colorscale": [
                          [
                            0,
                            "#0d0887"
                          ],
                          [
                            0.1111111111111111,
                            "#46039f"
                          ],
                          [
                            0.2222222222222222,
                            "#7201a8"
                          ],
                          [
                            0.3333333333333333,
                            "#9c179e"
                          ],
                          [
                            0.4444444444444444,
                            "#bd3786"
                          ],
                          [
                            0.5555555555555556,
                            "#d8576b"
                          ],
                          [
                            0.6666666666666666,
                            "#ed7953"
                          ],
                          [
                            0.7777777777777778,
                            "#fb9f3a"
                          ],
                          [
                            0.8888888888888888,
                            "#fdca26"
                          ],
                          [
                            1,
                            "#f0f921"
                          ]
                        ],
                        "type": "contour"
                      }
                    ],
                    "contourcarpet": [
                      {
                        "colorbar": {
                          "outlinewidth": 0,
                          "ticks": ""
                        },
                        "type": "contourcarpet"
                      }
                    ],
                    "heatmap": [
                      {
                        "colorbar": {
                          "outlinewidth": 0,
                          "ticks": ""
                        },
                        "colorscale": [
                          [
                            0,
                            "#0d0887"
                          ],
                          [
                            0.1111111111111111,
                            "#46039f"
                          ],
                          [
                            0.2222222222222222,
                            "#7201a8"
                          ],
                          [
                            0.3333333333333333,
                            "#9c179e"
                          ],
                          [
                            0.4444444444444444,
                            "#bd3786"
                          ],
                          [
                            0.5555555555555556,
                            "#d8576b"
                          ],
                          [
                            0.6666666666666666,
                            "#ed7953"
                          ],
                          [
                            0.7777777777777778,
                            "#fb9f3a"
                          ],
                          [
                            0.8888888888888888,
                            "#fdca26"
                          ],
                          [
                            1,
                            "#f0f921"
                          ]
                        ],
                        "type": "heatmap"
                      }
                    ],
                    "heatmapgl": [
                      {
                        "colorbar": {
                          "outlinewidth": 0,
                          "ticks": ""
                        },
                        "colorscale": [
                          [
                            0,
                            "#0d0887"
                          ],
                          [
                            0.1111111111111111,
                            "#46039f"
                          ],
                          [
                            0.2222222222222222,
                            "#7201a8"
                          ],
                          [
                            0.3333333333333333,
                            "#9c179e"
                          ],
                          [
                            0.4444444444444444,
                            "#bd3786"
                          ],
                          [
                            0.5555555555555556,
                            "#d8576b"
                          ],
                          [
                            0.6666666666666666,
                            "#ed7953"
                          ],
                          [
                            0.7777777777777778,
                            "#fb9f3a"
                          ],
                          [
                            0.8888888888888888,
                            "#fdca26"
                          ],
                          [
                            1,
                            "#f0f921"
                          ]
                        ],
                        "type": "heatmapgl"
                      }
                    ],
                    "histogram": [
                      {
                        "marker": {
                          "pattern": {
                            "fillmode": "overlay",
                            "size": 10,
                            "solidity": 0.2
                          }
                        },
                        "type": "histogram"
                      }
                    ],
                    "histogram2d": [
                      {
                        "colorbar": {
                          "outlinewidth": 0,
                          "ticks": ""
                        },
                        "colorscale": [
                          [
                            0,
                            "#0d0887"
                          ],
                          [
                            0.1111111111111111,
                            "#46039f"
                          ],
                          [
                            0.2222222222222222,
                            "#7201a8"
                          ],
                          [
                            0.3333333333333333,
                            "#9c179e"
                          ],
                          [
                            0.4444444444444444,
                            "#bd3786"
                          ],
                          [
                            0.5555555555555556,
                            "#d8576b"
                          ],
                          [
                            0.6666666666666666,
                            "#ed7953"
                          ],
                          [
                            0.7777777777777778,
                            "#fb9f3a"
                          ],
                          [
                            0.8888888888888888,
                            "#fdca26"
                          ],
                          [
                            1,
                            "#f0f921"
                          ]
                        ],
                        "type": "histogram2d"
                      }
                    ],
                    "histogram2dcontour": [
                      {
                        "colorbar": {
                          "outlinewidth": 0,
                          "ticks": ""
                        },
                        "colorscale": [
                          [
                            0,
                            "#0d0887"
                          ],
                          [
                            0.1111111111111111,
                            "#46039f"
                          ],
                          [
                            0.2222222222222222,
                            "#7201a8"
                          ],
                          [
                            0.3333333333333333,
                            "#9c179e"
                          ],
                          [
                            0.4444444444444444,
                            "#bd3786"
                          ],
                          [
                            0.5555555555555556,
                            "#d8576b"
                          ],
                          [
                            0.6666666666666666,
                            "#ed7953"
                          ],
                          [
                            0.7777777777777778,
                            "#fb9f3a"
                          ],
                          [
                            0.8888888888888888,
                            "#fdca26"
                          ],
                          [
                            1,
                            "#f0f921"
                          ]
                        ],
                        "type": "histogram2dcontour"
                      }
                    ],
                    "mesh3d": [
                      {
                        "colorbar": {
                          "outlinewidth": 0,
                          "ticks": ""
                        },
                        "type": "mesh3d"
                      }
                    ],
                    "parcoords": [
                      {
                        "line": {
                          "colorbar": {
                            "outlinewidth": 0,
                            "ticks": ""
                          }
                        },
                        "type": "parcoords"
                      }
                    ],
                    "pie": [
                      {
                        "automargin": true,
                        "type": "pie"
                      }
                    ],
                    "scatter": [
                      {
                        "fillpattern": {
                          "fillmode": "overlay",
                          "size": 10,
                          "solidity": 0.2
                        },
                        "type": "scatter"
                      }
                    ],
                    "scatter3d": [
                      {
                        "line": {
                          "colorbar": {
                            "outlinewidth": 0,
                            "ticks": ""
                          }
                        },
                        "marker": {
                          "colorbar": {
                            "outlinewidth": 0,
                            "ticks": ""
                          }
                        },
                        "type": "scatter3d"
                      }
                    ],
                    "scattercarpet": [
                      {
                        "marker": {
                          "colorbar": {
                            "outlinewidth": 0,
                            "ticks": ""
                          }
                        },
                        "type": "scattercarpet"
                      }
                    ],
                    "scattergeo": [
                      {
                        "marker": {
                          "colorbar": {
                            "outlinewidth": 0,
                            "ticks": ""
                          }
                        },
                        "type": "scattergeo"
                      }
                    ],
                    "scattergl": [
                      {
                        "marker": {
                          "colorbar": {
                            "outlinewidth": 0,
                            "ticks": ""
                          }
                        },
                        "type": "scattergl"
                      }
                    ],
                    "scattermapbox": [
                      {
                        "marker": {
                          "colorbar": {
                            "outlinewidth": 0,
                            "ticks": ""
                          }
                        },
                        "type": "scattermapbox"
                      }
                    ],
                    "scatterpolar": [
                      {
                        "marker": {
                          "colorbar": {
                            "outlinewidth": 0,
                            "ticks": ""
                          }
                        },
                        "type": "scatterpolar"
                      }
                    ],
                    "scatterpolargl": [
                      {
                        "marker": {
                          "colorbar": {
                            "outlinewidth": 0,
                            "ticks": ""
                          }
                        },
                        "type": "scatterpolargl"
                      }
                    ],
                    "scatterternary": [
                      {
                        "marker": {
                          "colorbar": {
                            "outlinewidth": 0,
                            "ticks": ""
                          }
                        },
                        "type": "scatterternary"
                      }
                    ],
                    "surface": [
                      {
                        "colorbar": {
                          "outlinewidth": 0,
                          "ticks": ""
                        },
                        "colorscale": [
                          [
                            0,
                            "#0d0887"
                          ],
                          [
                            0.1111111111111111,
                            "#46039f"
                          ],
                          [
                            0.2222222222222222,
                            "#7201a8"
                          ],
                          [
                            0.3333333333333333,
                            "#9c179e"
                          ],
                          [
                            0.4444444444444444,
                            "#bd3786"
                          ],
                          [
                            0.5555555555555556,
                            "#d8576b"
                          ],
                          [
                            0.6666666666666666,
                            "#ed7953"
                          ],
                          [
                            0.7777777777777778,
                            "#fb9f3a"
                          ],
                          [
                            0.8888888888888888,
                            "#fdca26"
                          ],
                          [
                            1,
                            "#f0f921"
                          ]
                        ],
                        "type": "surface"
                      }
                    ],
                    "table": [
                      {
                        "cells": {
                          "fill": {
                            "color": "#EBF0F8"
                          },
                          "line": {
                            "color": "white"
                          }
                        },
                        "header": {
                          "fill": {
                            "color": "#C8D4E3"
                          },
                          "line": {
                            "color": "white"
                          }
                        },
                        "type": "table"
                      }
                    ]
                  },
                  "layout": {
                    "annotationdefaults": {
                      "arrowcolor": "#2a3f5f",
                      "arrowhead": 0,
                      "arrowwidth": 1
                    },
                    "autotypenumbers": "strict",
                    "coloraxis": {
                      "colorbar": {
                        "outlinewidth": 0,
                        "ticks": ""
                      }
                    },
                    "colorscale": {
                      "diverging": [
                        [
                          0,
                          "#8e0152"
                        ],
                        [
                          0.1,
                          "#c51b7d"
                        ],
                        [
                          0.2,
                          "#de77ae"
                        ],
                        [
                          0.3,
                          "#f1b6da"
                        ],
                        [
                          0.4,
                          "#fde0ef"
                        ],
                        [
                          0.5,
                          "#f7f7f7"
                        ],
                        [
                          0.6,
                          "#e6f5d0"
                        ],
                        [
                          0.7,
                          "#b8e186"
                        ],
                        [
                          0.8,
                          "#7fbc41"
                        ],
                        [
                          0.9,
                          "#4d9221"
                        ],
                        [
                          1,
                          "#276419"
                        ]
                      ],
                      "sequential": [
                        [
                          0,
                          "#0d0887"
                        ],
                        [
                          0.1111111111111111,
                          "#46039f"
                        ],
                        [
                          0.2222222222222222,
                          "#7201a8"
                        ],
                        [
                          0.3333333333333333,
                          "#9c179e"
                        ],
                        [
                          0.4444444444444444,
                          "#bd3786"
                        ],
                        [
                          0.5555555555555556,
                          "#d8576b"
                        ],
                        [
                          0.6666666666666666,
                          "#ed7953"
                        ],
                        [
                          0.7777777777777778,
                          "#fb9f3a"
                        ],
                        [
                          0.8888888888888888,
                          "#fdca26"
                        ],
                        [
                          1,
                          "#f0f921"
                        ]
                      ],
                      "sequentialminus": [
                        [
                          0,
                          "#0d0887"
                        ],
                        [
                          0.1111111111111111,
                          "#46039f"
                        ],
                        [
                          0.2222222222222222,
                          "#7201a8"
                        ],
                        [
                          0.3333333333333333,
                          "#9c179e"
                        ],
                        [
                          0.4444444444444444,
                          "#bd3786"
                        ],
                        [
                          0.5555555555555556,
                          "#d8576b"
                        ],
                        [
                          0.6666666666666666,
                          "#ed7953"
                        ],
                        [
                          0.7777777777777778,
                          "#fb9f3a"
                        ],
                        [
                          0.8888888888888888,
                          "#fdca26"
                        ],
                        [
                          1,
                          "#f0f921"
                        ]
                      ]
                    },
                    "colorway": [
                      "#636efa",
                      "#EF553B",
                      "#00cc96",
                      "#ab63fa",
                      "#FFA15A",
                      "#19d3f3",
                      "#FF6692",
                      "#B6E880",
                      "#FF97FF",
                      "#FECB52"
                    ],
                    "font": {
                      "color": "#2a3f5f"
                    },
                    "geo": {
                      "bgcolor": "white",
                      "lakecolor": "white",
                      "landcolor": "#E5ECF6",
                      "showlakes": true,
                      "showland": true,
                      "subunitcolor": "white"
                    },
                    "hoverlabel": {
                      "align": "left"
                    },
                    "hovermode": "closest",
                    "mapbox": {
                      "style": "light"
                    },
                    "paper_bgcolor": "white",
                    "plot_bgcolor": "#E5ECF6",
                    "polar": {
                      "angularaxis": {
                        "gridcolor": "white",
                        "linecolor": "white",
                        "ticks": ""
                      },
                      "bgcolor": "#E5ECF6",
                      "radialaxis": {
                        "gridcolor": "white",
                        "linecolor": "white",
                        "ticks": ""
                      }
                    },
                    "scene": {
                      "xaxis": {
                        "backgroundcolor": "#E5ECF6",
                        "gridcolor": "white",
                        "gridwidth": 2,
                        "linecolor": "white",
                        "showbackground": true,
                        "ticks": "",
                        "zerolinecolor": "white"
                      },
                      "yaxis": {
                        "backgroundcolor": "#E5ECF6",
                        "gridcolor": "white",
                        "gridwidth": 2,
                        "linecolor": "white",
                        "showbackground": true,
                        "ticks": "",
                        "zerolinecolor": "white"
                      },
                      "zaxis": {
                        "backgroundcolor": "#E5ECF6",
                        "gridcolor": "white",
                        "gridwidth": 2,
                        "linecolor": "white",
                        "showbackground": true,
                        "ticks": "",
                        "zerolinecolor": "white"
                      }
                    },
                    "shapedefaults": {
                      "line": {
                        "color": "#2a3f5f"
                      }
                    },
                    "ternary": {
                      "aaxis": {
                        "gridcolor": "white",
                        "linecolor": "white",
                        "ticks": ""
                      },
                      "baxis": {
                        "gridcolor": "white",
                        "linecolor": "white",
                        "ticks": ""
                      },
                      "bgcolor": "#E5ECF6",
                      "caxis": {
                        "gridcolor": "white",
                        "linecolor": "white",
                        "ticks": ""
                      }
                    },
                    "title": {
                      "x": 0.05
                    },
                    "xaxis": {
                      "automargin": true,
                      "gridcolor": "white",
                      "linecolor": "white",
                      "ticks": "",
                      "title": {
                        "standoff": 15
                      },
                      "zerolinecolor": "white",
                      "zerolinewidth": 2
                    },
                    "yaxis": {
                      "automargin": true,
                      "gridcolor": "white",
                      "linecolor": "white",
                      "ticks": "",
                      "title": {
                        "standoff": 15
                      },
                      "zerolinecolor": "white",
                      "zerolinewidth": 2
                    }
                  }
                },
                "title": {
                  "text": "Popularidade por porcentagem de fala"
                },
                "xaxis": {
                  "anchor": "y",
                  "domain": [
                    0,
                    1
                  ],
                  "title": {
                    "text": "speechiness_%"
                  }
                },
                "yaxis": {
                  "anchor": "x",
                  "domain": [
                    0,
                    1
                  ],
                  "title": {
                    "text": "streams"
                  }
                }
              }
            }
          },
          "metadata": {},
          "output_type": "display_data"
        }
      ],
      "source": [
        "temp = df[['speechiness_%', 'streams']].groupby('speechiness_%').mean().reset_index().sort_values(by='speechiness_%')\n",
        "fig = px.line(temp, x='speechiness_%', y='streams', title='Popularidade por porcentagem de fala')\n",
        "fig.show()"
      ]
    },
    {
      "cell_type": "markdown",
      "metadata": {
        "id": "ISVG4VqGs70t"
      },
      "source": [
        "Podemos observar que, fora algumas variações que podem ser outliers, existe uma tendência de alta para músicas com menor porcentagem de falas."
      ]
    },
    {
      "cell_type": "markdown",
      "metadata": {
        "id": "Yc_h1dRM38QP"
      },
      "source": [
        "Outra análise que podemos fazer é por conta da dançabilidade de uma música dado seu bpm, sabemos que antigamente músicas como valsa, entre outros, tinha bpm's menóres e eram utilizados para dança. Hojem em dia temos uma popularidade maior de músicas com um bpm alto, que podem varias de 70 a 120 bpm. Em contra partida, bpm's muito altos são intuitivamente mais dificeis de dançar.\n",
        "Vamos analisar então o que os dados nos dizem."
      ]
    },
    {
      "cell_type": "code",
      "execution_count": 11,
      "metadata": {
        "colab": {
          "base_uri": "https://localhost:8080/",
          "height": 542
        },
        "id": "mmBjDi3y7Kzc",
        "outputId": "0d020ccb-d550-4a02-c306-ed24379ed649"
      },
      "outputs": [
        {
          "data": {
            "application/vnd.plotly.v1+json": {
              "config": {
                "plotlyServerURL": "https://plot.ly"
              },
              "data": [
                {
                  "hovertemplate": "bpm=%{x}<br>danceability_%=%{y}<extra></extra>",
                  "legendgroup": "",
                  "line": {
                    "color": "#636efa",
                    "dash": "solid"
                  },
                  "marker": {
                    "symbol": "circle"
                  },
                  "mode": "lines",
                  "name": "",
                  "orientation": "v",
                  "showlegend": false,
                  "type": "scatter",
                  "x": [
                    65,
                    67,
                    71,
                    72,
                    73,
                    74,
                    75,
                    76,
                    77,
                    78,
                    79,
                    80,
                    81,
                    82,
                    83,
                    84,
                    85,
                    86,
                    87,
                    88,
                    89,
                    90,
                    91,
                    92,
                    93,
                    94,
                    95,
                    96,
                    97,
                    98,
                    99,
                    100,
                    101,
                    102,
                    103,
                    104,
                    105,
                    106,
                    107,
                    108,
                    109,
                    110,
                    111,
                    112,
                    113,
                    114,
                    115,
                    116,
                    117,
                    118,
                    119,
                    120,
                    121,
                    122,
                    123,
                    124,
                    125,
                    126,
                    127,
                    128,
                    129,
                    130,
                    131,
                    132,
                    133,
                    134,
                    135,
                    136,
                    137,
                    138,
                    139,
                    140,
                    141,
                    142,
                    143,
                    144,
                    145,
                    146,
                    147,
                    148,
                    149,
                    150,
                    151,
                    152,
                    153,
                    154,
                    155,
                    156,
                    157,
                    158,
                    160,
                    161,
                    162,
                    163,
                    164,
                    165,
                    166,
                    168,
                    169,
                    170,
                    171,
                    172,
                    173,
                    174,
                    175,
                    176,
                    177,
                    178,
                    179,
                    180,
                    181,
                    182,
                    183,
                    184,
                    186,
                    188,
                    189,
                    192,
                    196,
                    198,
                    200,
                    202,
                    204,
                    206
                  ],
                  "xaxis": "x",
                  "y": [
                    51,
                    53,
                    42.666666666666664,
                    55,
                    83,
                    53,
                    80,
                    59,
                    74.5,
                    51.22222222222222,
                    57.75,
                    58.166666666666664,
                    61.125,
                    59.714285714285715,
                    56.8,
                    58.875,
                    66.57142857142857,
                    28,
                    63.25,
                    63.2,
                    60,
                    70.0952380952381,
                    71.5,
                    72.32,
                    68.92857142857143,
                    63.2,
                    74.5625,
                    68.3529411764706,
                    75.875,
                    73.125,
                    68,
                    68.9375,
                    73.7,
                    71.7,
                    63,
                    73.875,
                    75.15789473684211,
                    70.83333333333333,
                    75.75,
                    67.84615384615384,
                    72,
                    69.69565217391305,
                    82,
                    67.4,
                    74,
                    61.2,
                    71.91666666666667,
                    77.22222222222223,
                    72,
                    64.71428571428571,
                    69.4,
                    72.6923076923077,
                    71.1,
                    73.78947368421052,
                    67.25,
                    76.28571428571429,
                    67.72222222222223,
                    66.4,
                    74.75,
                    70.6923076923077,
                    66,
                    69.90322580645162,
                    79.66666666666667,
                    74.14285714285714,
                    76.66666666666667,
                    68.46153846153847,
                    75.0909090909091,
                    68.85714285714286,
                    77.4,
                    66.66666666666667,
                    55,
                    67.61290322580645,
                    61.6,
                    66.4,
                    66.71428571428571,
                    68.33333333333333,
                    61.72727272727273,
                    63.22222222222222,
                    51.6,
                    56.45454545454545,
                    51.5,
                    62.904761904761905,
                    69,
                    72.66666666666667,
                    55.5,
                    64.5,
                    65.5,
                    52,
                    71,
                    62.5,
                    61.4,
                    68.5,
                    63.333333333333336,
                    54,
                    63.75,
                    72,
                    59.42857142857143,
                    67,
                    54,
                    61.5,
                    58.333333333333336,
                    59.142857142857146,
                    47.333333333333336,
                    60,
                    55,
                    60,
                    29.5,
                    72.33333333333333,
                    61,
                    56.54545454545455,
                    44,
                    57,
                    54.5,
                    69,
                    54.5,
                    50,
                    55,
                    50,
                    66,
                    59,
                    39,
                    29,
                    52,
                    50.5
                  ],
                  "yaxis": "y"
                }
              ],
              "layout": {
                "legend": {
                  "tracegroupgap": 0
                },
                "margin": {
                  "t": 60
                },
                "template": {
                  "data": {
                    "bar": [
                      {
                        "error_x": {
                          "color": "#2a3f5f"
                        },
                        "error_y": {
                          "color": "#2a3f5f"
                        },
                        "marker": {
                          "line": {
                            "color": "#E5ECF6",
                            "width": 0.5
                          },
                          "pattern": {
                            "fillmode": "overlay",
                            "size": 10,
                            "solidity": 0.2
                          }
                        },
                        "type": "bar"
                      }
                    ],
                    "barpolar": [
                      {
                        "marker": {
                          "line": {
                            "color": "#E5ECF6",
                            "width": 0.5
                          },
                          "pattern": {
                            "fillmode": "overlay",
                            "size": 10,
                            "solidity": 0.2
                          }
                        },
                        "type": "barpolar"
                      }
                    ],
                    "carpet": [
                      {
                        "aaxis": {
                          "endlinecolor": "#2a3f5f",
                          "gridcolor": "white",
                          "linecolor": "white",
                          "minorgridcolor": "white",
                          "startlinecolor": "#2a3f5f"
                        },
                        "baxis": {
                          "endlinecolor": "#2a3f5f",
                          "gridcolor": "white",
                          "linecolor": "white",
                          "minorgridcolor": "white",
                          "startlinecolor": "#2a3f5f"
                        },
                        "type": "carpet"
                      }
                    ],
                    "choropleth": [
                      {
                        "colorbar": {
                          "outlinewidth": 0,
                          "ticks": ""
                        },
                        "type": "choropleth"
                      }
                    ],
                    "contour": [
                      {
                        "colorbar": {
                          "outlinewidth": 0,
                          "ticks": ""
                        },
                        "colorscale": [
                          [
                            0,
                            "#0d0887"
                          ],
                          [
                            0.1111111111111111,
                            "#46039f"
                          ],
                          [
                            0.2222222222222222,
                            "#7201a8"
                          ],
                          [
                            0.3333333333333333,
                            "#9c179e"
                          ],
                          [
                            0.4444444444444444,
                            "#bd3786"
                          ],
                          [
                            0.5555555555555556,
                            "#d8576b"
                          ],
                          [
                            0.6666666666666666,
                            "#ed7953"
                          ],
                          [
                            0.7777777777777778,
                            "#fb9f3a"
                          ],
                          [
                            0.8888888888888888,
                            "#fdca26"
                          ],
                          [
                            1,
                            "#f0f921"
                          ]
                        ],
                        "type": "contour"
                      }
                    ],
                    "contourcarpet": [
                      {
                        "colorbar": {
                          "outlinewidth": 0,
                          "ticks": ""
                        },
                        "type": "contourcarpet"
                      }
                    ],
                    "heatmap": [
                      {
                        "colorbar": {
                          "outlinewidth": 0,
                          "ticks": ""
                        },
                        "colorscale": [
                          [
                            0,
                            "#0d0887"
                          ],
                          [
                            0.1111111111111111,
                            "#46039f"
                          ],
                          [
                            0.2222222222222222,
                            "#7201a8"
                          ],
                          [
                            0.3333333333333333,
                            "#9c179e"
                          ],
                          [
                            0.4444444444444444,
                            "#bd3786"
                          ],
                          [
                            0.5555555555555556,
                            "#d8576b"
                          ],
                          [
                            0.6666666666666666,
                            "#ed7953"
                          ],
                          [
                            0.7777777777777778,
                            "#fb9f3a"
                          ],
                          [
                            0.8888888888888888,
                            "#fdca26"
                          ],
                          [
                            1,
                            "#f0f921"
                          ]
                        ],
                        "type": "heatmap"
                      }
                    ],
                    "heatmapgl": [
                      {
                        "colorbar": {
                          "outlinewidth": 0,
                          "ticks": ""
                        },
                        "colorscale": [
                          [
                            0,
                            "#0d0887"
                          ],
                          [
                            0.1111111111111111,
                            "#46039f"
                          ],
                          [
                            0.2222222222222222,
                            "#7201a8"
                          ],
                          [
                            0.3333333333333333,
                            "#9c179e"
                          ],
                          [
                            0.4444444444444444,
                            "#bd3786"
                          ],
                          [
                            0.5555555555555556,
                            "#d8576b"
                          ],
                          [
                            0.6666666666666666,
                            "#ed7953"
                          ],
                          [
                            0.7777777777777778,
                            "#fb9f3a"
                          ],
                          [
                            0.8888888888888888,
                            "#fdca26"
                          ],
                          [
                            1,
                            "#f0f921"
                          ]
                        ],
                        "type": "heatmapgl"
                      }
                    ],
                    "histogram": [
                      {
                        "marker": {
                          "pattern": {
                            "fillmode": "overlay",
                            "size": 10,
                            "solidity": 0.2
                          }
                        },
                        "type": "histogram"
                      }
                    ],
                    "histogram2d": [
                      {
                        "colorbar": {
                          "outlinewidth": 0,
                          "ticks": ""
                        },
                        "colorscale": [
                          [
                            0,
                            "#0d0887"
                          ],
                          [
                            0.1111111111111111,
                            "#46039f"
                          ],
                          [
                            0.2222222222222222,
                            "#7201a8"
                          ],
                          [
                            0.3333333333333333,
                            "#9c179e"
                          ],
                          [
                            0.4444444444444444,
                            "#bd3786"
                          ],
                          [
                            0.5555555555555556,
                            "#d8576b"
                          ],
                          [
                            0.6666666666666666,
                            "#ed7953"
                          ],
                          [
                            0.7777777777777778,
                            "#fb9f3a"
                          ],
                          [
                            0.8888888888888888,
                            "#fdca26"
                          ],
                          [
                            1,
                            "#f0f921"
                          ]
                        ],
                        "type": "histogram2d"
                      }
                    ],
                    "histogram2dcontour": [
                      {
                        "colorbar": {
                          "outlinewidth": 0,
                          "ticks": ""
                        },
                        "colorscale": [
                          [
                            0,
                            "#0d0887"
                          ],
                          [
                            0.1111111111111111,
                            "#46039f"
                          ],
                          [
                            0.2222222222222222,
                            "#7201a8"
                          ],
                          [
                            0.3333333333333333,
                            "#9c179e"
                          ],
                          [
                            0.4444444444444444,
                            "#bd3786"
                          ],
                          [
                            0.5555555555555556,
                            "#d8576b"
                          ],
                          [
                            0.6666666666666666,
                            "#ed7953"
                          ],
                          [
                            0.7777777777777778,
                            "#fb9f3a"
                          ],
                          [
                            0.8888888888888888,
                            "#fdca26"
                          ],
                          [
                            1,
                            "#f0f921"
                          ]
                        ],
                        "type": "histogram2dcontour"
                      }
                    ],
                    "mesh3d": [
                      {
                        "colorbar": {
                          "outlinewidth": 0,
                          "ticks": ""
                        },
                        "type": "mesh3d"
                      }
                    ],
                    "parcoords": [
                      {
                        "line": {
                          "colorbar": {
                            "outlinewidth": 0,
                            "ticks": ""
                          }
                        },
                        "type": "parcoords"
                      }
                    ],
                    "pie": [
                      {
                        "automargin": true,
                        "type": "pie"
                      }
                    ],
                    "scatter": [
                      {
                        "fillpattern": {
                          "fillmode": "overlay",
                          "size": 10,
                          "solidity": 0.2
                        },
                        "type": "scatter"
                      }
                    ],
                    "scatter3d": [
                      {
                        "line": {
                          "colorbar": {
                            "outlinewidth": 0,
                            "ticks": ""
                          }
                        },
                        "marker": {
                          "colorbar": {
                            "outlinewidth": 0,
                            "ticks": ""
                          }
                        },
                        "type": "scatter3d"
                      }
                    ],
                    "scattercarpet": [
                      {
                        "marker": {
                          "colorbar": {
                            "outlinewidth": 0,
                            "ticks": ""
                          }
                        },
                        "type": "scattercarpet"
                      }
                    ],
                    "scattergeo": [
                      {
                        "marker": {
                          "colorbar": {
                            "outlinewidth": 0,
                            "ticks": ""
                          }
                        },
                        "type": "scattergeo"
                      }
                    ],
                    "scattergl": [
                      {
                        "marker": {
                          "colorbar": {
                            "outlinewidth": 0,
                            "ticks": ""
                          }
                        },
                        "type": "scattergl"
                      }
                    ],
                    "scattermapbox": [
                      {
                        "marker": {
                          "colorbar": {
                            "outlinewidth": 0,
                            "ticks": ""
                          }
                        },
                        "type": "scattermapbox"
                      }
                    ],
                    "scatterpolar": [
                      {
                        "marker": {
                          "colorbar": {
                            "outlinewidth": 0,
                            "ticks": ""
                          }
                        },
                        "type": "scatterpolar"
                      }
                    ],
                    "scatterpolargl": [
                      {
                        "marker": {
                          "colorbar": {
                            "outlinewidth": 0,
                            "ticks": ""
                          }
                        },
                        "type": "scatterpolargl"
                      }
                    ],
                    "scatterternary": [
                      {
                        "marker": {
                          "colorbar": {
                            "outlinewidth": 0,
                            "ticks": ""
                          }
                        },
                        "type": "scatterternary"
                      }
                    ],
                    "surface": [
                      {
                        "colorbar": {
                          "outlinewidth": 0,
                          "ticks": ""
                        },
                        "colorscale": [
                          [
                            0,
                            "#0d0887"
                          ],
                          [
                            0.1111111111111111,
                            "#46039f"
                          ],
                          [
                            0.2222222222222222,
                            "#7201a8"
                          ],
                          [
                            0.3333333333333333,
                            "#9c179e"
                          ],
                          [
                            0.4444444444444444,
                            "#bd3786"
                          ],
                          [
                            0.5555555555555556,
                            "#d8576b"
                          ],
                          [
                            0.6666666666666666,
                            "#ed7953"
                          ],
                          [
                            0.7777777777777778,
                            "#fb9f3a"
                          ],
                          [
                            0.8888888888888888,
                            "#fdca26"
                          ],
                          [
                            1,
                            "#f0f921"
                          ]
                        ],
                        "type": "surface"
                      }
                    ],
                    "table": [
                      {
                        "cells": {
                          "fill": {
                            "color": "#EBF0F8"
                          },
                          "line": {
                            "color": "white"
                          }
                        },
                        "header": {
                          "fill": {
                            "color": "#C8D4E3"
                          },
                          "line": {
                            "color": "white"
                          }
                        },
                        "type": "table"
                      }
                    ]
                  },
                  "layout": {
                    "annotationdefaults": {
                      "arrowcolor": "#2a3f5f",
                      "arrowhead": 0,
                      "arrowwidth": 1
                    },
                    "autotypenumbers": "strict",
                    "coloraxis": {
                      "colorbar": {
                        "outlinewidth": 0,
                        "ticks": ""
                      }
                    },
                    "colorscale": {
                      "diverging": [
                        [
                          0,
                          "#8e0152"
                        ],
                        [
                          0.1,
                          "#c51b7d"
                        ],
                        [
                          0.2,
                          "#de77ae"
                        ],
                        [
                          0.3,
                          "#f1b6da"
                        ],
                        [
                          0.4,
                          "#fde0ef"
                        ],
                        [
                          0.5,
                          "#f7f7f7"
                        ],
                        [
                          0.6,
                          "#e6f5d0"
                        ],
                        [
                          0.7,
                          "#b8e186"
                        ],
                        [
                          0.8,
                          "#7fbc41"
                        ],
                        [
                          0.9,
                          "#4d9221"
                        ],
                        [
                          1,
                          "#276419"
                        ]
                      ],
                      "sequential": [
                        [
                          0,
                          "#0d0887"
                        ],
                        [
                          0.1111111111111111,
                          "#46039f"
                        ],
                        [
                          0.2222222222222222,
                          "#7201a8"
                        ],
                        [
                          0.3333333333333333,
                          "#9c179e"
                        ],
                        [
                          0.4444444444444444,
                          "#bd3786"
                        ],
                        [
                          0.5555555555555556,
                          "#d8576b"
                        ],
                        [
                          0.6666666666666666,
                          "#ed7953"
                        ],
                        [
                          0.7777777777777778,
                          "#fb9f3a"
                        ],
                        [
                          0.8888888888888888,
                          "#fdca26"
                        ],
                        [
                          1,
                          "#f0f921"
                        ]
                      ],
                      "sequentialminus": [
                        [
                          0,
                          "#0d0887"
                        ],
                        [
                          0.1111111111111111,
                          "#46039f"
                        ],
                        [
                          0.2222222222222222,
                          "#7201a8"
                        ],
                        [
                          0.3333333333333333,
                          "#9c179e"
                        ],
                        [
                          0.4444444444444444,
                          "#bd3786"
                        ],
                        [
                          0.5555555555555556,
                          "#d8576b"
                        ],
                        [
                          0.6666666666666666,
                          "#ed7953"
                        ],
                        [
                          0.7777777777777778,
                          "#fb9f3a"
                        ],
                        [
                          0.8888888888888888,
                          "#fdca26"
                        ],
                        [
                          1,
                          "#f0f921"
                        ]
                      ]
                    },
                    "colorway": [
                      "#636efa",
                      "#EF553B",
                      "#00cc96",
                      "#ab63fa",
                      "#FFA15A",
                      "#19d3f3",
                      "#FF6692",
                      "#B6E880",
                      "#FF97FF",
                      "#FECB52"
                    ],
                    "font": {
                      "color": "#2a3f5f"
                    },
                    "geo": {
                      "bgcolor": "white",
                      "lakecolor": "white",
                      "landcolor": "#E5ECF6",
                      "showlakes": true,
                      "showland": true,
                      "subunitcolor": "white"
                    },
                    "hoverlabel": {
                      "align": "left"
                    },
                    "hovermode": "closest",
                    "mapbox": {
                      "style": "light"
                    },
                    "paper_bgcolor": "white",
                    "plot_bgcolor": "#E5ECF6",
                    "polar": {
                      "angularaxis": {
                        "gridcolor": "white",
                        "linecolor": "white",
                        "ticks": ""
                      },
                      "bgcolor": "#E5ECF6",
                      "radialaxis": {
                        "gridcolor": "white",
                        "linecolor": "white",
                        "ticks": ""
                      }
                    },
                    "scene": {
                      "xaxis": {
                        "backgroundcolor": "#E5ECF6",
                        "gridcolor": "white",
                        "gridwidth": 2,
                        "linecolor": "white",
                        "showbackground": true,
                        "ticks": "",
                        "zerolinecolor": "white"
                      },
                      "yaxis": {
                        "backgroundcolor": "#E5ECF6",
                        "gridcolor": "white",
                        "gridwidth": 2,
                        "linecolor": "white",
                        "showbackground": true,
                        "ticks": "",
                        "zerolinecolor": "white"
                      },
                      "zaxis": {
                        "backgroundcolor": "#E5ECF6",
                        "gridcolor": "white",
                        "gridwidth": 2,
                        "linecolor": "white",
                        "showbackground": true,
                        "ticks": "",
                        "zerolinecolor": "white"
                      }
                    },
                    "shapedefaults": {
                      "line": {
                        "color": "#2a3f5f"
                      }
                    },
                    "ternary": {
                      "aaxis": {
                        "gridcolor": "white",
                        "linecolor": "white",
                        "ticks": ""
                      },
                      "baxis": {
                        "gridcolor": "white",
                        "linecolor": "white",
                        "ticks": ""
                      },
                      "bgcolor": "#E5ECF6",
                      "caxis": {
                        "gridcolor": "white",
                        "linecolor": "white",
                        "ticks": ""
                      }
                    },
                    "title": {
                      "x": 0.05
                    },
                    "xaxis": {
                      "automargin": true,
                      "gridcolor": "white",
                      "linecolor": "white",
                      "ticks": "",
                      "title": {
                        "standoff": 15
                      },
                      "zerolinecolor": "white",
                      "zerolinewidth": 2
                    },
                    "yaxis": {
                      "automargin": true,
                      "gridcolor": "white",
                      "linecolor": "white",
                      "ticks": "",
                      "title": {
                        "standoff": 15
                      },
                      "zerolinecolor": "white",
                      "zerolinewidth": 2
                    }
                  }
                },
                "xaxis": {
                  "anchor": "y",
                  "domain": [
                    0,
                    1
                  ],
                  "title": {
                    "text": "bpm"
                  }
                },
                "yaxis": {
                  "anchor": "x",
                  "domain": [
                    0,
                    1
                  ],
                  "title": {
                    "text": "danceability_%"
                  }
                }
              }
            }
          },
          "metadata": {},
          "output_type": "display_data"
        }
      ],
      "source": [
        "temp = df[['bpm', 'danceability_%']].groupby('bpm').mean().reset_index().sort_values(by='bpm')\n",
        "fig = px.line(temp, x='bpm', y='danceability_%')\n",
        "fig.show()"
      ]
    },
    {
      "cell_type": "markdown",
      "metadata": {
        "id": "O2Vk-CJ-4wSA"
      },
      "source": [
        "Podemos vem que entre os 110 bpm's temos a maior taxa de dançabilidade, acima de 130 entra em uma queda, e antes dos 75 também temos uma queda."
      ]
    },
    {
      "cell_type": "markdown",
      "metadata": {
        "id": "34HuvlAFNbx5"
      },
      "source": [
        "Alguns artistas sempre se destacam dos demais, lançando músicas com muitos ouvintes, frequentemente.\n",
        "\n",
        "Para isso é possível análisar esses artistas \"Fora da Curva\" pela quantidade de ouvintes que eles possuem, a média pode não ser um bom parâmetro neste caso já que um artista com uma única música que \"estourou\" pode ter uma média maior que um artista com músicas populares frequentes."
      ]
    },
    {
      "cell_type": "code",
      "execution_count": 12,
      "metadata": {
        "id": "jmabuSKM9RFb"
      },
      "outputs": [],
      "source": [
        "temp = df['artist(s)_name'].str.split(',', expand=True).stack().reset_index(level=1, drop=True).reset_index().rename(columns={'index': 'Index', 0: 'artist(s)_name'})\n",
        "df = df.drop('artist(s)_name', axis=1)\n",
        "df2 = df.merge(temp, right_on='Index', left_index=True)\n",
        "df2 = df2.drop('Index', axis=1)\n",
        "df2['artist(s)_name'] = df2['artist(s)_name'].apply(lambda x: x.strip())"
      ]
    },
    {
      "cell_type": "code",
      "execution_count": 13,
      "metadata": {
        "id": "E3KhFS_P-aw8"
      },
      "outputs": [],
      "source": [
        "df_outliers = df2[['artist(s)_name', 'streams']].groupby('artist(s)_name').sum().reset_index()\n",
        "Q3 = df_outliers['streams'].quantile(.75)\n",
        "Q1 = df_outliers['streams'].quantile(.25)\n",
        "dif = Q3-Q1\n",
        "superior = Q3 + 1.5 * dif\n",
        "df_outliers= df_outliers.loc[df_outliers['streams'] >= superior]\n"
      ]
    },
    {
      "cell_type": "code",
      "execution_count": 14,
      "metadata": {
        "colab": {
          "base_uri": "https://localhost:8080/",
          "height": 542
        },
        "id": "9uV27SgD_Cws",
        "outputId": "cfb2b1eb-10fb-41f1-bc82-f6156385d893"
      },
      "outputs": [
        {
          "data": {
            "application/vnd.plotly.v1+json": {
              "config": {
                "plotlyServerURL": "https://plot.ly"
              },
              "data": [
                {
                  "alignmentgroup": "True",
                  "hovertemplate": "artist(s)_name=%{x}<br>streams=%{y}<extra></extra>",
                  "legendgroup": "",
                  "marker": {
                    "color": "#636efa",
                    "pattern": {
                      "shape": ""
                    }
                  },
                  "name": "",
                  "offsetgroup": "",
                  "orientation": "v",
                  "showlegend": false,
                  "textposition": "auto",
                  "type": "bar",
                  "x": [
                    "The Weeknd",
                    "Bad Bunny",
                    "Ed Sheeran",
                    "Taylor Swift",
                    "Harry Styles",
                    "Eminem",
                    "Dua Lipa",
                    "Justin Bieber",
                    "Drake",
                    "BTS",
                    "Imagine Dragons",
                    "Doja Cat",
                    "Olivia Rodrigo",
                    "Bruno Mars",
                    "Coldplay",
                    "Post Malone",
                    "SZA",
                    "Arctic Monkeys",
                    "Rauw Alejandro",
                    "Kendrick Lamar",
                    "Feid",
                    "Billie Eilish",
                    "Lil Nas X",
                    "The Chainsmokers",
                    "Shawn Mendes",
                    "Lewis Capaldi",
                    "Adele",
                    "Peso Pluma",
                    "21 Savage",
                    "The Neighbourhood",
                    "Halsey",
                    "Ariana Grande",
                    "Calvin Harris",
                    "Karol G",
                    "Daft Punk",
                    "Avicii",
                    "Quevedo",
                    "Bizarrap",
                    "Dr. Dre",
                    "Camila Cabello",
                    "Maroon 5",
                    "OneRepublic",
                    "The Kid Laroi",
                    "Swae Lee",
                    "Linkin Park",
                    "Sam Smith",
                    "Jhay Cortez",
                    "Tones and I",
                    "Jack Harlow",
                    "J Balvin",
                    "Lady Gaga",
                    "WizKid",
                    "Labrinth",
                    "Kyla",
                    "Shakira",
                    "James Arthur",
                    "Mï¿½ï¿½ne",
                    "Metro Boomin",
                    "Khalid",
                    "Future",
                    "Chencho Corleone",
                    "Juice WRLD",
                    "Glass Animals"
                  ],
                  "xaxis": "x",
                  "y": [
                    23929760757,
                    23813527270,
                    15316587718,
                    14630378183,
                    11608645649,
                    10193727260,
                    9980020481,
                    8243081039,
                    8043031261,
                    7780428159,
                    7719446948,
                    7712952203,
                    7442148916,
                    7346351599,
                    7091223298,
                    6548593678,
                    6493011189,
                    5569806731,
                    5566283612,
                    5555903581,
                    5438012982,
                    4972152341,
                    4803095082,
                    4795304992,
                    4741625382,
                    4734698360,
                    4508746590,
                    4108521285,
                    4099215953,
                    4010009939,
                    3924044758,
                    3827251527,
                    3761460037,
                    3573210090,
                    3499345306,
                    3426754746,
                    3399922345,
                    3382249172,
                    3373131085,
                    3317197114,
                    3238832468,
                    3097149603,
                    3057624030,
                    3004146314,
                    2985590613,
                    2941450507,
                    2903941454,
                    2864791672,
                    2852819921,
                    2791430908,
                    2770173417,
                    2746684039,
                    2738934961,
                    2713922350,
                    2692096365,
                    2686344050,
                    2675632206,
                    2661857553,
                    2651026894,
                    2588697329,
                    2583211228,
                    2558801388,
                    2557975762
                  ],
                  "yaxis": "y"
                }
              ],
              "layout": {
                "barmode": "relative",
                "legend": {
                  "tracegroupgap": 0
                },
                "template": {
                  "data": {
                    "bar": [
                      {
                        "error_x": {
                          "color": "#2a3f5f"
                        },
                        "error_y": {
                          "color": "#2a3f5f"
                        },
                        "marker": {
                          "line": {
                            "color": "#E5ECF6",
                            "width": 0.5
                          },
                          "pattern": {
                            "fillmode": "overlay",
                            "size": 10,
                            "solidity": 0.2
                          }
                        },
                        "type": "bar"
                      }
                    ],
                    "barpolar": [
                      {
                        "marker": {
                          "line": {
                            "color": "#E5ECF6",
                            "width": 0.5
                          },
                          "pattern": {
                            "fillmode": "overlay",
                            "size": 10,
                            "solidity": 0.2
                          }
                        },
                        "type": "barpolar"
                      }
                    ],
                    "carpet": [
                      {
                        "aaxis": {
                          "endlinecolor": "#2a3f5f",
                          "gridcolor": "white",
                          "linecolor": "white",
                          "minorgridcolor": "white",
                          "startlinecolor": "#2a3f5f"
                        },
                        "baxis": {
                          "endlinecolor": "#2a3f5f",
                          "gridcolor": "white",
                          "linecolor": "white",
                          "minorgridcolor": "white",
                          "startlinecolor": "#2a3f5f"
                        },
                        "type": "carpet"
                      }
                    ],
                    "choropleth": [
                      {
                        "colorbar": {
                          "outlinewidth": 0,
                          "ticks": ""
                        },
                        "type": "choropleth"
                      }
                    ],
                    "contour": [
                      {
                        "colorbar": {
                          "outlinewidth": 0,
                          "ticks": ""
                        },
                        "colorscale": [
                          [
                            0,
                            "#0d0887"
                          ],
                          [
                            0.1111111111111111,
                            "#46039f"
                          ],
                          [
                            0.2222222222222222,
                            "#7201a8"
                          ],
                          [
                            0.3333333333333333,
                            "#9c179e"
                          ],
                          [
                            0.4444444444444444,
                            "#bd3786"
                          ],
                          [
                            0.5555555555555556,
                            "#d8576b"
                          ],
                          [
                            0.6666666666666666,
                            "#ed7953"
                          ],
                          [
                            0.7777777777777778,
                            "#fb9f3a"
                          ],
                          [
                            0.8888888888888888,
                            "#fdca26"
                          ],
                          [
                            1,
                            "#f0f921"
                          ]
                        ],
                        "type": "contour"
                      }
                    ],
                    "contourcarpet": [
                      {
                        "colorbar": {
                          "outlinewidth": 0,
                          "ticks": ""
                        },
                        "type": "contourcarpet"
                      }
                    ],
                    "heatmap": [
                      {
                        "colorbar": {
                          "outlinewidth": 0,
                          "ticks": ""
                        },
                        "colorscale": [
                          [
                            0,
                            "#0d0887"
                          ],
                          [
                            0.1111111111111111,
                            "#46039f"
                          ],
                          [
                            0.2222222222222222,
                            "#7201a8"
                          ],
                          [
                            0.3333333333333333,
                            "#9c179e"
                          ],
                          [
                            0.4444444444444444,
                            "#bd3786"
                          ],
                          [
                            0.5555555555555556,
                            "#d8576b"
                          ],
                          [
                            0.6666666666666666,
                            "#ed7953"
                          ],
                          [
                            0.7777777777777778,
                            "#fb9f3a"
                          ],
                          [
                            0.8888888888888888,
                            "#fdca26"
                          ],
                          [
                            1,
                            "#f0f921"
                          ]
                        ],
                        "type": "heatmap"
                      }
                    ],
                    "heatmapgl": [
                      {
                        "colorbar": {
                          "outlinewidth": 0,
                          "ticks": ""
                        },
                        "colorscale": [
                          [
                            0,
                            "#0d0887"
                          ],
                          [
                            0.1111111111111111,
                            "#46039f"
                          ],
                          [
                            0.2222222222222222,
                            "#7201a8"
                          ],
                          [
                            0.3333333333333333,
                            "#9c179e"
                          ],
                          [
                            0.4444444444444444,
                            "#bd3786"
                          ],
                          [
                            0.5555555555555556,
                            "#d8576b"
                          ],
                          [
                            0.6666666666666666,
                            "#ed7953"
                          ],
                          [
                            0.7777777777777778,
                            "#fb9f3a"
                          ],
                          [
                            0.8888888888888888,
                            "#fdca26"
                          ],
                          [
                            1,
                            "#f0f921"
                          ]
                        ],
                        "type": "heatmapgl"
                      }
                    ],
                    "histogram": [
                      {
                        "marker": {
                          "pattern": {
                            "fillmode": "overlay",
                            "size": 10,
                            "solidity": 0.2
                          }
                        },
                        "type": "histogram"
                      }
                    ],
                    "histogram2d": [
                      {
                        "colorbar": {
                          "outlinewidth": 0,
                          "ticks": ""
                        },
                        "colorscale": [
                          [
                            0,
                            "#0d0887"
                          ],
                          [
                            0.1111111111111111,
                            "#46039f"
                          ],
                          [
                            0.2222222222222222,
                            "#7201a8"
                          ],
                          [
                            0.3333333333333333,
                            "#9c179e"
                          ],
                          [
                            0.4444444444444444,
                            "#bd3786"
                          ],
                          [
                            0.5555555555555556,
                            "#d8576b"
                          ],
                          [
                            0.6666666666666666,
                            "#ed7953"
                          ],
                          [
                            0.7777777777777778,
                            "#fb9f3a"
                          ],
                          [
                            0.8888888888888888,
                            "#fdca26"
                          ],
                          [
                            1,
                            "#f0f921"
                          ]
                        ],
                        "type": "histogram2d"
                      }
                    ],
                    "histogram2dcontour": [
                      {
                        "colorbar": {
                          "outlinewidth": 0,
                          "ticks": ""
                        },
                        "colorscale": [
                          [
                            0,
                            "#0d0887"
                          ],
                          [
                            0.1111111111111111,
                            "#46039f"
                          ],
                          [
                            0.2222222222222222,
                            "#7201a8"
                          ],
                          [
                            0.3333333333333333,
                            "#9c179e"
                          ],
                          [
                            0.4444444444444444,
                            "#bd3786"
                          ],
                          [
                            0.5555555555555556,
                            "#d8576b"
                          ],
                          [
                            0.6666666666666666,
                            "#ed7953"
                          ],
                          [
                            0.7777777777777778,
                            "#fb9f3a"
                          ],
                          [
                            0.8888888888888888,
                            "#fdca26"
                          ],
                          [
                            1,
                            "#f0f921"
                          ]
                        ],
                        "type": "histogram2dcontour"
                      }
                    ],
                    "mesh3d": [
                      {
                        "colorbar": {
                          "outlinewidth": 0,
                          "ticks": ""
                        },
                        "type": "mesh3d"
                      }
                    ],
                    "parcoords": [
                      {
                        "line": {
                          "colorbar": {
                            "outlinewidth": 0,
                            "ticks": ""
                          }
                        },
                        "type": "parcoords"
                      }
                    ],
                    "pie": [
                      {
                        "automargin": true,
                        "type": "pie"
                      }
                    ],
                    "scatter": [
                      {
                        "fillpattern": {
                          "fillmode": "overlay",
                          "size": 10,
                          "solidity": 0.2
                        },
                        "type": "scatter"
                      }
                    ],
                    "scatter3d": [
                      {
                        "line": {
                          "colorbar": {
                            "outlinewidth": 0,
                            "ticks": ""
                          }
                        },
                        "marker": {
                          "colorbar": {
                            "outlinewidth": 0,
                            "ticks": ""
                          }
                        },
                        "type": "scatter3d"
                      }
                    ],
                    "scattercarpet": [
                      {
                        "marker": {
                          "colorbar": {
                            "outlinewidth": 0,
                            "ticks": ""
                          }
                        },
                        "type": "scattercarpet"
                      }
                    ],
                    "scattergeo": [
                      {
                        "marker": {
                          "colorbar": {
                            "outlinewidth": 0,
                            "ticks": ""
                          }
                        },
                        "type": "scattergeo"
                      }
                    ],
                    "scattergl": [
                      {
                        "marker": {
                          "colorbar": {
                            "outlinewidth": 0,
                            "ticks": ""
                          }
                        },
                        "type": "scattergl"
                      }
                    ],
                    "scattermapbox": [
                      {
                        "marker": {
                          "colorbar": {
                            "outlinewidth": 0,
                            "ticks": ""
                          }
                        },
                        "type": "scattermapbox"
                      }
                    ],
                    "scatterpolar": [
                      {
                        "marker": {
                          "colorbar": {
                            "outlinewidth": 0,
                            "ticks": ""
                          }
                        },
                        "type": "scatterpolar"
                      }
                    ],
                    "scatterpolargl": [
                      {
                        "marker": {
                          "colorbar": {
                            "outlinewidth": 0,
                            "ticks": ""
                          }
                        },
                        "type": "scatterpolargl"
                      }
                    ],
                    "scatterternary": [
                      {
                        "marker": {
                          "colorbar": {
                            "outlinewidth": 0,
                            "ticks": ""
                          }
                        },
                        "type": "scatterternary"
                      }
                    ],
                    "surface": [
                      {
                        "colorbar": {
                          "outlinewidth": 0,
                          "ticks": ""
                        },
                        "colorscale": [
                          [
                            0,
                            "#0d0887"
                          ],
                          [
                            0.1111111111111111,
                            "#46039f"
                          ],
                          [
                            0.2222222222222222,
                            "#7201a8"
                          ],
                          [
                            0.3333333333333333,
                            "#9c179e"
                          ],
                          [
                            0.4444444444444444,
                            "#bd3786"
                          ],
                          [
                            0.5555555555555556,
                            "#d8576b"
                          ],
                          [
                            0.6666666666666666,
                            "#ed7953"
                          ],
                          [
                            0.7777777777777778,
                            "#fb9f3a"
                          ],
                          [
                            0.8888888888888888,
                            "#fdca26"
                          ],
                          [
                            1,
                            "#f0f921"
                          ]
                        ],
                        "type": "surface"
                      }
                    ],
                    "table": [
                      {
                        "cells": {
                          "fill": {
                            "color": "#EBF0F8"
                          },
                          "line": {
                            "color": "white"
                          }
                        },
                        "header": {
                          "fill": {
                            "color": "#C8D4E3"
                          },
                          "line": {
                            "color": "white"
                          }
                        },
                        "type": "table"
                      }
                    ]
                  },
                  "layout": {
                    "annotationdefaults": {
                      "arrowcolor": "#2a3f5f",
                      "arrowhead": 0,
                      "arrowwidth": 1
                    },
                    "autotypenumbers": "strict",
                    "coloraxis": {
                      "colorbar": {
                        "outlinewidth": 0,
                        "ticks": ""
                      }
                    },
                    "colorscale": {
                      "diverging": [
                        [
                          0,
                          "#8e0152"
                        ],
                        [
                          0.1,
                          "#c51b7d"
                        ],
                        [
                          0.2,
                          "#de77ae"
                        ],
                        [
                          0.3,
                          "#f1b6da"
                        ],
                        [
                          0.4,
                          "#fde0ef"
                        ],
                        [
                          0.5,
                          "#f7f7f7"
                        ],
                        [
                          0.6,
                          "#e6f5d0"
                        ],
                        [
                          0.7,
                          "#b8e186"
                        ],
                        [
                          0.8,
                          "#7fbc41"
                        ],
                        [
                          0.9,
                          "#4d9221"
                        ],
                        [
                          1,
                          "#276419"
                        ]
                      ],
                      "sequential": [
                        [
                          0,
                          "#0d0887"
                        ],
                        [
                          0.1111111111111111,
                          "#46039f"
                        ],
                        [
                          0.2222222222222222,
                          "#7201a8"
                        ],
                        [
                          0.3333333333333333,
                          "#9c179e"
                        ],
                        [
                          0.4444444444444444,
                          "#bd3786"
                        ],
                        [
                          0.5555555555555556,
                          "#d8576b"
                        ],
                        [
                          0.6666666666666666,
                          "#ed7953"
                        ],
                        [
                          0.7777777777777778,
                          "#fb9f3a"
                        ],
                        [
                          0.8888888888888888,
                          "#fdca26"
                        ],
                        [
                          1,
                          "#f0f921"
                        ]
                      ],
                      "sequentialminus": [
                        [
                          0,
                          "#0d0887"
                        ],
                        [
                          0.1111111111111111,
                          "#46039f"
                        ],
                        [
                          0.2222222222222222,
                          "#7201a8"
                        ],
                        [
                          0.3333333333333333,
                          "#9c179e"
                        ],
                        [
                          0.4444444444444444,
                          "#bd3786"
                        ],
                        [
                          0.5555555555555556,
                          "#d8576b"
                        ],
                        [
                          0.6666666666666666,
                          "#ed7953"
                        ],
                        [
                          0.7777777777777778,
                          "#fb9f3a"
                        ],
                        [
                          0.8888888888888888,
                          "#fdca26"
                        ],
                        [
                          1,
                          "#f0f921"
                        ]
                      ]
                    },
                    "colorway": [
                      "#636efa",
                      "#EF553B",
                      "#00cc96",
                      "#ab63fa",
                      "#FFA15A",
                      "#19d3f3",
                      "#FF6692",
                      "#B6E880",
                      "#FF97FF",
                      "#FECB52"
                    ],
                    "font": {
                      "color": "#2a3f5f"
                    },
                    "geo": {
                      "bgcolor": "white",
                      "lakecolor": "white",
                      "landcolor": "#E5ECF6",
                      "showlakes": true,
                      "showland": true,
                      "subunitcolor": "white"
                    },
                    "hoverlabel": {
                      "align": "left"
                    },
                    "hovermode": "closest",
                    "mapbox": {
                      "style": "light"
                    },
                    "paper_bgcolor": "white",
                    "plot_bgcolor": "#E5ECF6",
                    "polar": {
                      "angularaxis": {
                        "gridcolor": "white",
                        "linecolor": "white",
                        "ticks": ""
                      },
                      "bgcolor": "#E5ECF6",
                      "radialaxis": {
                        "gridcolor": "white",
                        "linecolor": "white",
                        "ticks": ""
                      }
                    },
                    "scene": {
                      "xaxis": {
                        "backgroundcolor": "#E5ECF6",
                        "gridcolor": "white",
                        "gridwidth": 2,
                        "linecolor": "white",
                        "showbackground": true,
                        "ticks": "",
                        "zerolinecolor": "white"
                      },
                      "yaxis": {
                        "backgroundcolor": "#E5ECF6",
                        "gridcolor": "white",
                        "gridwidth": 2,
                        "linecolor": "white",
                        "showbackground": true,
                        "ticks": "",
                        "zerolinecolor": "white"
                      },
                      "zaxis": {
                        "backgroundcolor": "#E5ECF6",
                        "gridcolor": "white",
                        "gridwidth": 2,
                        "linecolor": "white",
                        "showbackground": true,
                        "ticks": "",
                        "zerolinecolor": "white"
                      }
                    },
                    "shapedefaults": {
                      "line": {
                        "color": "#2a3f5f"
                      }
                    },
                    "ternary": {
                      "aaxis": {
                        "gridcolor": "white",
                        "linecolor": "white",
                        "ticks": ""
                      },
                      "baxis": {
                        "gridcolor": "white",
                        "linecolor": "white",
                        "ticks": ""
                      },
                      "bgcolor": "#E5ECF6",
                      "caxis": {
                        "gridcolor": "white",
                        "linecolor": "white",
                        "ticks": ""
                      }
                    },
                    "title": {
                      "x": 0.05
                    },
                    "xaxis": {
                      "automargin": true,
                      "gridcolor": "white",
                      "linecolor": "white",
                      "ticks": "",
                      "title": {
                        "standoff": 15
                      },
                      "zerolinecolor": "white",
                      "zerolinewidth": 2
                    },
                    "yaxis": {
                      "automargin": true,
                      "gridcolor": "white",
                      "linecolor": "white",
                      "ticks": "",
                      "title": {
                        "standoff": 15
                      },
                      "zerolinecolor": "white",
                      "zerolinewidth": 2
                    }
                  }
                },
                "title": {
                  "text": "Artistas \"Fora da Curva\""
                },
                "xaxis": {
                  "anchor": "y",
                  "domain": [
                    0,
                    1
                  ],
                  "title": {
                    "text": "artist(s)_name"
                  }
                },
                "yaxis": {
                  "anchor": "x",
                  "domain": [
                    0,
                    1
                  ],
                  "title": {
                    "text": "streams"
                  }
                }
              }
            }
          },
          "metadata": {},
          "output_type": "display_data"
        }
      ],
      "source": [
        "px.bar(df_outliers.sort_values(by='streams', ascending = False), x='artist(s)_name', y='streams', title='Artistas \"Fora da Curva\"')"
      ]
    },
    {
      "cell_type": "markdown",
      "metadata": {
        "id": "jCj1VbrpOw2y"
      },
      "source": [
        "É intuitivo pensar que, quanto mais popular um música for, mais as pessoas irão adicioná-las e suas playlists, porém o quanto a quantidade de artistas nessa música pode influenciar essa análise?"
      ]
    },
    {
      "cell_type": "code",
      "execution_count": 15,
      "metadata": {
        "colab": {
          "base_uri": "https://localhost:8080/",
          "height": 542
        },
        "id": "ufI3ktsdI2tR",
        "outputId": "aca3a2a2-c8a5-43dc-bdbe-8860cf7cd5d3"
      },
      "outputs": [
        {
          "data": {
            "application/vnd.plotly.v1+json": {
              "config": {
                "plotlyServerURL": "https://plot.ly"
              },
              "data": [
                {
                  "hovertemplate": "in_spotify_playlists=%{x}<br>streams=%{y}<br>artist_count=%{marker.color}<extra></extra>",
                  "legendgroup": "",
                  "marker": {
                    "color": [
                      2,
                      1,
                      1,
                      1,
                      1,
                      2,
                      2,
                      1,
                      1,
                      2,
                      2,
                      1,
                      1,
                      1,
                      1,
                      1,
                      1,
                      1,
                      2,
                      1,
                      3,
                      1,
                      1,
                      2,
                      3,
                      1,
                      2,
                      2,
                      1,
                      1,
                      1,
                      2,
                      3,
                      1,
                      2,
                      8,
                      2,
                      1,
                      1,
                      1,
                      2,
                      2,
                      2,
                      3,
                      3,
                      1,
                      1,
                      1,
                      2,
                      2,
                      3,
                      3,
                      1,
                      1,
                      1,
                      1,
                      1,
                      1,
                      1,
                      1,
                      2,
                      2,
                      3,
                      2,
                      2,
                      1,
                      1,
                      1,
                      1,
                      1,
                      2,
                      1,
                      1,
                      1,
                      2,
                      1,
                      1,
                      2,
                      2,
                      1,
                      1,
                      2,
                      2,
                      1,
                      2,
                      2,
                      1,
                      2,
                      1,
                      2,
                      1,
                      1,
                      2,
                      1,
                      1,
                      2,
                      1,
                      1,
                      1,
                      1,
                      1,
                      3,
                      1,
                      1,
                      1,
                      1,
                      3,
                      1,
                      1,
                      1,
                      2,
                      1,
                      2,
                      1,
                      1,
                      1,
                      1,
                      2,
                      3,
                      1,
                      2,
                      2,
                      1,
                      2,
                      1,
                      1,
                      3,
                      1,
                      2,
                      2,
                      1,
                      1,
                      1,
                      2,
                      1,
                      4,
                      3,
                      5,
                      1,
                      1,
                      1,
                      4,
                      2,
                      1,
                      3,
                      2,
                      2,
                      1,
                      1,
                      1,
                      1,
                      1,
                      2,
                      2,
                      1,
                      3,
                      2,
                      1,
                      1,
                      1,
                      2,
                      1,
                      3,
                      1,
                      1,
                      1,
                      1,
                      1,
                      2,
                      1,
                      1,
                      3,
                      1,
                      1,
                      1,
                      1,
                      1,
                      1,
                      1,
                      1,
                      1,
                      2,
                      1,
                      1,
                      1,
                      1,
                      1,
                      1,
                      1,
                      1,
                      2,
                      1,
                      1,
                      1,
                      1,
                      1,
                      1,
                      4,
                      1,
                      1,
                      4,
                      5,
                      1,
                      3,
                      3,
                      1,
                      1,
                      2,
                      2,
                      2,
                      2,
                      2,
                      2,
                      1,
                      3,
                      1,
                      2,
                      2,
                      2,
                      3,
                      2,
                      1,
                      2,
                      2,
                      1,
                      1,
                      2,
                      1,
                      2,
                      2,
                      1,
                      1,
                      2,
                      2,
                      2,
                      1,
                      2,
                      1,
                      5,
                      1,
                      1,
                      1,
                      1,
                      1,
                      1,
                      2,
                      1,
                      2,
                      2,
                      1,
                      1,
                      3,
                      1,
                      1,
                      3,
                      1,
                      2,
                      1,
                      2,
                      1,
                      1,
                      2,
                      1,
                      1,
                      1,
                      1,
                      2,
                      1,
                      1,
                      2,
                      1,
                      1,
                      2,
                      2,
                      1,
                      2,
                      2,
                      1,
                      1,
                      1,
                      3,
                      1,
                      1,
                      1,
                      1,
                      2,
                      2,
                      1,
                      2,
                      2,
                      1,
                      2,
                      1,
                      1,
                      2,
                      2,
                      1,
                      2,
                      3,
                      2,
                      1,
                      2,
                      2,
                      2,
                      2,
                      1,
                      1,
                      2,
                      1,
                      1,
                      2,
                      1,
                      1,
                      2,
                      1,
                      1,
                      1,
                      2,
                      1,
                      1,
                      2,
                      2,
                      1,
                      1,
                      1,
                      1,
                      1,
                      1,
                      5,
                      3,
                      1,
                      1,
                      2,
                      2,
                      1,
                      2,
                      1,
                      1,
                      3,
                      1,
                      1,
                      1,
                      1,
                      1,
                      2,
                      1,
                      2,
                      2,
                      1,
                      1,
                      1,
                      2,
                      1,
                      1,
                      2,
                      1,
                      1,
                      1,
                      1,
                      1,
                      1,
                      2,
                      1,
                      1,
                      2,
                      4,
                      1,
                      2,
                      2,
                      2,
                      1,
                      1,
                      1,
                      1,
                      1,
                      2,
                      1,
                      1,
                      2,
                      1,
                      1,
                      3,
                      1,
                      1,
                      1,
                      2,
                      1,
                      1,
                      1,
                      1,
                      2,
                      1,
                      1,
                      6,
                      2,
                      1,
                      3,
                      2,
                      3,
                      1,
                      1,
                      1,
                      6,
                      2,
                      1,
                      1,
                      3,
                      1,
                      1,
                      2,
                      2,
                      1,
                      1,
                      2,
                      3,
                      1,
                      1,
                      1,
                      1,
                      1,
                      3,
                      3,
                      1,
                      1,
                      1,
                      1,
                      1,
                      2,
                      2,
                      1,
                      1,
                      1,
                      1,
                      2,
                      1,
                      1,
                      2,
                      1,
                      3,
                      3,
                      2,
                      1,
                      1,
                      1,
                      1,
                      1,
                      1,
                      1,
                      1,
                      1,
                      1,
                      1,
                      1,
                      1,
                      1,
                      1,
                      1,
                      4,
                      2,
                      1,
                      1,
                      1,
                      1,
                      2,
                      1,
                      1,
                      2,
                      1,
                      2,
                      3,
                      1,
                      1,
                      1,
                      1,
                      1,
                      2,
                      3,
                      1,
                      2,
                      1,
                      1,
                      2,
                      1,
                      1,
                      1,
                      1,
                      2,
                      1,
                      4,
                      1,
                      2,
                      2,
                      2,
                      1,
                      2,
                      1,
                      1,
                      1,
                      2,
                      2,
                      1,
                      1,
                      1,
                      3,
                      1,
                      2,
                      7,
                      1,
                      1,
                      1,
                      1,
                      1,
                      1,
                      1,
                      3,
                      1,
                      2,
                      2,
                      1,
                      1,
                      1,
                      1,
                      1,
                      1,
                      1,
                      2,
                      1,
                      2,
                      3,
                      1,
                      2,
                      1,
                      2,
                      2,
                      1,
                      1,
                      3,
                      1,
                      1,
                      1,
                      4,
                      1,
                      1,
                      3,
                      1,
                      1,
                      1,
                      2,
                      1,
                      3,
                      3,
                      3,
                      1,
                      1,
                      3,
                      2,
                      2,
                      1,
                      3,
                      3,
                      1,
                      3,
                      1,
                      3,
                      2,
                      1,
                      1,
                      1,
                      2,
                      2,
                      3,
                      3,
                      3,
                      2,
                      2,
                      3,
                      1,
                      1,
                      1,
                      1,
                      1,
                      2,
                      1,
                      2,
                      2,
                      1,
                      1,
                      1,
                      1,
                      1,
                      1,
                      1,
                      1,
                      1,
                      2,
                      1,
                      3,
                      1,
                      1,
                      1,
                      2,
                      1,
                      1,
                      2,
                      4,
                      1,
                      1,
                      1,
                      1,
                      1,
                      2,
                      1,
                      1,
                      1,
                      1,
                      1,
                      3,
                      1,
                      3,
                      1,
                      1,
                      2,
                      1,
                      1,
                      1,
                      2,
                      2,
                      1,
                      2,
                      1,
                      1,
                      3,
                      1,
                      2,
                      1,
                      2,
                      1,
                      4,
                      1,
                      2,
                      1,
                      8,
                      2,
                      2,
                      2,
                      2,
                      3,
                      2,
                      2,
                      1,
                      1,
                      2,
                      2,
                      1,
                      3,
                      2,
                      1,
                      1,
                      1,
                      1,
                      2,
                      1,
                      1,
                      1,
                      3,
                      1,
                      7,
                      3,
                      2,
                      2,
                      1,
                      1,
                      2,
                      2,
                      1,
                      1,
                      1,
                      2,
                      2,
                      2,
                      1,
                      1,
                      1,
                      1,
                      1,
                      1,
                      1,
                      2,
                      1,
                      2,
                      1,
                      2,
                      2,
                      2,
                      1,
                      2,
                      1,
                      2,
                      2,
                      1,
                      1,
                      1,
                      1,
                      1,
                      2,
                      1,
                      2,
                      1,
                      1,
                      1,
                      1,
                      1,
                      2,
                      2,
                      1,
                      1,
                      1,
                      1,
                      1,
                      1,
                      1,
                      1,
                      1,
                      2,
                      2,
                      1,
                      2,
                      2,
                      1,
                      1,
                      1,
                      2,
                      1,
                      1,
                      1,
                      1,
                      3,
                      1,
                      1,
                      2,
                      1,
                      3,
                      3,
                      1,
                      3,
                      1,
                      1,
                      1,
                      4,
                      1,
                      2,
                      1,
                      1,
                      1,
                      2,
                      1,
                      3,
                      1,
                      6,
                      1,
                      1,
                      1,
                      1,
                      1,
                      3,
                      1,
                      1,
                      1,
                      2,
                      1,
                      1,
                      2,
                      1,
                      2,
                      2,
                      1,
                      2,
                      1,
                      2,
                      3,
                      1,
                      2,
                      1,
                      1,
                      3,
                      1,
                      2,
                      1,
                      1,
                      2,
                      1,
                      1,
                      1,
                      2,
                      2,
                      1,
                      1,
                      1,
                      1,
                      1,
                      1,
                      1,
                      1,
                      1,
                      1,
                      2,
                      1,
                      2,
                      2,
                      2,
                      2,
                      2,
                      2,
                      1,
                      1,
                      1,
                      1,
                      1,
                      2,
                      1,
                      1,
                      1,
                      1,
                      1,
                      1,
                      1,
                      1,
                      1,
                      1,
                      1,
                      1,
                      1,
                      4,
                      3,
                      1,
                      1,
                      4,
                      2,
                      1,
                      1,
                      2,
                      1,
                      1,
                      1,
                      2,
                      1,
                      1,
                      2,
                      1,
                      1,
                      1,
                      2,
                      2,
                      1,
                      3,
                      1,
                      1,
                      1,
                      1,
                      1,
                      1,
                      1,
                      1,
                      5,
                      1,
                      1,
                      1,
                      1,
                      2,
                      1,
                      1,
                      1,
                      1,
                      1,
                      3,
                      3,
                      3,
                      1,
                      1,
                      3,
                      1,
                      3,
                      3,
                      1,
                      1,
                      1,
                      1,
                      1,
                      1,
                      1,
                      1,
                      2,
                      1,
                      4,
                      2,
                      2,
                      3,
                      3,
                      2,
                      1,
                      1,
                      1,
                      2,
                      1,
                      1,
                      1,
                      1,
                      1,
                      1,
                      1,
                      1,
                      1,
                      2,
                      1,
                      2,
                      1,
                      1,
                      1,
                      2,
                      4,
                      1,
                      1,
                      1,
                      1,
                      1,
                      1,
                      2,
                      1,
                      3,
                      3,
                      2,
                      3,
                      1,
                      1,
                      2,
                      1,
                      2,
                      1,
                      2,
                      1,
                      1,
                      2,
                      2,
                      1,
                      1,
                      2,
                      1,
                      1,
                      1,
                      2,
                      3,
                      1
                    ],
                    "coloraxis": "coloraxis",
                    "size": [
                      2,
                      1,
                      1,
                      1,
                      1,
                      2,
                      2,
                      1,
                      1,
                      2,
                      2,
                      1,
                      1,
                      1,
                      1,
                      1,
                      1,
                      1,
                      2,
                      1,
                      3,
                      1,
                      1,
                      2,
                      3,
                      1,
                      2,
                      2,
                      1,
                      1,
                      1,
                      2,
                      3,
                      1,
                      2,
                      8,
                      2,
                      1,
                      1,
                      1,
                      2,
                      2,
                      2,
                      3,
                      3,
                      1,
                      1,
                      1,
                      2,
                      2,
                      3,
                      3,
                      1,
                      1,
                      1,
                      1,
                      1,
                      1,
                      1,
                      1,
                      2,
                      2,
                      3,
                      2,
                      2,
                      1,
                      1,
                      1,
                      1,
                      1,
                      2,
                      1,
                      1,
                      1,
                      2,
                      1,
                      1,
                      2,
                      2,
                      1,
                      1,
                      2,
                      2,
                      1,
                      2,
                      2,
                      1,
                      2,
                      1,
                      2,
                      1,
                      1,
                      2,
                      1,
                      1,
                      2,
                      1,
                      1,
                      1,
                      1,
                      1,
                      3,
                      1,
                      1,
                      1,
                      1,
                      3,
                      1,
                      1,
                      1,
                      2,
                      1,
                      2,
                      1,
                      1,
                      1,
                      1,
                      2,
                      3,
                      1,
                      2,
                      2,
                      1,
                      2,
                      1,
                      1,
                      3,
                      1,
                      2,
                      2,
                      1,
                      1,
                      1,
                      2,
                      1,
                      4,
                      3,
                      5,
                      1,
                      1,
                      1,
                      4,
                      2,
                      1,
                      3,
                      2,
                      2,
                      1,
                      1,
                      1,
                      1,
                      1,
                      2,
                      2,
                      1,
                      3,
                      2,
                      1,
                      1,
                      1,
                      2,
                      1,
                      3,
                      1,
                      1,
                      1,
                      1,
                      1,
                      2,
                      1,
                      1,
                      3,
                      1,
                      1,
                      1,
                      1,
                      1,
                      1,
                      1,
                      1,
                      1,
                      2,
                      1,
                      1,
                      1,
                      1,
                      1,
                      1,
                      1,
                      1,
                      2,
                      1,
                      1,
                      1,
                      1,
                      1,
                      1,
                      4,
                      1,
                      1,
                      4,
                      5,
                      1,
                      3,
                      3,
                      1,
                      1,
                      2,
                      2,
                      2,
                      2,
                      2,
                      2,
                      1,
                      3,
                      1,
                      2,
                      2,
                      2,
                      3,
                      2,
                      1,
                      2,
                      2,
                      1,
                      1,
                      2,
                      1,
                      2,
                      2,
                      1,
                      1,
                      2,
                      2,
                      2,
                      1,
                      2,
                      1,
                      5,
                      1,
                      1,
                      1,
                      1,
                      1,
                      1,
                      2,
                      1,
                      2,
                      2,
                      1,
                      1,
                      3,
                      1,
                      1,
                      3,
                      1,
                      2,
                      1,
                      2,
                      1,
                      1,
                      2,
                      1,
                      1,
                      1,
                      1,
                      2,
                      1,
                      1,
                      2,
                      1,
                      1,
                      2,
                      2,
                      1,
                      2,
                      2,
                      1,
                      1,
                      1,
                      3,
                      1,
                      1,
                      1,
                      1,
                      2,
                      2,
                      1,
                      2,
                      2,
                      1,
                      2,
                      1,
                      1,
                      2,
                      2,
                      1,
                      2,
                      3,
                      2,
                      1,
                      2,
                      2,
                      2,
                      2,
                      1,
                      1,
                      2,
                      1,
                      1,
                      2,
                      1,
                      1,
                      2,
                      1,
                      1,
                      1,
                      2,
                      1,
                      1,
                      2,
                      2,
                      1,
                      1,
                      1,
                      1,
                      1,
                      1,
                      5,
                      3,
                      1,
                      1,
                      2,
                      2,
                      1,
                      2,
                      1,
                      1,
                      3,
                      1,
                      1,
                      1,
                      1,
                      1,
                      2,
                      1,
                      2,
                      2,
                      1,
                      1,
                      1,
                      2,
                      1,
                      1,
                      2,
                      1,
                      1,
                      1,
                      1,
                      1,
                      1,
                      2,
                      1,
                      1,
                      2,
                      4,
                      1,
                      2,
                      2,
                      2,
                      1,
                      1,
                      1,
                      1,
                      1,
                      2,
                      1,
                      1,
                      2,
                      1,
                      1,
                      3,
                      1,
                      1,
                      1,
                      2,
                      1,
                      1,
                      1,
                      1,
                      2,
                      1,
                      1,
                      6,
                      2,
                      1,
                      3,
                      2,
                      3,
                      1,
                      1,
                      1,
                      6,
                      2,
                      1,
                      1,
                      3,
                      1,
                      1,
                      2,
                      2,
                      1,
                      1,
                      2,
                      3,
                      1,
                      1,
                      1,
                      1,
                      1,
                      3,
                      3,
                      1,
                      1,
                      1,
                      1,
                      1,
                      2,
                      2,
                      1,
                      1,
                      1,
                      1,
                      2,
                      1,
                      1,
                      2,
                      1,
                      3,
                      3,
                      2,
                      1,
                      1,
                      1,
                      1,
                      1,
                      1,
                      1,
                      1,
                      1,
                      1,
                      1,
                      1,
                      1,
                      1,
                      1,
                      1,
                      4,
                      2,
                      1,
                      1,
                      1,
                      1,
                      2,
                      1,
                      1,
                      2,
                      1,
                      2,
                      3,
                      1,
                      1,
                      1,
                      1,
                      1,
                      2,
                      3,
                      1,
                      2,
                      1,
                      1,
                      2,
                      1,
                      1,
                      1,
                      1,
                      2,
                      1,
                      4,
                      1,
                      2,
                      2,
                      2,
                      1,
                      2,
                      1,
                      1,
                      1,
                      2,
                      2,
                      1,
                      1,
                      1,
                      3,
                      1,
                      2,
                      7,
                      1,
                      1,
                      1,
                      1,
                      1,
                      1,
                      1,
                      3,
                      1,
                      2,
                      2,
                      1,
                      1,
                      1,
                      1,
                      1,
                      1,
                      1,
                      2,
                      1,
                      2,
                      3,
                      1,
                      2,
                      1,
                      2,
                      2,
                      1,
                      1,
                      3,
                      1,
                      1,
                      1,
                      4,
                      1,
                      1,
                      3,
                      1,
                      1,
                      1,
                      2,
                      1,
                      3,
                      3,
                      3,
                      1,
                      1,
                      3,
                      2,
                      2,
                      1,
                      3,
                      3,
                      1,
                      3,
                      1,
                      3,
                      2,
                      1,
                      1,
                      1,
                      2,
                      2,
                      3,
                      3,
                      3,
                      2,
                      2,
                      3,
                      1,
                      1,
                      1,
                      1,
                      1,
                      2,
                      1,
                      2,
                      2,
                      1,
                      1,
                      1,
                      1,
                      1,
                      1,
                      1,
                      1,
                      1,
                      2,
                      1,
                      3,
                      1,
                      1,
                      1,
                      2,
                      1,
                      1,
                      2,
                      4,
                      1,
                      1,
                      1,
                      1,
                      1,
                      2,
                      1,
                      1,
                      1,
                      1,
                      1,
                      3,
                      1,
                      3,
                      1,
                      1,
                      2,
                      1,
                      1,
                      1,
                      2,
                      2,
                      1,
                      2,
                      1,
                      1,
                      3,
                      1,
                      2,
                      1,
                      2,
                      1,
                      4,
                      1,
                      2,
                      1,
                      8,
                      2,
                      2,
                      2,
                      2,
                      3,
                      2,
                      2,
                      1,
                      1,
                      2,
                      2,
                      1,
                      3,
                      2,
                      1,
                      1,
                      1,
                      1,
                      2,
                      1,
                      1,
                      1,
                      3,
                      1,
                      7,
                      3,
                      2,
                      2,
                      1,
                      1,
                      2,
                      2,
                      1,
                      1,
                      1,
                      2,
                      2,
                      2,
                      1,
                      1,
                      1,
                      1,
                      1,
                      1,
                      1,
                      2,
                      1,
                      2,
                      1,
                      2,
                      2,
                      2,
                      1,
                      2,
                      1,
                      2,
                      2,
                      1,
                      1,
                      1,
                      1,
                      1,
                      2,
                      1,
                      2,
                      1,
                      1,
                      1,
                      1,
                      1,
                      2,
                      2,
                      1,
                      1,
                      1,
                      1,
                      1,
                      1,
                      1,
                      1,
                      1,
                      2,
                      2,
                      1,
                      2,
                      2,
                      1,
                      1,
                      1,
                      2,
                      1,
                      1,
                      1,
                      1,
                      3,
                      1,
                      1,
                      2,
                      1,
                      3,
                      3,
                      1,
                      3,
                      1,
                      1,
                      1,
                      4,
                      1,
                      2,
                      1,
                      1,
                      1,
                      2,
                      1,
                      3,
                      1,
                      6,
                      1,
                      1,
                      1,
                      1,
                      1,
                      3,
                      1,
                      1,
                      1,
                      2,
                      1,
                      1,
                      2,
                      1,
                      2,
                      2,
                      1,
                      2,
                      1,
                      2,
                      3,
                      1,
                      2,
                      1,
                      1,
                      3,
                      1,
                      2,
                      1,
                      1,
                      2,
                      1,
                      1,
                      1,
                      2,
                      2,
                      1,
                      1,
                      1,
                      1,
                      1,
                      1,
                      1,
                      1,
                      1,
                      1,
                      2,
                      1,
                      2,
                      2,
                      2,
                      2,
                      2,
                      2,
                      1,
                      1,
                      1,
                      1,
                      1,
                      2,
                      1,
                      1,
                      1,
                      1,
                      1,
                      1,
                      1,
                      1,
                      1,
                      1,
                      1,
                      1,
                      1,
                      4,
                      3,
                      1,
                      1,
                      4,
                      2,
                      1,
                      1,
                      2,
                      1,
                      1,
                      1,
                      2,
                      1,
                      1,
                      2,
                      1,
                      1,
                      1,
                      2,
                      2,
                      1,
                      3,
                      1,
                      1,
                      1,
                      1,
                      1,
                      1,
                      1,
                      1,
                      5,
                      1,
                      1,
                      1,
                      1,
                      2,
                      1,
                      1,
                      1,
                      1,
                      1,
                      3,
                      3,
                      3,
                      1,
                      1,
                      3,
                      1,
                      3,
                      3,
                      1,
                      1,
                      1,
                      1,
                      1,
                      1,
                      1,
                      1,
                      2,
                      1,
                      4,
                      2,
                      2,
                      3,
                      3,
                      2,
                      1,
                      1,
                      1,
                      2,
                      1,
                      1,
                      1,
                      1,
                      1,
                      1,
                      1,
                      1,
                      1,
                      2,
                      1,
                      2,
                      1,
                      1,
                      1,
                      2,
                      4,
                      1,
                      1,
                      1,
                      1,
                      1,
                      1,
                      2,
                      1,
                      3,
                      3,
                      2,
                      3,
                      1,
                      1,
                      2,
                      1,
                      2,
                      1,
                      2,
                      1,
                      1,
                      2,
                      2,
                      1,
                      1,
                      2,
                      1,
                      1,
                      1,
                      2,
                      3,
                      1
                    ],
                    "sizemode": "area",
                    "sizeref": 0.02,
                    "symbol": "circle"
                  },
                  "mode": "markers",
                  "name": "",
                  "orientation": "v",
                  "showlegend": false,
                  "type": "scatter",
                  "x": [
                    553,
                    1474,
                    1397,
                    7858,
                    3133,
                    2186,
                    3090,
                    714,
                    1096,
                    2953,
                    2876,
                    422,
                    12211,
                    3528,
                    23575,
                    8109,
                    2942,
                    873,
                    2610,
                    596,
                    332,
                    516,
                    12859,
                    1313,
                    1945,
                    250,
                    7112,
                    859,
                    2420,
                    2988,
                    864,
                    266,
                    6036,
                    9082,
                    4284,
                    1150,
                    672,
                    11434,
                    7830,
                    584,
                    692,
                    24094,
                    12482,
                    13387,
                    1117,
                    3372,
                    8431,
                    2483,
                    29536,
                    3408,
                    1298,
                    4277,
                    1133,
                    2259,
                    18371,
                    43899,
                    2649,
                    6804,
                    525,
                    7923,
                    731,
                    5184,
                    3107,
                    4053,
                    4637,
                    31358,
                    3818,
                    3506,
                    410,
                    148,
                    1004,
                    22543,
                    4511,
                    16413,
                    8506,
                    33898,
                    3246,
                    8576,
                    3618,
                    370,
                    31123,
                    2790,
                    267,
                    139,
                    17050,
                    2114,
                    17836,
                    8870,
                    6060,
                    641,
                    1446,
                    804,
                    1962,
                    4875,
                    31,
                    2175,
                    2000,
                    2839,
                    20333,
                    674,
                    8448,
                    2110,
                    2528,
                    12985,
                    77,
                    266,
                    21097,
                    3423,
                    4198,
                    14739,
                    26792,
                    213,
                    58,
                    99,
                    41751,
                    21164,
                    2988,
                    893,
                    1094,
                    7324,
                    201,
                    5120,
                    2346,
                    763,
                    457,
                    3430,
                    6074,
                    21915,
                    15032,
                    871,
                    451,
                    1783,
                    9389,
                    5724,
                    13985,
                    1051,
                    1682,
                    182,
                    16596,
                    2335,
                    18986,
                    283,
                    293,
                    21081,
                    437,
                    1275,
                    6135,
                    20015,
                    1507,
                    539,
                    86,
                    324,
                    17138,
                    894,
                    1622,
                    561,
                    5871,
                    29215,
                    5866,
                    3859,
                    961,
                    6457,
                    43257,
                    4564,
                    12688,
                    13801,
                    22439,
                    18515,
                    36843,
                    2420,
                    5897,
                    727,
                    33783,
                    26694,
                    356,
                    6518,
                    21335,
                    23389,
                    3202,
                    32181,
                    7124,
                    592,
                    36724,
                    794,
                    13091,
                    67,
                    21574,
                    19664,
                    21106,
                    23804,
                    849,
                    2619,
                    9037,
                    86,
                    1788,
                    15890,
                    492,
                    773,
                    1154,
                    44927,
                    551,
                    577,
                    955,
                    995,
                    178,
                    290,
                    547,
                    681,
                    332,
                    1197,
                    262,
                    161,
                    185,
                    839,
                    259,
                    2915,
                    5129,
                    3794,
                    588,
                    2959,
                    291,
                    2321,
                    536,
                    359,
                    4096,
                    349,
                    381,
                    2461,
                    277,
                    967,
                    8186,
                    7842,
                    215,
                    1134,
                    1305,
                    2066,
                    896,
                    3763,
                    197,
                    4004,
                    984,
                    1240,
                    3995,
                    7681,
                    4427,
                    4657,
                    10195,
                    269,
                    214,
                    845,
                    20763,
                    1267,
                    2585,
                    6330,
                    675,
                    715,
                    327,
                    244,
                    385,
                    1020,
                    1730,
                    2127,
                    3242,
                    526,
                    366,
                    472,
                    432,
                    271,
                    816,
                    1169,
                    1282,
                    6587,
                    1444,
                    356,
                    10147,
                    265,
                    351,
                    158,
                    7613,
                    3956,
                    1638,
                    924,
                    1985,
                    6339,
                    1561,
                    875,
                    406,
                    340,
                    4188,
                    105,
                    1524,
                    2651,
                    11087,
                    373,
                    200,
                    3741,
                    32502,
                    7615,
                    1208,
                    209,
                    1235,
                    654,
                    1479,
                    4942,
                    709,
                    660,
                    489,
                    407,
                    7461,
                    993,
                    9161,
                    3282,
                    596,
                    320,
                    2612,
                    2040,
                    2128,
                    2598,
                    542,
                    2459,
                    10624,
                    2418,
                    7536,
                    10431,
                    15722,
                    25744,
                    1640,
                    34,
                    1845,
                    3301,
                    1911,
                    20111,
                    1529,
                    615,
                    811,
                    5730,
                    356,
                    604,
                    1190,
                    579,
                    1553,
                    2301,
                    134,
                    430,
                    86,
                    629,
                    1701,
                    329,
                    1168,
                    162,
                    2536,
                    387,
                    892,
                    3909,
                    3645,
                    282,
                    888,
                    968,
                    25065,
                    531,
                    242,
                    5281,
                    2590,
                    1769,
                    454,
                    6180,
                    3600,
                    1254,
                    6398,
                    660,
                    1283,
                    8084,
                    2332,
                    203,
                    685,
                    2460,
                    288,
                    4572,
                    6127,
                    166,
                    1838,
                    1890,
                    2098,
                    761,
                    1225,
                    415,
                    3469,
                    3311,
                    2616,
                    3006,
                    4260,
                    482,
                    4013,
                    138,
                    1368,
                    17852,
                    889,
                    4796,
                    658,
                    3009,
                    17492,
                    6170,
                    130,
                    27705,
                    359,
                    1963,
                    5491,
                    27119,
                    1776,
                    1473,
                    13315,
                    4057,
                    3045,
                    3006,
                    852,
                    2163,
                    1484,
                    1703,
                    4169,
                    1054,
                    2849,
                    1602,
                    9644,
                    4827,
                    21811,
                    168,
                    688,
                    10565,
                    1612,
                    12755,
                    574,
                    2499,
                    10426,
                    15894,
                    9424,
                    713,
                    7758,
                    2537,
                    292,
                    323,
                    14143,
                    25653,
                    22153,
                    14994,
                    10326,
                    12353,
                    9408,
                    8879,
                    6512,
                    5140,
                    6596,
                    3788,
                    7655,
                    9577,
                    10114,
                    1007,
                    1127,
                    10829,
                    1042,
                    7930,
                    11500,
                    1685,
                    14169,
                    1634,
                    906,
                    1087,
                    10585,
                    827,
                    1420,
                    11940,
                    888,
                    9122,
                    892,
                    989,
                    819,
                    2209,
                    6290,
                    6952,
                    313,
                    353,
                    4094,
                    880,
                    573,
                    3299,
                    811,
                    899,
                    2415,
                    2304,
                    1003,
                    2699,
                    2482,
                    2577,
                    6821,
                    714,
                    3185,
                    8612,
                    4326,
                    680,
                    398,
                    3328,
                    7215,
                    4440,
                    2881,
                    2235,
                    3711,
                    12403,
                    2785,
                    14114,
                    1915,
                    2297,
                    4375,
                    2800,
                    2597,
                    15563,
                    1420,
                    1292,
                    15867,
                    1178,
                    6672,
                    12329,
                    5669,
                    811,
                    1756,
                    1014,
                    7963,
                    4771,
                    8559,
                    3221,
                    3423,
                    2566,
                    9151,
                    8476,
                    7495,
                    5257,
                    1795,
                    12685,
                    648,
                    4635,
                    1184,
                    4431,
                    759,
                    733,
                    2795,
                    2780,
                    1950,
                    3947,
                    2551,
                    5375,
                    11975,
                    2696,
                    4963,
                    6734,
                    715,
                    3047,
                    14140,
                    11215,
                    1678,
                    2035,
                    2780,
                    4091,
                    2868,
                    3643,
                    4779,
                    3517,
                    5073,
                    7545,
                    8528,
                    2979,
                    7731,
                    1057,
                    3272,
                    14417,
                    5199,
                    6026,
                    4640,
                    1150,
                    768,
                    925,
                    3006,
                    3098,
                    9771,
                    807,
                    521,
                    12854,
                    802,
                    731,
                    788,
                    3069,
                    4651,
                    4999,
                    8327,
                    3297,
                    35684,
                    3506,
                    2999,
                    3681,
                    4846,
                    14311,
                    8207,
                    4873,
                    772,
                    1150,
                    5398,
                    7370,
                    6890,
                    1966,
                    2226,
                    4204,
                    1959,
                    7191,
                    2012,
                    1211,
                    7109,
                    6638,
                    17354,
                    6392,
                    5481,
                    2636,
                    824,
                    24529,
                    14749,
                    8087,
                    27221,
                    49991,
                    6646,
                    5403,
                    755,
                    254,
                    6308,
                    51979,
                    246,
                    6556,
                    5728,
                    16636,
                    461,
                    4893,
                    1801,
                    12043,
                    4731,
                    22923,
                    9974,
                    1560,
                    620,
                    3270,
                    580,
                    3406,
                    903,
                    6809,
                    33966,
                    590,
                    3766,
                    1430,
                    31762,
                    4049,
                    2096,
                    1175,
                    29499,
                    30427,
                    2711,
                    4310,
                    5342,
                    2393,
                    3444,
                    5443,
                    272,
                    975,
                    1034,
                    18773,
                    19067,
                    3541,
                    1492,
                    33206,
                    17115,
                    6955,
                    2742,
                    4214,
                    2026,
                    352,
                    1517,
                    847,
                    910,
                    601,
                    1800,
                    1930,
                    33032,
                    6332,
                    509,
                    971,
                    2578,
                    1064,
                    3618,
                    1040,
                    15010,
                    4708,
                    13454,
                    4890,
                    9514,
                    3501,
                    6111,
                    5415,
                    4673,
                    1856,
                    200,
                    1888,
                    911,
                    2954,
                    461,
                    2844,
                    2939,
                    695,
                    328,
                    866,
                    1550,
                    1729,
                    2005,
                    1188,
                    40112,
                    3659,
                    9833,
                    50887,
                    3257,
                    1473,
                    2226,
                    23375,
                    28032,
                    290,
                    42798,
                    2605,
                    8737,
                    1105,
                    2499,
                    2697,
                    2092,
                    1185,
                    11985,
                    753,
                    2995,
                    225,
                    9243,
                    918,
                    1959,
                    540,
                    859,
                    1116,
                    273,
                    686,
                    226,
                    1264,
                    870,
                    7556,
                    1370,
                    315,
                    651,
                    12382,
                    625,
                    8429,
                    52898,
                    3436,
                    918,
                    181,
                    18778,
                    22730,
                    5542,
                    9021,
                    4627,
                    2229,
                    1112,
                    2575,
                    3107,
                    1179,
                    3486,
                    2942,
                    1443,
                    3028,
                    1796,
                    2729,
                    1195,
                    892,
                    1635,
                    2291,
                    1029,
                    1681,
                    1480,
                    829,
                    2308,
                    1004,
                    1367,
                    1112,
                    1209,
                    9539,
                    1992,
                    897,
                    2948,
                    1860,
                    802,
                    2224,
                    1103,
                    2265,
                    555,
                    2050,
                    1493,
                    1545,
                    2350,
                    1929,
                    710,
                    928,
                    1194,
                    349,
                    1890,
                    1308,
                    4531,
                    1657,
                    1351,
                    608,
                    1211,
                    629,
                    1301,
                    1329,
                    343,
                    13101,
                    2939,
                    407,
                    1492,
                    2264,
                    801,
                    829,
                    736,
                    4449,
                    3218,
                    327,
                    2775,
                    4576,
                    2313,
                    3983,
                    279,
                    2302,
                    3559,
                    2129,
                    3291,
                    5328,
                    1401,
                    1933,
                    1986,
                    1057,
                    5115,
                    2094,
                    2171,
                    896,
                    5148,
                    2528,
                    1900,
                    3879,
                    896,
                    8775,
                    5290,
                    10211,
                    584,
                    1517,
                    246,
                    220,
                    514,
                    6080,
                    9724,
                    2341,
                    5263,
                    2402,
                    795,
                    571,
                    832,
                    565,
                    41231,
                    4526,
                    1818,
                    2814,
                    1601,
                    894,
                    945,
                    767,
                    5898,
                    685,
                    1452,
                    1456,
                    2107,
                    1494,
                    1379,
                    625,
                    2688,
                    2668,
                    799,
                    1189,
                    367,
                    527,
                    17504,
                    3113,
                    685,
                    782,
                    2442,
                    1112,
                    4967,
                    2520,
                    767,
                    19806,
                    5153,
                    615,
                    2537,
                    1647,
                    2019,
                    1473,
                    1613,
                    30992,
                    10826,
                    920,
                    308,
                    2468,
                    1097,
                    330,
                    1584,
                    1585,
                    766,
                    836,
                    430,
                    2020,
                    6858,
                    3682,
                    1639,
                    452,
                    668,
                    991,
                    869,
                    648,
                    1545,
                    1930,
                    1948,
                    1608,
                    1338,
                    1936,
                    1794,
                    1597,
                    1652,
                    1747,
                    1715,
                    486,
                    1007,
                    481,
                    1045,
                    1060,
                    1274,
                    953,
                    1180,
                    573,
                    1320,
                    782
                  ],
                  "xaxis": "x",
                  "y": [
                    141381703,
                    133716286,
                    140003974,
                    800840817,
                    303236322,
                    183706234,
                    725980112,
                    58149378,
                    95217315,
                    553634067,
                    505671438,
                    58255150,
                    1316855716,
                    387570742,
                    2513188493,
                    1163093654,
                    496795686,
                    30546883,
                    335222234,
                    363369738,
                    86444842,
                    52135248,
                    1297026226,
                    200647221,
                    115364561,
                    78300654,
                    899183384,
                    61245289,
                    429829812,
                    127408954,
                    22581161,
                    52294266,
                    843957510,
                    999748277,
                    618990393,
                    123122413,
                    188933502,
                    1355959075,
                    786181836,
                    176553476,
                    354495408,
                    2808096550,
                    1109433169,
                    1047101291,
                    65156199,
                    570515054,
                    1085685420,
                    1647990401,
                    2565529693,
                    518745108,
                    107753850,
                    177740666,
                    153372011,
                    57876440,
                    1813673666,
                    3703895074,
                    256483385,
                    1214083358,
                    16011326,
                    812019557,
                    111947664,
                    156338624,
                    720434240,
                    357925728,
                    674072710,
                    1755214421,
                    404562836,
                    373199958,
                    14780425,
                    39578178,
                    54266102,
                    2557975762,
                    751134527,
                    2282771485,
                    1356565093,
                    1592909789,
                    635412045,
                    1230675890,
                    585695368,
                    43857627,
                    2009094673,
                    600976848,
                    39709092,
                    39228929,
                    2665343922,
                    223633238,
                    2887241814,
                    1440757818,
                    165484133,
                    58054811,
                    157058870,
                    95131998,
                    250305248,
                    685032533,
                    38411956,
                    144565150,
                    127567540,
                    399686758,
                    983637508,
                    118482347,
                    882831184,
                    286400165,
                    172825906,
                    1241559043,
                    29562220,
                    77309611,
                    1605224506,
                    1116995633,
                    838079900,
                    1163620694,
                    1093605526,
                    179659294,
                    39058561,
                    36912123,
                    1205951614,
                    1791000570,
                    201660859,
                    248088961,
                    90839753,
                    607123776,
                    55842345,
                    211050784,
                    342897938,
                    2762,
                    330346424,
                    601863821,
                    1953533826,
                    2322580122,
                    2355719893,
                    66902503,
                    96273746,
                    430977451,
                    284819874,
                    721975598,
                    1217120710,
                    109276132,
                    276259178,
                    54225632,
                    2559529074,
                    681583126,
                    2594040133,
                    81102253,
                    11956641,
                    1687664027,
                    11599388,
                    611700552,
                    1133865788,
                    1089402494,
                    411747614,
                    255932395,
                    31873544,
                    95053634,
                    1279434863,
                    233801632,
                    1481349984,
                    142095275,
                    618885532,
                    2011464183,
                    1167330737,
                    929964809,
                    436027885,
                    657723613,
                    2713922350,
                    621660989,
                    1591223784,
                    950906471,
                    1593270737,
                    1410088830,
                    1235005533,
                    1661187319,
                    1374581173,
                    94186466,
                    1788326445,
                    1840364617,
                    143573775,
                    684675814,
                    1113838873,
                    1267333350,
                    726307468,
                    3562543890,
                    1131090940,
                    307370144,
                    1271293243,
                    265882712,
                    841749534,
                    47956378,
                    806397070,
                    2132335812,
                    1641426668,
                    2135158446,
                    367316268,
                    350381515,
                    1264310836,
                    30343206,
                    405136812,
                    1145727611,
                    540654286,
                    57312735,
                    397582059,
                    1479115056,
                    86773632,
                    133753727,
                    123124076,
                    463564958,
                    64533040,
                    65496046,
                    68616963,
                    161460990,
                    70106975,
                    113509496,
                    89933133,
                    71007139,
                    43522589,
                    232896922,
                    37126685,
                    195576623,
                    532336353,
                    538115192,
                    46142772,
                    401036314,
                    127026613,
                    345031710,
                    288101651,
                    60350538,
                    335074782,
                    76767396,
                    46065667,
                    459276435,
                    39666245,
                    138517666,
                    822633917,
                    595900742,
                    51985779,
                    57945987,
                    115010040,
                    175097833,
                    57089066,
                    488386797,
                    32761689,
                    1047480053,
                    153454328,
                    217672943,
                    457184829,
                    939844851,
                    726434358,
                    573633020,
                    1406111294,
                    71573339,
                    24975653,
                    145458418,
                    1424589568,
                    231332117,
                    415932686,
                    988515741,
                    50847624,
                    39893489,
                    92035115,
                    118810253,
                    77233241,
                    206399629,
                    117747907,
                    266624541,
                    293186992,
                    139681964,
                    123132751,
                    103762518,
                    162887075,
                    91221625,
                    190490915,
                    96180277,
                    185240616,
                    885093467,
                    104992946,
                    147290338,
                    1302184087,
                    158950978,
                    76910644,
                    137123880,
                    782369383,
                    502574952,
                    207033255,
                    404887295,
                    381161027,
                    466231982,
                    357580552,
                    61105704,
                    198275403,
                    168448603,
                    705469769,
                    34502215,
                    482175240,
                    304118600,
                    1449799467,
                    173627354,
                    90025258,
                    652704649,
                    1829992958,
                    655466831,
                    146409671,
                    95816024,
                    117206995,
                    100409613,
                    80758350,
                    325592432,
                    58473276,
                    52722996,
                    191945597,
                    77377503,
                    743693613,
                    267789608,
                    1221813483,
                    449701773,
                    67070410,
                    116334601,
                    433356509,
                    165584767,
                    367814306,
                    477033549,
                    156214700,
                    448843705,
                    1357608774,
                    294352144,
                    972164968,
                    920045682,
                    2420461338,
                    1947371785,
                    244658767,
                    68216992,
                    223582566,
                    471819764,
                    272377463,
                    1361425037,
                    149778242,
                    116599790,
                    148469433,
                    497225336,
                    88791109,
                    125917280,
                    105062254,
                    95623148,
                    144584800,
                    298063749,
                    166570053,
                    83021468,
                    139836056,
                    303216294,
                    221409663,
                    58890931,
                    81419389,
                    156777415,
                    284908316,
                    93438910,
                    363472647,
                    372476382,
                    380726517,
                    56533272,
                    175399345,
                    203221468,
                    1624165576,
                    134294498,
                    70069745,
                    609293408,
                    671365962,
                    362361576,
                    93587665,
                    1223481149,
                    1022258230,
                    263453310,
                    1435127549,
                    236857112,
                    147538971,
                    698086140,
                    723894473,
                    34450974,
                    403097450,
                    309483971,
                    319566866,
                    909001996,
                    1061966512,
                    32526947,
                    124988687,
                    103787664,
                    134255790,
                    301051721,
                    156338624,
                    152850295,
                    309653982,
                    297328960,
                    332506354,
                    480507035,
                    1065580332,
                    122763672,
                    445763624,
                    1365184,
                    184308753,
                    789753877,
                    323358833,
                    606361689,
                    120972253,
                    338564981,
                    1606986953,
                    1301799902,
                    140187018,
                    1897517891,
                    107642809,
                    551305895,
                    556585270,
                    2303033973,
                    646886885,
                    222612678,
                    1814349763,
                    872137015,
                    571386359,
                    304079786,
                    174006928,
                    284785823,
                    163284000,
                    246390068,
                    482257456,
                    168684524,
                    78489819,
                    195516622,
                    1260594497,
                    428685680,
                    1024858327,
                    838586769,
                    199386237,
                    972509632,
                    213438580,
                    1555511105,
                    210038833,
                    227918678,
                    826623384,
                    1802514301,
                    1329090101,
                    181831132,
                    462791599,
                    348647203,
                    366599607,
                    90598517,
                    1479264469,
                    1449779435,
                    1159176109,
                    769213520,
                    741301563,
                    807561936,
                    834129063,
                    663832097,
                    446390129,
                    690104769,
                    485285717,
                    520034544,
                    476244795,
                    629173063,
                    404664135,
                    98709329,
                    110849052,
                    460492795,
                    94005786,
                    395591396,
                    389771964,
                    403939487,
                    481697415,
                    110073250,
                    88092256,
                    351636786,
                    473248298,
                    73981293,
                    155653938,
                    395591396,
                    429504768,
                    242767149,
                    65362788,
                    67540165,
                    62019074,
                    135723538,
                    295998468,
                    261116938,
                    136689549,
                    135611421,
                    356709897,
                    110649992,
                    301869854,
                    127027715,
                    57144458,
                    56870689,
                    323437194,
                    317726339,
                    116144341,
                    328207708,
                    608228647,
                    180577478,
                    809306935,
                    49262961,
                    614555082,
                    245350949,
                    178660459,
                    51641685,
                    78139948,
                    322336177,
                    1007612429,
                    326792833,
                    391251368,
                    349585590,
                    339659802,
                    674772936,
                    432719968,
                    1309887447,
                    119238316,
                    116903579,
                    888046992,
                    200660871,
                    130655803,
                    1887039593,
                    88103848,
                    101114984,
                    1575467011,
                    91656026,
                    1042568408,
                    1735441776,
                    726837877,
                    53933526,
                    267758538,
                    74601456,
                    920797189,
                    539595276,
                    1367810478,
                    578207856,
                    775542072,
                    863625566,
                    656013912,
                    1056760045,
                    611994237,
                    1230855859,
                    582981380,
                    1858144199,
                    240684449,
                    583687007,
                    63803529,
                    466214729,
                    236940480,
                    41924466,
                    225259194,
                    393230256,
                    287201015,
                    599770206,
                    342779426,
                    673801126,
                    1168642797,
                    540539717,
                    383550148,
                    530511203,
                    37307967,
                    510876816,
                    1445941661,
                    1763363713,
                    374191487,
                    108809090,
                    436695353,
                    421040617,
                    501541661,
                    354065229,
                    1143647827,
                    311395144,
                    672656250,
                    1256880657,
                    1692897992,
                    245095641,
                    686734357,
                    261414174,
                    610045621,
                    1115880852,
                    594482982,
                    566954746,
                    374706940,
                    184937148,
                    31959571,
                    167076418,
                    824420218,
                    363467642,
                    1127468248,
                    60680939,
                    247737946,
                    1699402402,
                    154797871,
                    198883004,
                    124407432,
                    850608354,
                    376333030,
                    516784627,
                    1608045237,
                    506778838,
                    1472799873,
                    513643924,
                    261286503,
                    783706581,
                    422691058,
                    1062345656,
                    1252563873,
                    851070493,
                    263894529,
                    345903614,
                    951637566,
                    956865266,
                    427486004,
                    156658366,
                    624515457,
                    777765388,
                    412795151,
                    1138474110,
                    355219175,
                    290228626,
                    1062956628,
                    1180094974,
                    1456081449,
                    432702334,
                    489945871,
                    465959382,
                    1223481149,
                    2864791672,
                    2288695111,
                    720825549,
                    2086124197,
                    1690192927,
                    991336132,
                    593917618,
                    200972675,
                    71014967,
                    560222750,
                    1806617704,
                    77337771,
                    528544703,
                    865640097,
                    2159346687,
                    211372494,
                    651732901,
                    608334048,
                    863756573,
                    797402345,
                    1695712020,
                    1759567999,
                    223319934,
                    54937991,
                    226897599,
                    258316038,
                    596152090,
                    177129919,
                    716591492,
                    1210599487,
                    246376690,
                    496311364,
                    146789379,
                    843309044,
                    500340342,
                    107255472,
                    135079152,
                    822239726,
                    1202722675,
                    343197054,
                    240769997,
                    426204830,
                    421135627,
                    554875730,
                    467727006,
                    327498031,
                    185408548,
                    245400167,
                    579395142,
                    675039469,
                    252871192,
                    231996128,
                    1929770265,
                    918915401,
                    1180896317,
                    498960285,
                    685071800,
                    258714692,
                    143139338,
                    209768491,
                    64714573,
                    50746620,
                    154119539,
                    181328253,
                    370068639,
                    2280566092,
                    563902868,
                    317622165,
                    291709698,
                    203680270,
                    81350745,
                    282883169,
                    64787943,
                    2484812918,
                    461437791,
                    1439191367,
                    759208783,
                    368646862,
                    299634472,
                    756907987,
                    682475162,
                    546191065,
                    229473310,
                    202677468,
                    121913181,
                    208166039,
                    527033089,
                    94616487,
                    394030335,
                    193443895,
                    299648208,
                    182978249,
                    319757142,
                    109091573,
                    153240879,
                    346127840,
                    312622938,
                    2197010679,
                    1200808494,
                    797196073,
                    1970673297,
                    665765558,
                    263779030,
                    339473453,
                    2204080728,
                    2591224264,
                    135444283,
                    1457139296,
                    236872197,
                    694525298,
                    240661097,
                    421365166,
                    349746291,
                    255120451,
                    190981339,
                    924193303,
                    305771063,
                    273005485,
                    89566512,
                    677389855,
                    75476209,
                    408843328,
                    187772591,
                    178512385,
                    101780047,
                    118381354,
                    146363130,
                    126443991,
                    157990698,
                    176290831,
                    1023187129,
                    106933107,
                    139193812,
                    212234990,
                    1714490998,
                    197643795,
                    807015863,
                    933815613,
                    499710590,
                    120847157,
                    53909146,
                    2236667932,
                    2123309722,
                    301242089,
                    723894473,
                    237351106,
                    461558540,
                    417230415,
                    156898322,
                    127309180,
                    313113297,
                    173702135,
                    271666301,
                    305650299,
                    123216717,
                    479655659,
                    126191104,
                    344055883,
                    338422004,
                    68895644,
                    86176890,
                    403231558,
                    319546754,
                    61739839,
                    283359161,
                    76831876,
                    283332261,
                    307752576,
                    279737940,
                    212351890,
                    1304313953,
                    150500965,
                    246127838,
                    582863434,
                    58687425,
                    212109195,
                    382199619,
                    41210087,
                    231657891,
                    53729194,
                    244741137,
                    42485571,
                    37778188,
                    254218729,
                    53603447,
                    160035717,
                    164163229,
                    37091576,
                    284249832,
                    33381454,
                    184622518,
                    300983101,
                    121077868,
                    106919680,
                    136996305,
                    65719930,
                    229497852,
                    185550869,
                    54682594,
                    240580042,
                    1284942608,
                    71423324,
                    244891912,
                    132171975,
                    184706613,
                    184826429,
                    302006641,
                    330881149,
                    334733572,
                    366214458,
                    114546317,
                    290833204,
                    448500832,
                    136676504,
                    190625045,
                    79095270,
                    273194684,
                    333146475,
                    194902696,
                    311482393,
                    195918494,
                    248511839,
                    233671263,
                    199587884,
                    91781263,
                    383835984,
                    236060709,
                    189236868,
                    160845341,
                    588955257,
                    238350348,
                    187703102,
                    295307001,
                    138334433,
                    445590495,
                    286739476,
                    1122364376,
                    157136970,
                    137070925,
                    183273246,
                    184807630,
                    164856284,
                    704171068,
                    354614964,
                    279717388,
                    195628667,
                    221752937,
                    263280370,
                    213505179,
                    130419412,
                    155795783,
                    1553497987,
                    293466523,
                    711366595,
                    191448892,
                    85924992,
                    176103902,
                    121189256,
                    131746175,
                    244790012,
                    129314708,
                    331511413,
                    219196651,
                    170732845,
                    273914335,
                    179061440,
                    185236961,
                    171788484,
                    387080183,
                    264717480,
                    244928911,
                    97610446,
                    287278853,
                    887906111,
                    123473120,
                    295152154,
                    323455692,
                    240918092,
                    191873381,
                    284216603,
                    239411309,
                    265548837,
                    703301727,
                    244585109,
                    189476119,
                    277132266,
                    278920007,
                    222410722,
                    185392587,
                    202452860,
                    1608164312,
                    624101957,
                    148461629,
                    47093942,
                    380319238,
                    209106362,
                    53987404,
                    115331792,
                    225093344,
                    84697729,
                    159240673,
                    170709584,
                    154356956,
                    723043854,
                    247689123,
                    176474912,
                    235549288,
                    140430339,
                    85559365,
                    146223492,
                    187701588,
                    154863153,
                    191333656,
                    253650850,
                    223064273,
                    170413877,
                    218320587,
                    141720999,
                    187339835,
                    198365537,
                    186104310,
                    177503916,
                    71095708,
                    112436403,
                    203436468,
                    93367537,
                    106249219,
                    181382590,
                    91473363,
                    121871870,
                    73513683,
                    133895612,
                    96007391
                  ],
                  "yaxis": "y"
                }
              ],
              "layout": {
                "coloraxis": {
                  "colorbar": {
                    "title": {
                      "text": "artist_count"
                    }
                  },
                  "colorscale": [
                    [
                      0,
                      "#0d0887"
                    ],
                    [
                      0.1111111111111111,
                      "#46039f"
                    ],
                    [
                      0.2222222222222222,
                      "#7201a8"
                    ],
                    [
                      0.3333333333333333,
                      "#9c179e"
                    ],
                    [
                      0.4444444444444444,
                      "#bd3786"
                    ],
                    [
                      0.5555555555555556,
                      "#d8576b"
                    ],
                    [
                      0.6666666666666666,
                      "#ed7953"
                    ],
                    [
                      0.7777777777777778,
                      "#fb9f3a"
                    ],
                    [
                      0.8888888888888888,
                      "#fdca26"
                    ],
                    [
                      1,
                      "#f0f921"
                    ]
                  ]
                },
                "legend": {
                  "itemsizing": "constant",
                  "tracegroupgap": 0
                },
                "template": {
                  "data": {
                    "bar": [
                      {
                        "error_x": {
                          "color": "#2a3f5f"
                        },
                        "error_y": {
                          "color": "#2a3f5f"
                        },
                        "marker": {
                          "line": {
                            "color": "#E5ECF6",
                            "width": 0.5
                          },
                          "pattern": {
                            "fillmode": "overlay",
                            "size": 10,
                            "solidity": 0.2
                          }
                        },
                        "type": "bar"
                      }
                    ],
                    "barpolar": [
                      {
                        "marker": {
                          "line": {
                            "color": "#E5ECF6",
                            "width": 0.5
                          },
                          "pattern": {
                            "fillmode": "overlay",
                            "size": 10,
                            "solidity": 0.2
                          }
                        },
                        "type": "barpolar"
                      }
                    ],
                    "carpet": [
                      {
                        "aaxis": {
                          "endlinecolor": "#2a3f5f",
                          "gridcolor": "white",
                          "linecolor": "white",
                          "minorgridcolor": "white",
                          "startlinecolor": "#2a3f5f"
                        },
                        "baxis": {
                          "endlinecolor": "#2a3f5f",
                          "gridcolor": "white",
                          "linecolor": "white",
                          "minorgridcolor": "white",
                          "startlinecolor": "#2a3f5f"
                        },
                        "type": "carpet"
                      }
                    ],
                    "choropleth": [
                      {
                        "colorbar": {
                          "outlinewidth": 0,
                          "ticks": ""
                        },
                        "type": "choropleth"
                      }
                    ],
                    "contour": [
                      {
                        "colorbar": {
                          "outlinewidth": 0,
                          "ticks": ""
                        },
                        "colorscale": [
                          [
                            0,
                            "#0d0887"
                          ],
                          [
                            0.1111111111111111,
                            "#46039f"
                          ],
                          [
                            0.2222222222222222,
                            "#7201a8"
                          ],
                          [
                            0.3333333333333333,
                            "#9c179e"
                          ],
                          [
                            0.4444444444444444,
                            "#bd3786"
                          ],
                          [
                            0.5555555555555556,
                            "#d8576b"
                          ],
                          [
                            0.6666666666666666,
                            "#ed7953"
                          ],
                          [
                            0.7777777777777778,
                            "#fb9f3a"
                          ],
                          [
                            0.8888888888888888,
                            "#fdca26"
                          ],
                          [
                            1,
                            "#f0f921"
                          ]
                        ],
                        "type": "contour"
                      }
                    ],
                    "contourcarpet": [
                      {
                        "colorbar": {
                          "outlinewidth": 0,
                          "ticks": ""
                        },
                        "type": "contourcarpet"
                      }
                    ],
                    "heatmap": [
                      {
                        "colorbar": {
                          "outlinewidth": 0,
                          "ticks": ""
                        },
                        "colorscale": [
                          [
                            0,
                            "#0d0887"
                          ],
                          [
                            0.1111111111111111,
                            "#46039f"
                          ],
                          [
                            0.2222222222222222,
                            "#7201a8"
                          ],
                          [
                            0.3333333333333333,
                            "#9c179e"
                          ],
                          [
                            0.4444444444444444,
                            "#bd3786"
                          ],
                          [
                            0.5555555555555556,
                            "#d8576b"
                          ],
                          [
                            0.6666666666666666,
                            "#ed7953"
                          ],
                          [
                            0.7777777777777778,
                            "#fb9f3a"
                          ],
                          [
                            0.8888888888888888,
                            "#fdca26"
                          ],
                          [
                            1,
                            "#f0f921"
                          ]
                        ],
                        "type": "heatmap"
                      }
                    ],
                    "heatmapgl": [
                      {
                        "colorbar": {
                          "outlinewidth": 0,
                          "ticks": ""
                        },
                        "colorscale": [
                          [
                            0,
                            "#0d0887"
                          ],
                          [
                            0.1111111111111111,
                            "#46039f"
                          ],
                          [
                            0.2222222222222222,
                            "#7201a8"
                          ],
                          [
                            0.3333333333333333,
                            "#9c179e"
                          ],
                          [
                            0.4444444444444444,
                            "#bd3786"
                          ],
                          [
                            0.5555555555555556,
                            "#d8576b"
                          ],
                          [
                            0.6666666666666666,
                            "#ed7953"
                          ],
                          [
                            0.7777777777777778,
                            "#fb9f3a"
                          ],
                          [
                            0.8888888888888888,
                            "#fdca26"
                          ],
                          [
                            1,
                            "#f0f921"
                          ]
                        ],
                        "type": "heatmapgl"
                      }
                    ],
                    "histogram": [
                      {
                        "marker": {
                          "pattern": {
                            "fillmode": "overlay",
                            "size": 10,
                            "solidity": 0.2
                          }
                        },
                        "type": "histogram"
                      }
                    ],
                    "histogram2d": [
                      {
                        "colorbar": {
                          "outlinewidth": 0,
                          "ticks": ""
                        },
                        "colorscale": [
                          [
                            0,
                            "#0d0887"
                          ],
                          [
                            0.1111111111111111,
                            "#46039f"
                          ],
                          [
                            0.2222222222222222,
                            "#7201a8"
                          ],
                          [
                            0.3333333333333333,
                            "#9c179e"
                          ],
                          [
                            0.4444444444444444,
                            "#bd3786"
                          ],
                          [
                            0.5555555555555556,
                            "#d8576b"
                          ],
                          [
                            0.6666666666666666,
                            "#ed7953"
                          ],
                          [
                            0.7777777777777778,
                            "#fb9f3a"
                          ],
                          [
                            0.8888888888888888,
                            "#fdca26"
                          ],
                          [
                            1,
                            "#f0f921"
                          ]
                        ],
                        "type": "histogram2d"
                      }
                    ],
                    "histogram2dcontour": [
                      {
                        "colorbar": {
                          "outlinewidth": 0,
                          "ticks": ""
                        },
                        "colorscale": [
                          [
                            0,
                            "#0d0887"
                          ],
                          [
                            0.1111111111111111,
                            "#46039f"
                          ],
                          [
                            0.2222222222222222,
                            "#7201a8"
                          ],
                          [
                            0.3333333333333333,
                            "#9c179e"
                          ],
                          [
                            0.4444444444444444,
                            "#bd3786"
                          ],
                          [
                            0.5555555555555556,
                            "#d8576b"
                          ],
                          [
                            0.6666666666666666,
                            "#ed7953"
                          ],
                          [
                            0.7777777777777778,
                            "#fb9f3a"
                          ],
                          [
                            0.8888888888888888,
                            "#fdca26"
                          ],
                          [
                            1,
                            "#f0f921"
                          ]
                        ],
                        "type": "histogram2dcontour"
                      }
                    ],
                    "mesh3d": [
                      {
                        "colorbar": {
                          "outlinewidth": 0,
                          "ticks": ""
                        },
                        "type": "mesh3d"
                      }
                    ],
                    "parcoords": [
                      {
                        "line": {
                          "colorbar": {
                            "outlinewidth": 0,
                            "ticks": ""
                          }
                        },
                        "type": "parcoords"
                      }
                    ],
                    "pie": [
                      {
                        "automargin": true,
                        "type": "pie"
                      }
                    ],
                    "scatter": [
                      {
                        "fillpattern": {
                          "fillmode": "overlay",
                          "size": 10,
                          "solidity": 0.2
                        },
                        "type": "scatter"
                      }
                    ],
                    "scatter3d": [
                      {
                        "line": {
                          "colorbar": {
                            "outlinewidth": 0,
                            "ticks": ""
                          }
                        },
                        "marker": {
                          "colorbar": {
                            "outlinewidth": 0,
                            "ticks": ""
                          }
                        },
                        "type": "scatter3d"
                      }
                    ],
                    "scattercarpet": [
                      {
                        "marker": {
                          "colorbar": {
                            "outlinewidth": 0,
                            "ticks": ""
                          }
                        },
                        "type": "scattercarpet"
                      }
                    ],
                    "scattergeo": [
                      {
                        "marker": {
                          "colorbar": {
                            "outlinewidth": 0,
                            "ticks": ""
                          }
                        },
                        "type": "scattergeo"
                      }
                    ],
                    "scattergl": [
                      {
                        "marker": {
                          "colorbar": {
                            "outlinewidth": 0,
                            "ticks": ""
                          }
                        },
                        "type": "scattergl"
                      }
                    ],
                    "scattermapbox": [
                      {
                        "marker": {
                          "colorbar": {
                            "outlinewidth": 0,
                            "ticks": ""
                          }
                        },
                        "type": "scattermapbox"
                      }
                    ],
                    "scatterpolar": [
                      {
                        "marker": {
                          "colorbar": {
                            "outlinewidth": 0,
                            "ticks": ""
                          }
                        },
                        "type": "scatterpolar"
                      }
                    ],
                    "scatterpolargl": [
                      {
                        "marker": {
                          "colorbar": {
                            "outlinewidth": 0,
                            "ticks": ""
                          }
                        },
                        "type": "scatterpolargl"
                      }
                    ],
                    "scatterternary": [
                      {
                        "marker": {
                          "colorbar": {
                            "outlinewidth": 0,
                            "ticks": ""
                          }
                        },
                        "type": "scatterternary"
                      }
                    ],
                    "surface": [
                      {
                        "colorbar": {
                          "outlinewidth": 0,
                          "ticks": ""
                        },
                        "colorscale": [
                          [
                            0,
                            "#0d0887"
                          ],
                          [
                            0.1111111111111111,
                            "#46039f"
                          ],
                          [
                            0.2222222222222222,
                            "#7201a8"
                          ],
                          [
                            0.3333333333333333,
                            "#9c179e"
                          ],
                          [
                            0.4444444444444444,
                            "#bd3786"
                          ],
                          [
                            0.5555555555555556,
                            "#d8576b"
                          ],
                          [
                            0.6666666666666666,
                            "#ed7953"
                          ],
                          [
                            0.7777777777777778,
                            "#fb9f3a"
                          ],
                          [
                            0.8888888888888888,
                            "#fdca26"
                          ],
                          [
                            1,
                            "#f0f921"
                          ]
                        ],
                        "type": "surface"
                      }
                    ],
                    "table": [
                      {
                        "cells": {
                          "fill": {
                            "color": "#EBF0F8"
                          },
                          "line": {
                            "color": "white"
                          }
                        },
                        "header": {
                          "fill": {
                            "color": "#C8D4E3"
                          },
                          "line": {
                            "color": "white"
                          }
                        },
                        "type": "table"
                      }
                    ]
                  },
                  "layout": {
                    "annotationdefaults": {
                      "arrowcolor": "#2a3f5f",
                      "arrowhead": 0,
                      "arrowwidth": 1
                    },
                    "autotypenumbers": "strict",
                    "coloraxis": {
                      "colorbar": {
                        "outlinewidth": 0,
                        "ticks": ""
                      }
                    },
                    "colorscale": {
                      "diverging": [
                        [
                          0,
                          "#8e0152"
                        ],
                        [
                          0.1,
                          "#c51b7d"
                        ],
                        [
                          0.2,
                          "#de77ae"
                        ],
                        [
                          0.3,
                          "#f1b6da"
                        ],
                        [
                          0.4,
                          "#fde0ef"
                        ],
                        [
                          0.5,
                          "#f7f7f7"
                        ],
                        [
                          0.6,
                          "#e6f5d0"
                        ],
                        [
                          0.7,
                          "#b8e186"
                        ],
                        [
                          0.8,
                          "#7fbc41"
                        ],
                        [
                          0.9,
                          "#4d9221"
                        ],
                        [
                          1,
                          "#276419"
                        ]
                      ],
                      "sequential": [
                        [
                          0,
                          "#0d0887"
                        ],
                        [
                          0.1111111111111111,
                          "#46039f"
                        ],
                        [
                          0.2222222222222222,
                          "#7201a8"
                        ],
                        [
                          0.3333333333333333,
                          "#9c179e"
                        ],
                        [
                          0.4444444444444444,
                          "#bd3786"
                        ],
                        [
                          0.5555555555555556,
                          "#d8576b"
                        ],
                        [
                          0.6666666666666666,
                          "#ed7953"
                        ],
                        [
                          0.7777777777777778,
                          "#fb9f3a"
                        ],
                        [
                          0.8888888888888888,
                          "#fdca26"
                        ],
                        [
                          1,
                          "#f0f921"
                        ]
                      ],
                      "sequentialminus": [
                        [
                          0,
                          "#0d0887"
                        ],
                        [
                          0.1111111111111111,
                          "#46039f"
                        ],
                        [
                          0.2222222222222222,
                          "#7201a8"
                        ],
                        [
                          0.3333333333333333,
                          "#9c179e"
                        ],
                        [
                          0.4444444444444444,
                          "#bd3786"
                        ],
                        [
                          0.5555555555555556,
                          "#d8576b"
                        ],
                        [
                          0.6666666666666666,
                          "#ed7953"
                        ],
                        [
                          0.7777777777777778,
                          "#fb9f3a"
                        ],
                        [
                          0.8888888888888888,
                          "#fdca26"
                        ],
                        [
                          1,
                          "#f0f921"
                        ]
                      ]
                    },
                    "colorway": [
                      "#636efa",
                      "#EF553B",
                      "#00cc96",
                      "#ab63fa",
                      "#FFA15A",
                      "#19d3f3",
                      "#FF6692",
                      "#B6E880",
                      "#FF97FF",
                      "#FECB52"
                    ],
                    "font": {
                      "color": "#2a3f5f"
                    },
                    "geo": {
                      "bgcolor": "white",
                      "lakecolor": "white",
                      "landcolor": "#E5ECF6",
                      "showlakes": true,
                      "showland": true,
                      "subunitcolor": "white"
                    },
                    "hoverlabel": {
                      "align": "left"
                    },
                    "hovermode": "closest",
                    "mapbox": {
                      "style": "light"
                    },
                    "paper_bgcolor": "white",
                    "plot_bgcolor": "#E5ECF6",
                    "polar": {
                      "angularaxis": {
                        "gridcolor": "white",
                        "linecolor": "white",
                        "ticks": ""
                      },
                      "bgcolor": "#E5ECF6",
                      "radialaxis": {
                        "gridcolor": "white",
                        "linecolor": "white",
                        "ticks": ""
                      }
                    },
                    "scene": {
                      "xaxis": {
                        "backgroundcolor": "#E5ECF6",
                        "gridcolor": "white",
                        "gridwidth": 2,
                        "linecolor": "white",
                        "showbackground": true,
                        "ticks": "",
                        "zerolinecolor": "white"
                      },
                      "yaxis": {
                        "backgroundcolor": "#E5ECF6",
                        "gridcolor": "white",
                        "gridwidth": 2,
                        "linecolor": "white",
                        "showbackground": true,
                        "ticks": "",
                        "zerolinecolor": "white"
                      },
                      "zaxis": {
                        "backgroundcolor": "#E5ECF6",
                        "gridcolor": "white",
                        "gridwidth": 2,
                        "linecolor": "white",
                        "showbackground": true,
                        "ticks": "",
                        "zerolinecolor": "white"
                      }
                    },
                    "shapedefaults": {
                      "line": {
                        "color": "#2a3f5f"
                      }
                    },
                    "ternary": {
                      "aaxis": {
                        "gridcolor": "white",
                        "linecolor": "white",
                        "ticks": ""
                      },
                      "baxis": {
                        "gridcolor": "white",
                        "linecolor": "white",
                        "ticks": ""
                      },
                      "bgcolor": "#E5ECF6",
                      "caxis": {
                        "gridcolor": "white",
                        "linecolor": "white",
                        "ticks": ""
                      }
                    },
                    "title": {
                      "x": 0.05
                    },
                    "xaxis": {
                      "automargin": true,
                      "gridcolor": "white",
                      "linecolor": "white",
                      "ticks": "",
                      "title": {
                        "standoff": 15
                      },
                      "zerolinecolor": "white",
                      "zerolinewidth": 2
                    },
                    "yaxis": {
                      "automargin": true,
                      "gridcolor": "white",
                      "linecolor": "white",
                      "ticks": "",
                      "title": {
                        "standoff": 15
                      },
                      "zerolinecolor": "white",
                      "zerolinewidth": 2
                    }
                  }
                },
                "title": {
                  "text": "Popularidade por aparecimento em playlists dado o número de artistas"
                },
                "xaxis": {
                  "anchor": "y",
                  "domain": [
                    0,
                    1
                  ],
                  "title": {
                    "text": "in_spotify_playlists"
                  }
                },
                "yaxis": {
                  "anchor": "x",
                  "domain": [
                    0,
                    1
                  ],
                  "title": {
                    "text": "streams"
                  }
                }
              }
            }
          },
          "metadata": {},
          "output_type": "display_data"
        }
      ],
      "source": [
        "px.scatter(df, size='artist_count', y='streams', x='in_spotify_playlists', color='artist_count', title = 'Popularidade por aparecimento em playlists dado o número de artistas')"
      ]
    },
    {
      "cell_type": "markdown",
      "metadata": {
        "id": "Et7wl1OZ9biB"
      },
      "source": [
        "---"
      ]
    },
    {
      "cell_type": "markdown",
      "metadata": {
        "id": "oQq7YOZ8sE6y"
      },
      "source": [
        "Um bom indicativo para determinar a popularidade das músicas é o quanto elas aparecem em playlists. Entretando, é possível que os serviços de música tenham perfis de usuários diferentes. Dessa forma, pode-se realizar as seguintes pergunta: as playlists nos serviços de música Spotify, Apple Music e Deezer são parecidas? Se sim, quanto?"
      ]
    },
    {
      "cell_type": "code",
      "execution_count": 16,
      "metadata": {
        "id": "Md2m_Cjc1TeN"
      },
      "outputs": [],
      "source": [
        "# Transformando string de número com vírgula em números inteiros\n",
        "df['in_deezer_playlists'] = df['in_deezer_playlists'].str.replace(',', '').astype(int)"
      ]
    },
    {
      "cell_type": "code",
      "execution_count": 17,
      "metadata": {
        "colab": {
          "base_uri": "https://localhost:8080/",
          "height": 143
        },
        "id": "UIqob-iFzXae",
        "outputId": "eb17bc38-d261-478b-a15a-6152f37aaaa5"
      },
      "outputs": [
        {
          "data": {
            "text/html": [
              "<div>\n",
              "<style scoped>\n",
              "    .dataframe tbody tr th:only-of-type {\n",
              "        vertical-align: middle;\n",
              "    }\n",
              "\n",
              "    .dataframe tbody tr th {\n",
              "        vertical-align: top;\n",
              "    }\n",
              "\n",
              "    .dataframe thead th {\n",
              "        text-align: right;\n",
              "    }\n",
              "</style>\n",
              "<table border=\"1\" class=\"dataframe\">\n",
              "  <thead>\n",
              "    <tr style=\"text-align: right;\">\n",
              "      <th></th>\n",
              "      <th>in_spotify_playlists</th>\n",
              "      <th>in_apple_playlists</th>\n",
              "      <th>in_deezer_playlists</th>\n",
              "    </tr>\n",
              "  </thead>\n",
              "  <tbody>\n",
              "    <tr>\n",
              "      <th>in_spotify_playlists</th>\n",
              "      <td>1.000000</td>\n",
              "      <td>0.708258</td>\n",
              "      <td>0.826388</td>\n",
              "    </tr>\n",
              "    <tr>\n",
              "      <th>in_apple_playlists</th>\n",
              "      <td>0.708258</td>\n",
              "      <td>1.000000</td>\n",
              "      <td>0.472034</td>\n",
              "    </tr>\n",
              "    <tr>\n",
              "      <th>in_deezer_playlists</th>\n",
              "      <td>0.826388</td>\n",
              "      <td>0.472034</td>\n",
              "      <td>1.000000</td>\n",
              "    </tr>\n",
              "  </tbody>\n",
              "</table>\n",
              "</div>"
            ],
            "text/plain": [
              "                      in_spotify_playlists  in_apple_playlists  \\\n",
              "in_spotify_playlists              1.000000            0.708258   \n",
              "in_apple_playlists                0.708258            1.000000   \n",
              "in_deezer_playlists               0.826388            0.472034   \n",
              "\n",
              "                      in_deezer_playlists  \n",
              "in_spotify_playlists             0.826388  \n",
              "in_apple_playlists               0.472034  \n",
              "in_deezer_playlists              1.000000  "
            ]
          },
          "execution_count": 17,
          "metadata": {},
          "output_type": "execute_result"
        }
      ],
      "source": [
        "# Calculando correlações\n",
        "correlations = df[['in_spotify_playlists', 'in_apple_playlists', 'in_deezer_playlists']].corr()\n",
        "correlations"
      ]
    },
    {
      "cell_type": "code",
      "execution_count": 18,
      "metadata": {
        "colab": {
          "base_uri": "https://localhost:8080/",
          "height": 488
        },
        "id": "9-9S5CWW1347",
        "outputId": "3e58616a-ec85-4b51-9788-ba6acbcacd73"
      },
      "outputs": [
        {
          "data": {
            "image/png": "[encoded data removed]",
            "text/plain": [
              "<Figure size 432x288 with 2 Axes>"
            ]
          },
          "metadata": {
            "needs_background": "light"
          },
          "output_type": "display_data"
        },
        {
          "data": {
            "text/plain": [
              "<Figure size 1440x1800 with 0 Axes>"
            ]
          },
          "metadata": {},
          "output_type": "display_data"
        }
      ],
      "source": [
        "# Novos nomes para as variáveis\n",
        "new_names = {'in_spotify_playlists': 'Spotify playlists',\n",
        "              'in_apple_playlists': 'Apple Music Playlists',\n",
        "              'in_deezer_playlists': 'Deezer Playlists'}\n",
        "correlations = correlations.rename(columns=new_names, index=new_names)\n",
        "\n",
        "# Plotando o gráfico\n",
        "ax = plt.axes()\n",
        "plt.figure(figsize=(20, 25))\n",
        "sns.heatmap(correlations, annot=True, ax=ax)\n",
        "ax.set_title('Comparação de perfis de usuário em serviços de música', fontsize=15, pad=17)\n",
        "\n",
        "plt.show()"
      ]
    },
    {
      "cell_type": "markdown",
      "metadata": {
        "id": "XPoTVGBk3YsM"
      },
      "source": [
        "Com base no mapa de calor acima e nas correlações, é possível observar que as playlists do Spotify e do Apple Music estão correlacionadas, o que pode ser um indicativo de que o perfil de usuário entre esses serviços é parecido. O mesmo vale para o Spotify e para o Deezer, que apresentam correlação ainda maior entre si: 0.83, contra os 0.71 entre Spotify e Apple.\n",
        "\n",
        "Entretanto, ao comparar as plataformas Deezer e Apple Music, a correlação diminui bastante, o que pode indicar que os usuários dessas duas plataformas não possuem muitos interesses em comum."
      ]
    },
    {
      "cell_type": "markdown",
      "metadata": {
        "id": "o6ZHe26sbbaG"
      },
      "source": [
        "---"
      ]
    },
    {
      "cell_type": "markdown",
      "metadata": {
        "id": "CJHGXJDg_wEy"
      },
      "source": [
        "É possível, também, analisar a popularidade de um artista a partir do número de músicas dele que estão \"charteando\", ou seja, que estão presentes nas paradas musicais"
      ]
    },
    {
      "cell_type": "code",
      "execution_count": 19,
      "metadata": {
        "colab": {
          "base_uri": "https://localhost:8080/"
        },
        "id": "y39r8JJL_-0U",
        "outputId": "9c35398a-ea0d-42b2-deff-d254430fe544"
      },
      "outputs": [
        {
          "name": "stderr",
          "output_type": "stream",
          "text": [
            "C:\\Users\\Eduardo\\AppData\\Local\\Temp\\ipykernel_19616\\3945411706.py:6: FutureWarning:\n",
            "\n",
            "Using short name for 'orient' is deprecated. Only the options: ('dict', list, 'series', 'split', 'records', 'index') will be used in a future version. Use one of the above to silence this warning.\n",
            "\n"
          ]
        }
      ],
      "source": [
        "# Coletando informações dos artistas com mais músicas nos charts do Spotify\n",
        "df_artists_pop = df2[['artist(s)_name', 'in_spotify_charts']].groupby('artist(s)_name').sum().reset_index()\n",
        "df_artists_pop = df_artists_pop.drop(0)\n",
        "\n",
        "# Convertendo essas informações para um dicionário\n",
        "dict_pop = df_artists_pop.set_index('artist(s)_name').T.to_dict('in_spotify_charts')\n",
        "dict_pop = dict_pop['in_spotify_charts']"
      ]
    },
    {
      "cell_type": "code",
      "execution_count": 20,
      "metadata": {
        "colab": {
          "base_uri": "https://localhost:8080/",
          "height": 324
        },
        "id": "VoveyLqvCobI",
        "outputId": "1e6e0cc1-5182-4313-c22d-71abbb2c10e7"
      },
      "outputs": [
        {
          "data": {
            "image/png": "[encoded data removed]",
            "text/plain": [
              "<Figure size 432x288 with 1 Axes>"
            ]
          },
          "metadata": {
            "needs_background": "light"
          },
          "output_type": "display_data"
        }
      ],
      "source": [
        "# Criando e exibindo a nuvem de palavras\n",
        "wc = WordCloud(background_color='white', margin=3).fit_words(dict_pop)\n",
        "\n",
        "plt.imshow(wc, interpolation='bilinear')\n",
        "plt.title('Artistas com mais músicas nos \\'charts\\'', pad=17, fontsize=16)\n",
        "plt.axis(\"off\")\n",
        "plt.margins(x=0, y=0)\n",
        "plt.show()"
      ]
    },
    {
      "cell_type": "markdown",
      "metadata": {
        "id": "E9H4BweFE8dQ"
      },
      "source": [
        "A visualização acima é uma maneira de identificar a popularidade de artistas. Quanto mais músicas na parada do Spotify, maior será o seu nome. Sendo assim, os artistas mais populares de acordo com essa métrica seriam Bad Bunny, The Weeknd, Taylor Swift, entre outros."
      ]
    },
    {
      "cell_type": "markdown",
      "metadata": {
        "id": "8G8ZByLrGQZf"
      },
      "source": [
        "---"
      ]
    },
    {
      "cell_type": "markdown",
      "metadata": {
        "id": "abmRLo0Beghn"
      },
      "source": [
        "### PCA"
      ]
    },
    {
      "cell_type": "markdown",
      "metadata": {
        "id": "E4tA1l2mbNbu"
      },
      "source": [
        "Finalmente, para visualizar os dados por inteiro, será feito um PCA, a fim de encontrar os 2 eixos que compreendem a maior parte da variabilidade dos dados, e os 2 eixos serão utilizados para visualizar os dados em um gráfico de dispersão."
      ]
    },
    {
      "cell_type": "code",
      "execution_count": 21,
      "metadata": {
        "colab": {
          "base_uri": "https://localhost:8080/"
        },
        "id": "2py1ZxIBXo3a",
        "outputId": "f8800a97-180e-4f9a-e50e-74771e98ebd6"
      },
      "outputs": [
        {
          "name": "stdout",
          "output_type": "stream",
          "text": [
            "Os 2 primeiros componentes principais compreendem, respectivamente a (0.18028395727611599, 0.1235286848278706)% da variância dos dados\n"
          ]
        }
      ],
      "source": [
        "df_numerico = df[df.select_dtypes(include=['int64']).columns.tolist()] # Obtendo colunas numéricas dos dados\n",
        "scaler = StandardScaler() # Normaliza os dados para PCA\n",
        "pca = PCA(n_components=2) # 2 componentes para possibilitar plotagem\n",
        "df_norm = scaler.fit_transform(df_numerico)\n",
        "df_pca = pd.DataFrame(pca.fit_transform(df_norm)).rename({0: 'Componente Principal 1', 1: 'Componente Principal 2'}, axis=1)\n",
        "print(f'Os 2 primeiros componentes principais compreendem, respectivamente a {*pca.explained_variance_ratio_,}% da variância dos dados')"
      ]
    },
    {
      "cell_type": "markdown",
      "metadata": {
        "id": "HPItScr4bdR4"
      },
      "source": [
        "Podemos ver que os 2 componentes principais dos dados em conjunto demonstram 30% da variância dos dados"
      ]
    },
    {
      "cell_type": "code",
      "execution_count": 22,
      "metadata": {
        "colab": {
          "base_uri": "https://localhost:8080/",
          "height": 645
        },
        "id": "niVQBaSJZbdq",
        "outputId": "2a1355fa-0bb4-4154-805e-c462ae05f0f4"
      },
      "outputs": [
        {
          "data": {
            "text/html": [
              "<div>\n",
              "<style scoped>\n",
              "    .dataframe tbody tr th:only-of-type {\n",
              "        vertical-align: middle;\n",
              "    }\n",
              "\n",
              "    .dataframe tbody tr th {\n",
              "        vertical-align: top;\n",
              "    }\n",
              "\n",
              "    .dataframe thead th {\n",
              "        text-align: right;\n",
              "    }\n",
              "</style>\n",
              "<table border=\"1\" class=\"dataframe\">\n",
              "  <thead>\n",
              "    <tr style=\"text-align: right;\">\n",
              "      <th></th>\n",
              "      <th>Variável</th>\n",
              "      <th>Autovetor 1</th>\n",
              "      <th>Autovetor 2</th>\n",
              "    </tr>\n",
              "  </thead>\n",
              "  <tbody>\n",
              "    <tr>\n",
              "      <th>0</th>\n",
              "      <td>artist_count</td>\n",
              "      <td>-0.089518</td>\n",
              "      <td>-0.24126</td>\n",
              "    </tr>\n",
              "    <tr>\n",
              "      <th>1</th>\n",
              "      <td>released_year</td>\n",
              "      <td>-0.167139</td>\n",
              "      <td>-0.252894</td>\n",
              "    </tr>\n",
              "    <tr>\n",
              "      <th>2</th>\n",
              "      <td>released_month</td>\n",
              "      <td>-0.049233</td>\n",
              "      <td>0.071775</td>\n",
              "    </tr>\n",
              "    <tr>\n",
              "      <th>3</th>\n",
              "      <td>released_day</td>\n",
              "      <td>-0.006955</td>\n",
              "      <td>-0.0994</td>\n",
              "    </tr>\n",
              "    <tr>\n",
              "      <th>4</th>\n",
              "      <td>in_spotify_playlists</td>\n",
              "      <td>0.442215</td>\n",
              "      <td>0.122462</td>\n",
              "    </tr>\n",
              "    <tr>\n",
              "      <th>5</th>\n",
              "      <td>in_spotify_charts</td>\n",
              "      <td>0.3023</td>\n",
              "      <td>-0.192161</td>\n",
              "    </tr>\n",
              "    <tr>\n",
              "      <th>6</th>\n",
              "      <td>streams</td>\n",
              "      <td>0.463605</td>\n",
              "      <td>0.114856</td>\n",
              "    </tr>\n",
              "    <tr>\n",
              "      <th>7</th>\n",
              "      <td>in_apple_playlists</td>\n",
              "      <td>0.472044</td>\n",
              "      <td>0.010521</td>\n",
              "    </tr>\n",
              "    <tr>\n",
              "      <th>8</th>\n",
              "      <td>in_apple_charts</td>\n",
              "      <td>0.352597</td>\n",
              "      <td>-0.124107</td>\n",
              "    </tr>\n",
              "    <tr>\n",
              "      <th>9</th>\n",
              "      <td>in_deezer_charts</td>\n",
              "      <td>0.293667</td>\n",
              "      <td>-0.20478</td>\n",
              "    </tr>\n",
              "    <tr>\n",
              "      <th>10</th>\n",
              "      <td>bpm</td>\n",
              "      <td>0.019593</td>\n",
              "      <td>0.01297</td>\n",
              "    </tr>\n",
              "    <tr>\n",
              "      <th>11</th>\n",
              "      <td>danceability_%</td>\n",
              "      <td>-0.056931</td>\n",
              "      <td>-0.426212</td>\n",
              "    </tr>\n",
              "    <tr>\n",
              "      <th>12</th>\n",
              "      <td>valence_%</td>\n",
              "      <td>0.021646</td>\n",
              "      <td>-0.37799</td>\n",
              "    </tr>\n",
              "    <tr>\n",
              "      <th>13</th>\n",
              "      <td>energy_%</td>\n",
              "      <td>0.050151</td>\n",
              "      <td>-0.471926</td>\n",
              "    </tr>\n",
              "    <tr>\n",
              "      <th>14</th>\n",
              "      <td>acousticness_%</td>\n",
              "      <td>-0.044038</td>\n",
              "      <td>0.403383</td>\n",
              "    </tr>\n",
              "    <tr>\n",
              "      <th>15</th>\n",
              "      <td>instrumentalness_%</td>\n",
              "      <td>-0.022576</td>\n",
              "      <td>0.119093</td>\n",
              "    </tr>\n",
              "    <tr>\n",
              "      <th>16</th>\n",
              "      <td>liveness_%</td>\n",
              "      <td>-0.033391</td>\n",
              "      <td>-0.050674</td>\n",
              "    </tr>\n",
              "    <tr>\n",
              "      <th>17</th>\n",
              "      <td>speechiness_%</td>\n",
              "      <td>-0.127069</td>\n",
              "      <td>-0.115581</td>\n",
              "    </tr>\n",
              "  </tbody>\n",
              "</table>\n",
              "</div>"
            ],
            "text/plain": [
              "                Variável Autovetor 1 Autovetor 2\n",
              "0           artist_count   -0.089518    -0.24126\n",
              "1          released_year   -0.167139   -0.252894\n",
              "2         released_month   -0.049233    0.071775\n",
              "3           released_day   -0.006955     -0.0994\n",
              "4   in_spotify_playlists    0.442215    0.122462\n",
              "5      in_spotify_charts      0.3023   -0.192161\n",
              "6                streams    0.463605    0.114856\n",
              "7     in_apple_playlists    0.472044    0.010521\n",
              "8        in_apple_charts    0.352597   -0.124107\n",
              "9       in_deezer_charts    0.293667    -0.20478\n",
              "10                   bpm    0.019593     0.01297\n",
              "11        danceability_%   -0.056931   -0.426212\n",
              "12             valence_%    0.021646    -0.37799\n",
              "13              energy_%    0.050151   -0.471926\n",
              "14        acousticness_%   -0.044038    0.403383\n",
              "15    instrumentalness_%   -0.022576    0.119093\n",
              "16            liveness_%   -0.033391   -0.050674\n",
              "17         speechiness_%   -0.127069   -0.115581"
            ]
          },
          "execution_count": 22,
          "metadata": {},
          "output_type": "execute_result"
        }
      ],
      "source": [
        "pd.DataFrame([df_numerico.columns, pca.components_[0], pca.components_[1]]).rename({0:'Variável', 1: 'Autovetor 1', 2: 'Autovetor 2'}).T"
      ]
    },
    {
      "cell_type": "markdown",
      "metadata": {
        "id": "Oqz-YGsEcP7l"
      },
      "source": [
        "Em análise, podemos ver que o primeiro componente principal é composto principalmente de uma soma de medidas de popularidade, como a presença em playlists e gráficos de diversas plataformas, e quantidade de ouvintes. Já o segundo é composto principalmente pelo contraste entre o quão acústica a música é com o quão enérgica, dançável e positiva ela é."
      ]
    },
    {
      "cell_type": "code",
      "execution_count": 23,
      "metadata": {
        "colab": {
          "base_uri": "https://localhost:8080/",
          "height": 542
        },
        "id": "dbSQMIRlZ4YK",
        "outputId": "b0a846f0-6f22-4577-96c9-aa8129a10b38"
      },
      "outputs": [
        {
          "data": {
            "application/vnd.plotly.v1+json": {
              "config": {
                "plotlyServerURL": "https://plot.ly"
              },
              "data": [
                {
                  "hovertemplate": "Componente Principal 1=%{x}<br>Componente Principal 2=%{y}<extra></extra>",
                  "legendgroup": "",
                  "marker": {
                    "color": "#636efa",
                    "symbol": "circle"
                  },
                  "mode": "markers",
                  "name": "",
                  "orientation": "v",
                  "showlegend": false,
                  "type": "scatter",
                  "x": [
                    3.226424459806049,
                    1.1521821167017208,
                    2.8530717153791305,
                    3.6475286802283096,
                    1.5192431290696584,
                    2.265487528771309,
                    2.23705759815465,
                    0.42098114559409033,
                    1.9081219771773756,
                    0.808523016315193,
                    1.673997173551871,
                    1.0889993033138339,
                    7.911631584288511,
                    2.980136387476901,
                    9.619113469546756,
                    3.555584384426594,
                    2.293041675864444,
                    2.9338326587880825,
                    0.7005724558217677,
                    0.6173473769166855,
                    0.016568336905291144,
                    0.3686078169424025,
                    2.9886830952038035,
                    0.7286699825491672,
                    1.756773406241287,
                    0.20509041853629803,
                    4.3562772411761745,
                    0.46076529729632854,
                    0.32636102008364265,
                    2.0628980906899983,
                    1.001259496150602,
                    0.7066736731582957,
                    3.1321944998567255,
                    3.203394556979352,
                    1.7927633744221432,
                    -1.040011284635438,
                    0.3225405539849716,
                    2.871547063289192,
                    1.8453263318119273,
                    0.4659665569025816,
                    0.018122971675675597,
                    6.028848146691853,
                    6.219434594858662,
                    1.5643646126281179,
                    1.3446941075864007,
                    0.019596829233589116,
                    4.990811145320522,
                    1.2548351225277887,
                    5.5251518170301654,
                    0.6058385484958144,
                    0.013544505840363933,
                    1.8047724368900364,
                    0.10141294058037462,
                    0.33472522995044374,
                    5.3213496697651195,
                    11.037442253206349,
                    0.3558268128658847,
                    2.575261719310246,
                    -0.030717647895958985,
                    1.3844297381453463,
                    -0.9454446368853138,
                    1.4813440147339243,
                    -0.4303123617046716,
                    1.1460191488054496,
                    0.6130724672093518,
                    4.093052175885614,
                    -0.3852220730741841,
                    0.9918835031712383,
                    -0.5640284230003099,
                    -0.33201854272909076,
                    -0.2100926335998929,
                    6.977019857386822,
                    1.2680862893824942,
                    3.9090585854517688,
                    2.234971467938685,
                    4.608418080074332,
                    0.47694213056194446,
                    3.3791013205999247,
                    0.8970379473382294,
                    -1.0133136291593248,
                    5.556839962455939,
                    0.347896056197862,
                    -1.697952978143035,
                    -0.6875009646926545,
                    6.9455646172541465,
                    0.7742902270785387,
                    5.702813096704137,
                    3.149791800642662,
                    2.357515512671804,
                    -0.4133871064862467,
                    -0.26560354713877676,
                    -0.3989747289088704,
                    0.23995588533312165,
                    -0.03846532624152921,
                    -0.41226321147105544,
                    -0.12060392244931306,
                    0.187682471215354,
                    0.5109014608839381,
                    3.0214532797824325,
                    0.20805346568204722,
                    1.7592096058303437,
                    0.3018701785963064,
                    0.518458116545607,
                    2.2448623809051083,
                    0.2038096671959274,
                    -0.6185953837978035,
                    6.368219246934314,
                    0.9212824789175296,
                    2.1442890491266042,
                    2.6062875705615376,
                    2.398107184900083,
                    -1.4979407348834861,
                    -0.6551789309077989,
                    -0.8134744125219581,
                    3.456929034206505,
                    2.0458061359239537,
                    1.6451174161984312,
                    -0.6795955704842903,
                    -0.16161010982913782,
                    0.34025970062253913,
                    -0.6114598884019916,
                    1.700113113095918,
                    0.01851734598793793,
                    0.05890301452408474,
                    -0.06179535049852427,
                    0.328260453362551,
                    2.665091628118063,
                    5.780662548128881,
                    3.378902386809248,
                    -0.4419394285141228,
                    -0.10599300922860437,
                    0.324364461812638,
                    1.287129355400698,
                    2.6431609354993038,
                    1.6735961704083788,
                    -1.2607281033152156,
                    -0.5532359423646351,
                    -1.2427244348255613,
                    1.7189384076653609,
                    0.11778311226768405,
                    4.6542550821910025,
                    -1.8255106723530146,
                    -1.8511384128254011,
                    3.0923723517903494,
                    -0.8511572115770274,
                    -0.7125721523992212,
                    1.8255588427212912,
                    2.159951924784726,
                    -0.48736071367301653,
                    -0.3304600955420684,
                    -0.8560137730608477,
                    -0.4592765354685357,
                    2.3313480546451473,
                    -0.7108500208095909,
                    -0.11974069602484141,
                    -1.0456998591155788,
                    0.7855811982727934,
                    4.743785659901023,
                    0.8758071757475383,
                    1.7092044305693714,
                    0.5651904060225162,
                    0.9233492523985736,
                    6.29097534227915,
                    0.56334038456216,
                    2.514706456468676,
                    2.182494053466728,
                    3.4058243457862845,
                    1.9310685051555356,
                    4.387454980126753,
                    -0.1188224056791556,
                    0.08047348134988025,
                    -0.9923073930854132,
                    3.709179067900361,
                    3.03132480710337,
                    -0.22116124452083286,
                    0.16200609699180019,
                    3.496427313982499,
                    2.2667746963117645,
                    1.9577396686754576,
                    3.742753006399872,
                    0.3074170631668049,
                    -0.5939127646245072,
                    3.4434339256967954,
                    -0.7254966369700117,
                    1.1816621637043458,
                    -1.5087537825345774,
                    1.6830799552738616,
                    4.265163411157577,
                    1.8738926790993238,
                    3.7176051253881433,
                    0.3059707105591442,
                    -0.010473082661688537,
                    2.5797072982630618,
                    -1.0913573186184788,
                    -0.6505686759109153,
                    1.895422655043583,
                    -0.43878276546396866,
                    -0.5305311791764122,
                    -0.0678820251722803,
                    3.4796489855511914,
                    -1.4192770377041464,
                    -1.674989547936626,
                    -0.24894680111892772,
                    -0.1567099590132194,
                    -1.22528129313906,
                    -0.9225601961107068,
                    -1.4181621860959341,
                    -0.667873976553343,
                    -1.4275866589152542,
                    -1.4907732664400826,
                    -1.2385134020161817,
                    -1.144984066696975,
                    -1.7319910852069345,
                    -0.34304931582198345,
                    -1.9083003076070604,
                    0.277013710623321,
                    1.3632207217792272,
                    0.37644302787364,
                    -1.582847673914831,
                    -0.7512442932128395,
                    -0.7977817789944984,
                    0.051520772191700794,
                    -0.8152338727938205,
                    -1.8398111955251455,
                    -0.4124273393765462,
                    0.059156498811705434,
                    -0.9372708568371568,
                    0.25748679348257736,
                    -1.7769706536148178,
                    -1.2614421060723584,
                    1.6462668032382828,
                    2.346423798451489,
                    -1.3595290402534248,
                    -1.190536761748892,
                    -0.678984663512534,
                    -0.6454952652428525,
                    -1.4889579602980805,
                    -0.12456152848008431,
                    -2.336636579054063,
                    0.7594567039661253,
                    -0.8969135228789172,
                    -0.7514948729655665,
                    -0.2613180765644669,
                    1.2135688120079957,
                    1.3047514651422523,
                    -0.03041583594000982,
                    3.2934722768295046,
                    -2.4370948858185524,
                    -1.8476329798900475,
                    -1.145870420530277,
                    2.298660761754154,
                    -0.939367128999538,
                    -0.16254635504012863,
                    0.5099462524231749,
                    -1.5523479346372182,
                    -1.2622530051554468,
                    -0.6036964334031409,
                    -1.016922566860384,
                    -1.5380188221337079,
                    -0.8795962065239338,
                    -1.2467408249214658,
                    0.0870602857775302,
                    -0.4045758840251608,
                    -0.7117930720930334,
                    -0.39913975415679454,
                    -1.0442147615902755,
                    -1.7389452635910498,
                    -0.6058806718086871,
                    -1.893463033510122,
                    -1.031750930213185,
                    -1.329399787062979,
                    1.6601724813967444,
                    -1.7266585049273466,
                    -0.7293357653249833,
                    3.0733960604894337,
                    -0.9199398797715034,
                    -0.9230808098216945,
                    -1.4864924175967102,
                    2.108000234442105,
                    -0.009100651886578463,
                    -1.3298182437235544,
                    0.1643692248931282,
                    -0.29741779288786613,
                    -0.37326283904710417,
                    -0.642640243282045,
                    -1.4518410399315884,
                    -1.3653582259927037,
                    -0.6197461925827848,
                    0.1745999578156708,
                    -1.734261693526486,
                    0.1563863554526156,
                    -0.6333069189017856,
                    1.9564502585696684,
                    -0.6474870836642734,
                    -0.8984934332704658,
                    1.1993571277007578,
                    3.8468458046928204,
                    0.1783338110058291,
                    -0.8992567661030093,
                    -1.3305006203759622,
                    -1.366762137970027,
                    -1.7871197690125875,
                    -1.9134458838982686,
                    1.7509651799151191,
                    -1.7970065886686153,
                    -1.398538558154037,
                    -1.643155728422226,
                    -1.6349946007680498,
                    1.49930113476371,
                    -0.5963958519910691,
                    2.1529947509663394,
                    0.7290640543214283,
                    -1.3890353506199822,
                    -1.085231025408462,
                    -1.0585759783756552,
                    -0.318769596845407,
                    -0.326459652370016,
                    0.2837283107672255,
                    -1.4013634102754287,
                    -0.16237128887487096,
                    0.5821716966375089,
                    -0.7404617437336117,
                    0.016411540449363125,
                    0.7374017697752371,
                    2.998754279515016,
                    2.9129521095509183,
                    -1.370244501200063,
                    -1.8307461587398892,
                    -1.3060350688689268,
                    0.2688802249080601,
                    -0.8936335055443165,
                    1.2077615921956886,
                    -1.234196966974253,
                    -0.9706971759325275,
                    -0.8638619056992082,
                    0.016636872892034964,
                    -1.2398109718104395,
                    -0.5546416255702348,
                    -1.5431339818255896,
                    -0.9109213159605276,
                    -0.949687227540802,
                    -1.263606899971564,
                    -1.5035430474262668,
                    -1.1976597579928234,
                    -1.024750964888635,
                    -1.0128764541443978,
                    -0.9616373429123445,
                    -1.1859408172812882,
                    -1.4508149005865802,
                    -1.5154628962014258,
                    0.2576792079375338,
                    -1.4907905424826837,
                    -0.18914734334286135,
                    -0.1374677978104817,
                    -0.08438967860291721,
                    -1.3325627675491967,
                    -0.8056976314696619,
                    -0.8494469150220962,
                    1.9467104669664033,
                    -1.4164657175677282,
                    -1.6031590212100757,
                    0.5956694428966899,
                    0.2454408779357755,
                    -0.7204986807110256,
                    -2.1652925421645035,
                    1.3906132600287489,
                    -0.9105760979331313,
                    -0.7942501483735036,
                    1.8218002756157885,
                    -0.6372696717248449,
                    -1.2320629006614978,
                    0.611601603594628,
                    -1.0138079875073547,
                    -1.3880591835032503,
                    -0.17626682702724594,
                    -0.7340055581038749,
                    -0.8176078053452577,
                    1.4271326673834213,
                    -0.31937430275659984,
                    -1.4669403915861925,
                    -0.71626570455068,
                    -1.139492912653653,
                    -0.11936080664595972,
                    -0.492259577893522,
                    -0.6947958436326511,
                    -1.1626488958973857,
                    -0.4021755280822138,
                    -0.3606457137996159,
                    -0.5111617507899376,
                    0.4875424477488179,
                    0.7159788901297106,
                    -1.433740520410205,
                    1.0863320455981877,
                    -1.6585813463963004,
                    -1.6020663583211672,
                    1.252269114367805,
                    -0.73322157452127,
                    0.6195027248785826,
                    -1.2868192524586533,
                    -0.3608110719842984,
                    1.6690085785589541,
                    0.2508472607689248,
                    -1.3506102802865516,
                    5.641931014372384,
                    -0.9958295450099067,
                    0.19259340204789996,
                    0.07763387422819962,
                    5.31832821758249,
                    -0.7138038837938481,
                    -0.8387690002844164,
                    2.505913571742003,
                    0.25133607169274835,
                    -0.040349184341861785,
                    -0.7283774105900797,
                    -2.0683840079456237,
                    0.020259338446883435,
                    -1.2059335730820706,
                    -0.21104256570420024,
                    -0.17431210502478453,
                    -1.6156147001319259,
                    -1.1049296612027937,
                    -1.7640578863338487,
                    1.751729881883041,
                    -0.20089083024468318,
                    1.569133324328154,
                    -0.19143642733210223,
                    -2.009530663566635,
                    3.1142347526674556,
                    -1.0339361024434568,
                    3.753862608951959,
                    -0.4852561591424375,
                    -1.1285779299996934,
                    1.0630635765313952,
                    2.0589547292510266,
                    1.5731466058111725,
                    -1.537180775307634,
                    1.0355195219954207,
                    -1.2439594592700005,
                    -0.6913838441545151,
                    -0.21663533947438526,
                    1.14550782200091,
                    4.5121019187583915,
                    3.379855390948822,
                    2.866897992744202,
                    2.0236576728312716,
                    -0.17784768932639022,
                    1.50329961521699,
                    2.1072612828162716,
                    0.3091761432256236,
                    0.4719382824566688,
                    0.8207000106586734,
                    -0.0677876614036099,
                    -0.80736495818319,
                    1.4705772703559368,
                    1.2390975501813912,
                    -1.4831131231214065,
                    -1.3815728978729611,
                    0.41297097190700804,
                    -1.5942413474306703,
                    1.57170275723437,
                    1.5244016386657808,
                    -0.6933179110491224,
                    1.3666143538045723,
                    -1.5851694272870658,
                    -1.7059510041761805,
                    0.18085107924992092,
                    1.625238769828517,
                    -1.716365050929638,
                    -1.2158005960397893,
                    1.2139924630256471,
                    -0.27634714404671257,
                    1.0615050039502205,
                    -1.5449573077889607,
                    -1.5072978188220587,
                    -1.4747891755148752,
                    -0.364443045899754,
                    0.3274403421061165,
                    0.2778328043958295,
                    -1.4671975988213954,
                    -0.9489048914045417,
                    -0.4093190074176733,
                    -1.7999601968594428,
                    -1.5030078843601569,
                    0.14432363514903582,
                    -1.9520648772839102,
                    -1.5943893474975015,
                    -1.04907038146989,
                    -1.2576674226145068,
                    -2.2060041870558664,
                    -0.7636687519108412,
                    -0.15820886247798668,
                    -0.12885775077467757,
                    0.8657648307269457,
                    -1.7161876470990691,
                    -0.2877037964099839,
                    0.8813717892896048,
                    -0.05140106115972904,
                    -1.6875044961339656,
                    -1.8265686247273838,
                    -0.8639556789073964,
                    1.3105474173716745,
                    -0.04782373652469155,
                    -0.2940798315105339,
                    -0.35347549942219864,
                    -0.23772405552641696,
                    0.876891607749335,
                    -0.6714542521273563,
                    3.635023017183634,
                    -1.1008927911077357,
                    -1.1061623944762178,
                    -0.5075093522248794,
                    -0.45156261552016896,
                    -0.7451431041295682,
                    2.6362743553639487,
                    -1.50583201853069,
                    -1.5668199843148616,
                    2.985210119850464,
                    -1.587473552922921,
                    0.4482534806147139,
                    1.9042161196622223,
                    0.30747935771361606,
                    -1.5595933431418731,
                    -1.1285979154005803,
                    -1.3694485094548448,
                    0.3467324704864335,
                    -0.527818603773813,
                    1.816080256301462,
                    -0.699223060643646,
                    0.4237055010714366,
                    0.04793259500448888,
                    1.4338130208268869,
                    1.2191372730345202,
                    1.359063537489453,
                    0.39127425493684753,
                    -1.2739005381031479,
                    1.9760392260384299,
                    -1.9611852210032905,
                    -0.2892060377981792,
                    -1.5257951534287153,
                    -0.3691530766115011,
                    -1.543704245972472,
                    -1.6368682717934222,
                    -1.2799212993029736,
                    -1.174357177150078,
                    -1.1283221048613568,
                    0.26094490942145815,
                    -1.2474210508286854,
                    0.07290430018985691,
                    1.8299546612950572,
                    -1.0685054149820485,
                    -0.7046233824284764,
                    -0.6833349333067816,
                    -1.6079849110961337,
                    0.01197655596928731,
                    1.8118239052573424,
                    3.102567369023544,
                    -1.3968157229500973,
                    -0.44485980107274364,
                    -0.3361180517419793,
                    -0.06568886953133189,
                    -0.8580565626945942,
                    -1.1853261479985386,
                    1.429372804110552,
                    -1.1394096222036798,
                    -0.44940125495272537,
                    0.7091404939361111,
                    2.71422263039298,
                    -1.4838479531607094,
                    0.9922693201667058,
                    -1.4300493050162995,
                    -0.019162282532371667,
                    2.1694865973840116,
                    -1.0181034031249407,
                    0.3295184884963784,
                    -0.05454736918003535,
                    -1.656045993607845,
                    -1.6773110626187455,
                    -1.1738755553777498,
                    -0.25194633633866365,
                    -0.4993731779905512,
                    0.5832541139120575,
                    -1.5382305416135107,
                    -0.8274698030940302,
                    1.8234738877545695,
                    -1.3816192573064612,
                    -1.3774621914652099,
                    -1.5638988834235732,
                    -0.38003039335050515,
                    -1.2109174349528031,
                    -0.24120808305352545,
                    2.4584311258485543,
                    -1.088324527982807,
                    3.8236468228303693,
                    0.09274598110073702,
                    -1.2867702948759867,
                    -0.6854096089372379,
                    -0.636951508955658,
                    1.3784094365532236,
                    1.0581931348646303,
                    0.5130492007123754,
                    -1.8755709362448936,
                    -0.4852006065963868,
                    0.9682084573118845,
                    0.7557876692967511,
                    -0.41055973564242687,
                    -1.5447455689856076,
                    -1.2443381935750155,
                    -0.37445341908736307,
                    -1.1022148740436597,
                    0.652266456773972,
                    -0.7739292376611886,
                    -1.146641599402564,
                    -0.20411625901646832,
                    0.5714787000655738,
                    2.324144190395984,
                    0.5330076879680952,
                    -0.3795499846638157,
                    -0.4550446428902362,
                    -0.9992929842484208,
                    6.23321663912619,
                    2.0353088751339143,
                    0.009680070864995496,
                    4.1524938581481,
                    5.7418049250836924,
                    0.40857217942295376,
                    0.24431643927672847,
                    -1.4157885915618043,
                    -1.2904325810492543,
                    -0.5745978429670406,
                    5.86067442967908,
                    -1.4359084068442995,
                    -0.5431285169595637,
                    0.17511526452950488,
                    4.400925923598631,
                    -1.0325850542248414,
                    0.14700007016928218,
                    0.3501373602741102,
                    0.9388202775051879,
                    -0.24102539265038928,
                    1.956443041282289,
                    2.11715818321295,
                    -1.717520929241023,
                    -1.8912135893407256,
                    -0.7925655582244819,
                    -0.8555866070411136,
                    -0.409247552809411,
                    -1.364290105911095,
                    1.4160383173823277,
                    2.6622287570216137,
                    -0.42005243154372135,
                    -0.4804833881235308,
                    -1.4402745252701301,
                    1.9580258504752415,
                    -0.46424832506995556,
                    -1.7078533874188997,
                    -1.3342332106840273,
                    1.6209746938947192,
                    3.112351579225523,
                    -0.4049868470734695,
                    -1.023297297357985,
                    -0.020116391886592873,
                    -0.6927597024255522,
                    -0.13663273221409403,
                    -0.931382375707216,
                    -1.4146596735936867,
                    -1.4411650908786078,
                    -2.0424398964893666,
                    0.7965037802746139,
                    0.728285075891202,
                    -0.8985504274091372,
                    -0.8836664038503361,
                    4.098402969220635,
                    0.8150602374425602,
                    -0.006042733974013794,
                    -1.101869330923988,
                    -0.38977599605201896,
                    -0.6027009662518025,
                    -1.630305630073004,
                    -1.3349409445091494,
                    -1.4823843832995485,
                    -1.8322918031398208,
                    -0.7426612817605084,
                    -0.5325179915482395,
                    -1.263334502218554,
                    4.974641521051375,
                    0.07961422240707099,
                    -0.6092817566941274,
                    -0.629871729869595,
                    -1.0863623745339392,
                    -1.9383226462544438,
                    -0.8759920258954731,
                    -1.8291110009032194,
                    4.0640030300648595,
                    -1.0851489378849697,
                    2.245783500664039,
                    0.1581294450430797,
                    -0.2445898870413966,
                    -0.6033414518056627,
                    1.0043741166818403,
                    0.06093276407976047,
                    0.4503179149039319,
                    -1.3094861888410774,
                    -1.4713133121077924,
                    -1.3046001002377228,
                    -1.2115809453475817,
                    -0.3222139481565535,
                    -1.9615379888539564,
                    -1.2612214021476267,
                    -1.1054505248039563,
                    -0.6804691669720776,
                    -1.3073955009587892,
                    -0.04370016352323136,
                    -1.6821988316510148,
                    -1.381301424751971,
                    -1.215197633438977,
                    -1.1876141938417455,
                    6.255257554664814,
                    -0.3776860678198689,
                    1.5264684348232747,
                    6.558685549672433,
                    -0.9387832074232116,
                    -1.4447142708713525,
                    -1.5560107308032718,
                    5.128289489103651,
                    4.764894942298603,
                    -1.0630017305858024,
                    4.128703533971939,
                    -1.2782150538006798,
                    1.0885992724895075,
                    -1.0130498366240897,
                    -0.3022530562431091,
                    -0.949059611409969,
                    -0.8258910397940166,
                    -1.394397741306184,
                    1.117112214958171,
                    -0.19154408196409034,
                    -1.0998349457124423,
                    -1.5874202625962361,
                    0.5278522683754729,
                    -1.4927501677968558,
                    -0.562370559431056,
                    -1.3790199502679779,
                    -1.8234019926471678,
                    -1.6078764460107342,
                    -1.8986203562017905,
                    -1.5263904414274736,
                    -1.5913182537594006,
                    -1.2230978839131552,
                    -1.9768671845344326,
                    0.20443444105589695,
                    -1.0945978590678218,
                    -1.500493677553733,
                    -0.41178547351394285,
                    2.203605130967768,
                    -1.5689744570286552,
                    0.1950287375723668,
                    3.2698374016925547,
                    -1.261181744327284,
                    -1.6804410980742814,
                    -1.4419537884546185,
                    3.199341654956563,
                    2.9325807817953877,
                    -0.8908997451839086,
                    2.056366823247928,
                    -1.457954634273614,
                    -0.9636327953291853,
                    -0.9926169413165962,
                    -1.7532592764546615,
                    -1.7212735282059122,
                    -1.204538285689265,
                    -1.5323247973438232,
                    -1.1679368703149127,
                    -1.1838509799338097,
                    -1.5414884247617306,
                    -0.9764824290545205,
                    -1.5664839770357686,
                    -1.683926837327181,
                    -1.0837471788643955,
                    -1.9661256484922311,
                    -2.1737613626539356,
                    -0.6408233550127619,
                    -1.120403819486334,
                    -2.0332360469691007,
                    -1.4163877822775066,
                    -1.8108685460459992,
                    -1.2499211886514443,
                    -1.269182756468911,
                    -1.2141440793676375,
                    -1.5672283796302364,
                    1.7492829847409774,
                    -1.291716229297598,
                    -1.4560247430504487,
                    -0.6132102605139633,
                    -2.049470727914772,
                    -0.8323634946439855,
                    -0.4863665338602339,
                    -1.68317513906201,
                    -0.07684318778949073,
                    -1.4775009261556764,
                    -0.9325875751336631,
                    -1.6127483698487453,
                    -2.1432739924701463,
                    -1.2691518688159424,
                    -1.543287993797707,
                    -1.4201746630710277,
                    -1.4445108757414775,
                    -1.8913487799343744,
                    -1.13586939263782,
                    -2.096797842104556,
                    -1.43799854968912,
                    0.07930964978526077,
                    -1.9998287665095211,
                    -1.4392900419816408,
                    -1.4818865449505163,
                    -1.4197290196646815,
                    -0.9900057205770315,
                    -1.1402622775122955,
                    -0.8139151943215968,
                    -1.2584453227471972,
                    1.671724911641077,
                    -1.5937790154922864,
                    -1.5897582613841803,
                    -1.2830654574229328,
                    -1.1357007097583154,
                    -1.7532870181493303,
                    -0.4605132706631994,
                    -0.4846798826308629,
                    -0.634306034732146,
                    -1.062909557939086,
                    -1.3491111009295218,
                    -1.1576591564212588,
                    -0.7684878172258323,
                    -1.6470714734961573,
                    -0.7856879721639234,
                    -1.4067363708969487,
                    -1.2274757195401762,
                    -1.2763180134260592,
                    -1.6081544132712986,
                    -0.6929830479410353,
                    0.29695077107839074,
                    -1.3675545257759745,
                    -1.3555003778210564,
                    -1.285845279242509,
                    -1.163757860606095,
                    -0.13624279622977867,
                    -1.546534073146329,
                    -1.3304396938330678,
                    -2.0384413787057083,
                    -0.04885865543204084,
                    -0.7792587243656806,
                    -1.2263153549881824,
                    -0.1380851352983766,
                    -1.5933623426841956,
                    -0.11628087273903354,
                    0.04876314963578991,
                    0.5182632479483061,
                    -1.3913163306574075,
                    -1.46923499218194,
                    -0.8284827266432959,
                    -1.4113701316889247,
                    -1.1896811905455034,
                    1.9032924497457842,
                    1.52661789837956,
                    -1.4378144570629756,
                    -0.20892520121999875,
                    -1.1385336091834546,
                    -0.8564367237805373,
                    -1.182007808186005,
                    -0.4112152232479053,
                    -1.1218613047362471,
                    5.160334371702281,
                    1.8215179282927527,
                    -0.9403455905391837,
                    -0.6581775766818188,
                    -1.8779296540038852,
                    -1.8527238684090765,
                    -1.491527179161251,
                    -1.3309840126798125,
                    0.1071450946850855,
                    -2.1966942781304595,
                    -0.8783364895044119,
                    -1.3395202781846587,
                    -1.4973211192129618,
                    -1.7075441060102297,
                    -1.2527858355375128,
                    -1.7112276523531194,
                    -0.8581687610909626,
                    1.118579833593068,
                    -0.2064096690930035,
                    -1.2469321059968999,
                    -0.9324529601619587,
                    -1.2478221324573926,
                    1.2991351894840788,
                    -1.350289643971053,
                    -0.6981761017582261,
                    -1.0809979746617673,
                    -0.9912750391306765,
                    -1.5085164728079719,
                    -0.11809479979259077,
                    0.27706199630720985,
                    -0.1996580036069681,
                    0.7375280630947026,
                    0.2253043732209488,
                    -0.9140756911560933,
                    -0.793845449533548,
                    -0.3634699116621614,
                    -0.10299496006069249,
                    -0.9686754116972669,
                    -1.4609942746560176,
                    2.5839972590493567,
                    -0.148230366013007,
                    -1.7612773922347076,
                    -1.7918194605897362,
                    -1.0959615138234775,
                    -1.2901988001029012,
                    -1.670396083005084,
                    -1.5297766918080322,
                    -0.34093479549717937,
                    -1.7568979344750268,
                    -1.7885563895088554,
                    -0.7260807148499908,
                    -0.35004486653830014,
                    -0.4662482113939968,
                    -0.8236525151137657,
                    -0.7835850656035643,
                    -0.6845583463227614,
                    -1.531988813660717,
                    -1.6387703941107534,
                    -1.727893310554224,
                    -2.030816137319088,
                    -1.8864314216435127,
                    -1.6373531384811273,
                    -1.9319549998639076,
                    -1.694272957549844,
                    -2.2926783905609134,
                    -1.6498006888232273,
                    -1.5169428316458444,
                    -1.6446152295278045,
                    -1.0578919674936085,
                    -1.5046627734306837,
                    -1.4006174920379229,
                    -1.8819436999852015,
                    -1.8540529579805638,
                    -0.4804696456022939,
                    -2.0272526772220663,
                    -1.9496375120401572,
                    -1.3850653451004484,
                    -1.2110421579474926,
                    -1.6939175948286798,
                    -1.7343311467398075,
                    -1.403574192977279,
                    -1.24889450923211
                  ],
                  "xaxis": "x",
                  "y": [
                    -3.823281841027581,
                    -1.9694769749720897,
                    -1.0936386958277813,
                    -1.638951238414744,
                    -0.26634915168148593,
                    -2.9097564098650097,
                    -1.8539487155242511,
                    -0.33962659066278883,
                    -1.7723008652523287,
                    -1.5019497301302254,
                    -1.389846335490266,
                    -1.8420957185154414,
                    -3.727661550075677,
                    0.4787621437783816,
                    -2.3727105773118473,
                    -0.8712160008707677,
                    -1.6470042304347061,
                    1.8395946755475976,
                    -2.467093238199509,
                    -1.2160744126775085,
                    -2.1126189352913705,
                    -1.4990656552131034,
                    0.7236314618969673,
                    -2.3981384132293573,
                    -3.607272265304049,
                    -2.6121767425997913,
                    -3.2775234079081748,
                    -2.612823992213993,
                    0.260600347512468,
                    -3.5960987714521715,
                    -1.7602960902806368,
                    -1.5239652473477694,
                    -1.082027306238473,
                    -0.7011514618670727,
                    -1.2664036332050213,
                    -3.020252938782271,
                    -0.52407640476712,
                    -0.6670544166766508,
                    -0.620414546956798,
                    -2.3191409690292124,
                    -0.8720066469828949,
                    -0.048130625466117946,
                    -3.2275606961969094,
                    -0.06041801215453457,
                    -2.4080826960789916,
                    -0.07860862762827199,
                    -2.9801665969690556,
                    0.42558723686528155,
                    -0.27020422706713537,
                    -0.23210901269124382,
                    -0.8851888271091443,
                    -1.918921794913093,
                    -1.924405395588831,
                    -2.2050138172773353,
                    1.7327317385406933,
                    -0.20282837725688785,
                    -0.8460201582512005,
                    -1.424063612910587,
                    -0.8859153880117882,
                    0.5510477551535887,
                    -1.420279610358003,
                    -2.136571025558422,
                    -0.7924281235214777,
                    -0.9613363887414245,
                    -1.6021843381058443,
                    1.716884978272487,
                    0.3911088373331672,
                    0.6870425812614928,
                    -0.5478597463387811,
                    0.6712422501003913,
                    -2.522938571786262,
                    -0.6034278786764982,
                    1.4265733554812365,
                    -0.05025970270261061,
                    -1.2464555643206336,
                    1.0859630240019331,
                    1.4794234295071043,
                    -0.8670264236186438,
                    -1.8105791881625901,
                    -0.4607408089443389,
                    2.144994759492326,
                    1.7692424865248737,
                    1.5776480525979746,
                    0.6440297731435902,
                    -1.0628902461420369,
                    -1.939347658212673,
                    2.6414133319691393,
                    -2.168034652792813,
                    -0.6128912713467191,
                    -0.5779639465389496,
                    -0.579330340075688,
                    -1.5244429124012686,
                    -0.8843835872614271,
                    1.206123077668795,
                    0.4048757461491556,
                    -1.2735384471667035,
                    2.209551202721547,
                    0.412183569358786,
                    0.5402855695248047,
                    -0.7778523371699515,
                    1.6821623393872214,
                    -0.7269521080081894,
                    -0.827987139491319,
                    0.2941978143722955,
                    -0.8164759400967142,
                    1.2475887919961726,
                    -3.2227700864913085,
                    -0.2262436433207409,
                    -1.8708159065044583,
                    -0.10057775033467745,
                    0.2750641462072221,
                    2.8575604891627195,
                    -1.1646970765628732,
                    -0.6799582408369717,
                    1.277923057689924,
                    0.876803700211501,
                    -1.0669355788542587,
                    -2.2758752080744986,
                    -3.044415069817406,
                    1.1489818919641699,
                    -1.0717554506620681,
                    -1.4581289118021368,
                    -1.159747504399804,
                    -0.6321028382052774,
                    -0.2235010492903639,
                    -1.018682662831596,
                    -1.8557945326668701,
                    -0.3116194173038924,
                    3.9203189294972813,
                    -1.4795915476179358,
                    -2.073908394625264,
                    -1.1615088732829715,
                    0.41049797994128856,
                    -1.777518674232329,
                    0.4551449249836143,
                    0.5076430025978612,
                    -1.0056126524346347,
                    -2.330830211234691,
                    2.2327643935598513,
                    1.3823309891907851,
                    -1.4285532821855378,
                    -0.4461126304740949,
                    -1.071798097072181,
                    -0.9223409080732056,
                    -2.7722237668922864,
                    0.7882006400324545,
                    -0.8341325460415492,
                    1.7592850776981275,
                    2.267645197955543,
                    -1.8622648984817438,
                    -2.0040510618983913,
                    -0.980356201601172,
                    -0.9963024914674904,
                    -0.860357701235916,
                    -0.3362072739316643,
                    -0.5156648296760623,
                    -0.4519443863429403,
                    -0.06057859697946191,
                    0.057219531500124786,
                    -0.206878187565249,
                    -2.6467731510295085,
                    -0.7370084894856939,
                    0.19892714646178397,
                    1.2553417277423708,
                    -0.8766265021035486,
                    -0.24935247261928542,
                    1.697669365722689,
                    3.8490385891921948,
                    -0.34490385842277216,
                    3.4371977505450193,
                    1.4744147534073775,
                    0.2757778370374479,
                    1.53652390125956,
                    1.7405346807511037,
                    -1.626256472995939,
                    0.32668226026871555,
                    -1.169546960660223,
                    -0.25845573447110465,
                    -0.8783222452241665,
                    0.5464502502408753,
                    2.099501418102658,
                    -0.34688821283405397,
                    2.8668234125613146,
                    1.6042829148236994,
                    2.3531406804076305,
                    0.07083870317771662,
                    1.4543329442428943,
                    0.008858617381881009,
                    0.3381739165294246,
                    1.7597884351898365,
                    -0.3827366203780928,
                    -0.31631949599561227,
                    -0.6186101633957968,
                    -0.7718360449982546,
                    1.6072997729051126,
                    0.8664418427320101,
                    -0.8312890986480008,
                    -1.8256006010584183,
                    -0.4165752110991727,
                    0.4009855828875666,
                    0.45392645310772867,
                    -0.654021373370859,
                    0.8345674703825842,
                    -2.0937943971539097,
                    0.41959633049094686,
                    -1.9231915235453854,
                    -0.11904298516500968,
                    -1.0358828358684309,
                    1.2785149772678377,
                    -0.9058990818656183,
                    1.2488582612646022,
                    -1.0206713887426913,
                    -0.06299755383841131,
                    -0.7223803710743859,
                    -0.13570386965241726,
                    -0.15077329628098252,
                    -0.5086612476500182,
                    -1.3423946572571743,
                    0.19410024082143118,
                    -0.5317214144906224,
                    -1.6388343089333126,
                    -1.306736639766377,
                    -0.32794547896487375,
                    1.7143742205305281,
                    -0.9593869041186563,
                    -1.9037605663681556,
                    -0.9611216098067085,
                    -0.6738218176657588,
                    0.9692626796548951,
                    -1.3255873971920196,
                    0.11194564752003944,
                    -1.9092940715350168,
                    0.4659768151440027,
                    -1.235326247798786,
                    -1.354012958955392,
                    -0.198339485798714,
                    -0.461149875180205,
                    0.902535594345095,
                    -0.3512923075993772,
                    0.2739647706867778,
                    -1.2897903846236831,
                    -0.8001296436784795,
                    1.5826188517482929,
                    0.5261237781028919,
                    2.1962725573584034,
                    0.20351647481783547,
                    1.7981393225817843,
                    -0.8757862807401812,
                    -0.5427592083991226,
                    0.13191503902294371,
                    -0.6556343899315702,
                    -1.9802166231736391,
                    0.3334081331345167,
                    3.3187980904623395,
                    -0.3206708875162334,
                    0.30400568765753205,
                    -1.3719749367047134,
                    -1.7712662608518643,
                    -0.5717594797457353,
                    0.8027529416807615,
                    2.1249109718116674,
                    -1.619855114014762,
                    2.2597344668564685,
                    -0.7444087183527793,
                    -0.9984724208824474,
                    0.32114603585034557,
                    -0.6276167380249218,
                    -1.1853608735808165,
                    -1.6838356388270976,
                    0.29352055350836587,
                    1.4736138442475821,
                    -0.15786899776023042,
                    -1.5503261050344226,
                    -0.5402027770705558,
                    -1.6799904334611246,
                    -1.6568317891591786,
                    -1.0192391218685866,
                    1.320265907562706,
                    -1.8861093536489586,
                    -0.4035986500761477,
                    -1.1127357041100414,
                    -0.46251263184974106,
                    -0.7700564599259373,
                    -0.23514902531070248,
                    2.2591775617876864,
                    -0.5539492261876388,
                    0.022658466153117285,
                    -0.7323741373180048,
                    0.8531531613741342,
                    1.4701279851397868,
                    -1.2888629429164238,
                    -1.6279592858687804,
                    1.4266786734678718,
                    -0.6332877266891614,
                    -0.9992996032650835,
                    -1.3078763775899243,
                    0.9765992549772466,
                    -1.0482229965831777,
                    -1.0821368854701716,
                    0.050580134226253175,
                    -0.4943374107615601,
                    -1.0611955916424365,
                    -0.7835913436039732,
                    -1.9168190700090908,
                    -0.19938420689657385,
                    -0.18471384365397386,
                    0.15548475144701024,
                    0.3937513397072349,
                    -1.1959641044651979,
                    -0.8211634528793371,
                    -0.948002097228206,
                    1.1281661628192983,
                    -0.12736124849729896,
                    -1.1984013585179185,
                    2.3767911412989284,
                    -1.203132933289852,
                    -1.0944382074603,
                    -1.0781313696641195,
                    -1.190851521577768,
                    -1.7608254099907552,
                    0.8626014357610226,
                    -1.042030982081669,
                    1.451332606463229,
                    0.08527221293471239,
                    2.813068352519486,
                    2.234210580140263,
                    1.970306572479706,
                    2.0930913485592177,
                    -2.29315734340933,
                    -2.0749633846934787,
                    1.0432993926376823,
                    0.7883736583679597,
                    -0.0258095316045176,
                    -0.8552308169736054,
                    -1.3000717124686332,
                    0.15413127728403256,
                    -0.8601063385921662,
                    0.23596991103467282,
                    -1.190585909413433,
                    -1.162103512617076,
                    -0.5323847574629167,
                    1.0854940451566983,
                    2.433535133501949,
                    -1.3161712793879918,
                    1.4212831677173214,
                    -1.0559279585649217,
                    -1.2296428151679675,
                    -0.03315807174323563,
                    -0.14647475935385315,
                    2.4539661418221583,
                    2.9441788775896445,
                    -1.7484239073021592,
                    -1.31512676324499,
                    0.4090374298588132,
                    -1.2310193499607451,
                    0.4998305907632778,
                    -1.0718768448287934,
                    0.8388041289840173,
                    0.6446065175627352,
                    -0.43461796724217944,
                    -0.2324089866930032,
                    -0.8355426612102314,
                    -0.5337437938650773,
                    0.9233489748156589,
                    1.7748487272225528,
                    -2.0287430090835548,
                    2.4397171138456164,
                    -1.370600236899801,
                    -0.9415737655553313,
                    -0.4466170940080405,
                    1.5592042676345796,
                    0.647199002929292,
                    -1.0412367869340136,
                    -0.3395798019965656,
                    -0.35135288044634666,
                    -1.2451646858992385,
                    0.788328873440875,
                    -0.36251537321712096,
                    0.053072808149126335,
                    1.164684365479018,
                    -0.26193941988987396,
                    -2.103225257048813,
                    -1.0512569107617717,
                    -1.8497465577927417,
                    -1.1379962843217757,
                    -1.185602425260502,
                    -0.05255637273161593,
                    3.9912196435595506,
                    0.3489713571507329,
                    -0.665033834915003,
                    -1.2698855061652905,
                    -0.06242561429310184,
                    -1.662989290160459,
                    -2.5363393560763186,
                    0.10833270728241194,
                    0.6968363383881635,
                    -1.3400671529831398,
                    -1.1077180256577315,
                    -1.7041731414443564,
                    3.5679812204916215,
                    1.9025815598402733,
                    2.578721536750328,
                    -2.4301221656460723,
                    -0.9829195741199253,
                    -1.9052732930665528,
                    -1.4292653941130664,
                    0.03874141643037156,
                    -0.5739157332013499,
                    2.017506451736171,
                    -1.3354825776035932,
                    -0.8966103415419975,
                    1.5144679743684275,
                    1.6541500650692464,
                    -1.2786699511502566,
                    -0.5906455387602767,
                    0.996251822309298,
                    2.851044454934727,
                    1.726050857268413,
                    -1.61580990631213,
                    -0.9715073018020896,
                    -0.6900336634798842,
                    0.46274497162127776,
                    0.33403658796903046,
                    -2.616513187859072,
                    3.199036238508971,
                    3.5720883190478845,
                    -0.6233206865394698,
                    -0.325006837693255,
                    0.5285143463490763,
                    -1.4473556422621934,
                    -0.5750798403631736,
                    2.0113403866466135,
                    0.24776539505557962,
                    -1.3140697013369198,
                    -1.3418602050772566,
                    1.080481657578546,
                    -1.6055107605250034,
                    1.363696348456783,
                    0.568333884418477,
                    1.5485695885442492,
                    -0.29515040447873353,
                    2.418934916190143,
                    0.609234737752068,
                    2.3771332395592184,
                    2.9583842193270793,
                    4.224910038947387,
                    0.7545612767289631,
                    3.5363729134480844,
                    4.435850241749805,
                    1.261963860181269,
                    -0.3201379774845752,
                    1.3849343126352711,
                    2.034124413097851,
                    0.7034736902887486,
                    1.3619475884046364,
                    1.1788868712685108,
                    2.0799026107247713,
                    2.3177112586651463,
                    -0.1826410481849716,
                    2.756765696854107,
                    6.037318318793756,
                    1.1818878750241228,
                    1.8293211747657983,
                    1.7341641907418504,
                    3.18368395904767,
                    -0.4323661094924576,
                    3.128005256196553,
                    1.2703532494697563,
                    1.2229713507167834,
                    5.506178106172806,
                    1.4666896933778535,
                    2.7908279250445878,
                    2.3115272137908063,
                    0.2859480710782733,
                    -0.311646925892229,
                    -0.6793701927101639,
                    2.480221190257687,
                    0.34130555001900087,
                    -0.773211638092109,
                    0.25738008762447073,
                    1.9446253066556858,
                    0.38416962822211737,
                    0.265862425476565,
                    2.627300348451675,
                    0.72414300162658,
                    -0.15858438001859276,
                    2.096130059850924,
                    1.5371239190901045,
                    -1.7515456844753738,
                    0.25793703845144583,
                    -1.1409162892529878,
                    -1.3017233807591027,
                    -1.1449634574834984,
                    1.9105864682444205,
                    -1.3924706322366882,
                    1.7675350572640633,
                    3.2859983307305827,
                    1.488088837201469,
                    2.0245221485860907,
                    -0.995219656564817,
                    0.347961963518508,
                    -1.3604553078272368,
                    -0.30148662103003854,
                    0.5434913811938544,
                    -0.6414051668203123,
                    -1.3580569072971116,
                    -0.9115530418553256,
                    -1.3036712595805227,
                    -0.4047231200233111,
                    -0.4111153671567846,
                    0.23705591487874103,
                    -0.2224821790627084,
                    -0.34308738764559094,
                    0.5891358490600604,
                    0.847715782591758,
                    0.9277602609859165,
                    -0.15753340242977037,
                    -1.8554012772355437,
                    1.2451096356389562,
                    0.8763372741140987,
                    0.01950246131915744,
                    2.8999827027358887,
                    0.13609586513404914,
                    2.9871055711908303,
                    -0.813843050028067,
                    -0.7379102236895353,
                    -0.4511816294860665,
                    -0.45663338885827337,
                    -0.22966258292303457,
                    -0.18232086229622313,
                    -0.6223314487014227,
                    3.436742945749984,
                    0.016737526091885967,
                    3.3952129640273516,
                    0.9545503523392217,
                    2.754931319183539,
                    -0.7232869728788243,
                    1.3960877581232198,
                    0.5493917264750117,
                    0.33380433491343603,
                    -0.03472903253063282,
                    1.8255406057302928,
                    0.7343701599785584,
                    -1.0282975157074359,
                    3.691257876261529,
                    0.5450643200211553,
                    0.4843958503341979,
                    -0.8554346003511931,
                    0.2979350013821045,
                    0.7213072683512796,
                    -0.7668279722597223,
                    -0.07761982118464515,
                    -0.4294618374378355,
                    -1.6921557899183144,
                    -0.21328191011762743,
                    0.41848346590038393,
                    -0.9612080807391978,
                    0.45480462002015315,
                    -1.305009592638891,
                    -1.5074972116958856,
                    0.49242642143255044,
                    0.2469585463074011,
                    -0.18702975758264206,
                    -0.43978361046353825,
                    -0.5518554627639363,
                    2.3045209983989285,
                    -1.0832420728955119,
                    -0.1014211536700646,
                    0.07583410152368884,
                    -0.29598054703852167,
                    -0.6740896002413433,
                    -0.1642167963781919,
                    0.274138807398559,
                    -0.6078543046070084,
                    1.100019788965558,
                    -0.6093672331389701,
                    2.9595929911296803,
                    2.635991546457195,
                    1.3653810156130322,
                    -0.48233519114623075,
                    1.294513129299762,
                    -0.33390020682003996,
                    -0.8270531503801197,
                    -0.3789644333093955,
                    -0.33278911538222716,
                    -1.442965189664131,
                    2.5057969599629226,
                    2.659580670014689,
                    0.0790891063900727,
                    -1.3433195579075914,
                    2.3408757474609185,
                    -0.9499368649812635,
                    0.22648756195037575,
                    -0.9715777871251964,
                    0.007783496381175236,
                    3.5441974742859594,
                    -1.1910437984638975,
                    0.9075728562892214,
                    -0.09174974725995096,
                    -1.1708862553545738,
                    -0.18253396353154286,
                    -1.726740328600939,
                    1.1177226402857727,
                    -1.1037952708510979,
                    -2.006941513171335,
                    2.3122908673687146,
                    0.23274505323355538,
                    3.002108505984978,
                    1.409244616431217,
                    0.09315924391885688,
                    -0.9695872198827968,
                    0.25715397579059224,
                    2.693200397077151,
                    2.9384135356746732,
                    -0.1494846246342504,
                    -0.4769852453585176,
                    -0.4972542984843752,
                    0.707918302645182,
                    -1.0317191557085397,
                    1.0039874456885403,
                    2.4641465428462745,
                    -2.063967371876035,
                    4.3240131643331585,
                    0.5969990744668853,
                    3.279604143118859,
                    0.32240249819013045,
                    -0.14744184934462354,
                    -0.3803993247737947,
                    -0.13042052816651303,
                    1.5372680415305056,
                    -0.5848850921328265,
                    -1.2227737467039097,
                    1.212989314134515,
                    1.5043087972738245,
                    -0.1532040530149606,
                    -1.0758073881456733,
                    -0.881265731766708,
                    -2.4583906628420875,
                    0.5606558439223809,
                    0.8436152955173124,
                    2.0327940714083605,
                    -1.9886413296219727,
                    -1.2022428196002664,
                    -1.4991071579262532,
                    -0.7587968019031364,
                    -1.4078689505232491,
                    -0.9748586946651994,
                    -2.082776139849214,
                    -0.0502810717728701,
                    0.1399980751083689,
                    1.796864035170497,
                    2.6672986648237753,
                    -0.5969749493550012,
                    -0.9308885630845006,
                    -0.8254734342537816,
                    0.9449582697888701,
                    -0.15726188583992473,
                    -0.5455742791069409,
                    -0.022438440275137198,
                    0.3980686139522307,
                    0.9271736790817455,
                    1.0394466853894042,
                    0.8528329123348176,
                    1.6470855012191798,
                    -1.3677624479358033,
                    0.4062657248780374,
                    -2.0639367316697568,
                    -1.0248272106407783,
                    -0.5491697660397129,
                    0.7063129396090391,
                    -0.9780726408877896,
                    -0.10619495734392548,
                    -0.45454355731382,
                    -1.641749389042074,
                    1.7277708560554412,
                    -1.6381121322455074,
                    -0.38925881627129655,
                    -0.028842313978589298,
                    -0.17137575894404805,
                    -1.5297648611970769,
                    -0.3863085416197151,
                    -2.13821731342499,
                    0.8019118542516144,
                    1.8227967805661398,
                    1.606782940445644,
                    2.4346253045690376,
                    2.6699309286068753,
                    -1.1871204011182854,
                    2.1450278038098447,
                    -0.19908002967210078,
                    3.830162125301035,
                    -1.982268160590196,
                    -0.019810888165439997,
                    -0.37187354397177885,
                    -0.05257776117614216,
                    -1.6107743962560093,
                    5.0661412273889885,
                    -1.2713600814033383,
                    -1.4896917184796372,
                    -1.110791478334178,
                    -0.408796227428538,
                    0.31380679210096696,
                    1.3945223798751092,
                    2.9646728073542947,
                    -0.4865612789036705,
                    -0.511101339360776,
                    -0.2658985602774079,
                    -1.3228245669105547,
                    0.6654125469635485,
                    0.6061072760815717,
                    0.3252536733357145,
                    0.2714487775921204,
                    -1.0145346910667667,
                    -0.4787192441230333,
                    2.7125245199736727,
                    -1.195729321169684,
                    3.4651396336909572,
                    2.358000189187374,
                    -1.5862382839031655,
                    0.328178789188024,
                    0.05285826970915195,
                    0.6165063865778484,
                    0.7068871632616754,
                    -0.13926415822303562,
                    0.6833866020934202,
                    0.22046555089749073,
                    0.764066018468986,
                    0.7237679342563964,
                    -0.5869072835473464,
                    -0.45527665741843515,
                    0.8978829560717672,
                    -1.4366907631315307,
                    -0.48509540130192774,
                    0.5926923248034416,
                    -0.5498983910196797,
                    -0.7919221920396562,
                    -1.482307907024885,
                    1.1430185743537953,
                    1.015301510706182,
                    0.40268996314770167,
                    0.6943726439692902,
                    -1.4228127914562347,
                    -1.804700988778698,
                    0.08941205076286779,
                    -2.4031549547008924,
                    1.416751699989577,
                    0.6506627402413762,
                    -1.722954001610475,
                    -1.4915593283709123,
                    3.7463416959216813,
                    -0.5506312728296259,
                    -0.04223869784716129,
                    -1.3363716642008117,
                    -0.870275850373938,
                    -1.0810642328297908,
                    1.1066588636752037,
                    -0.7356343530081273,
                    0.12546221017190978,
                    -2.9365031419181715,
                    1.2027283724633906,
                    2.8282016151389056,
                    2.396530823849469,
                    0.18675929362190252,
                    -1.7696254167790095,
                    -0.7506617735783315,
                    -0.4167074966192918,
                    0.7044821049976223,
                    0.00793273560755709,
                    -0.4142525350877942,
                    -0.7332623267522512,
                    0.5595771141259753,
                    -0.3406071685622791,
                    0.28652345487933206,
                    -0.6397875153648859,
                    -0.7224732023920346,
                    1.2032396665909335,
                    0.20762087789604708,
                    -0.39845448158275515,
                    -0.3536650476756636,
                    -0.6292392467833382,
                    -1.0211775688859468,
                    0.2758309194002974,
                    1.422478857992271,
                    -0.33557474371204143,
                    -1.168549087754483,
                    2.1083829465023682,
                    -0.8506590212527194,
                    -1.2204781736952046,
                    -0.44313491132965804,
                    0.4934430339749283,
                    -0.21480825743940873,
                    -0.8320305970548515,
                    0.09255212463664246,
                    0.2274071312320915,
                    -2.9729785688487094,
                    1.5923483799034268,
                    2.127817648824579,
                    -1.5328793343593847,
                    -0.5981586287285969,
                    1.183921949871444,
                    3.773858103802439,
                    1.8353474009402015,
                    -0.8664949149750982,
                    0.5818153819467828,
                    0.13649917702732317,
                    -0.4418068920274833,
                    1.1037998175743244,
                    -0.5839040464200359,
                    1.9416544540936427,
                    -0.36572237804878754,
                    -1.1847140454411464,
                    0.7455377114634822,
                    -1.3560364948008057,
                    -0.7184952983126152,
                    -0.6630453448975405,
                    -0.563573718218227,
                    -0.17940158789024208,
                    0.20424933827216982,
                    1.9858234168650362,
                    1.4094312864102376,
                    -1.276234267304829,
                    2.9561057138462616,
                    2.203048012695621,
                    1.695444675309202,
                    1.7080610166944101,
                    -1.1095976183510632,
                    -1.4062174959881029,
                    0.25033013180177593,
                    2.9199541487950644,
                    1.304820410435991,
                    0.8888943462311812,
                    -0.6796603056180532,
                    -0.6266263303843096,
                    -1.5997367442194652,
                    -0.7952403006905024,
                    1.7914786151083963,
                    -2.2664109829980608,
                    -1.4464047499978747,
                    1.149577539897211,
                    0.15379033129935665,
                    -1.0193583344759451,
                    2.015588427202586,
                    -0.1404753131327115,
                    0.4826244786192703,
                    -1.4845247109396988,
                    -0.18897059208457898,
                    -0.6172829755697947,
                    -0.0768130309005384,
                    0.1863665038027152,
                    0.9508765514929284,
                    -0.8703248489263286,
                    -1.5299800269931205,
                    -1.1450768711185748,
                    1.5694803764480993,
                    -0.6765977164498871,
                    2.330016242346523,
                    -0.7576188144116076,
                    3.587696936285683,
                    -0.6852315529812172,
                    2.9517269982069205,
                    -0.2021302195094212,
                    0.7822054653712988,
                    -1.9683917098816384,
                    -2.452576291758662,
                    1.0249784215192843,
                    -0.8046839979866829,
                    -0.9603728009860009,
                    -0.9258833667676973,
                    -1.004568626769237,
                    -0.27297513663317513,
                    1.151731022590221,
                    -0.9460667901932577,
                    0.2707837033740287,
                    0.21621355360026656,
                    -1.4257574232190142,
                    -1.0624547845065109,
                    -1.9828127167118437,
                    0.534946169813241,
                    -0.9289486483001352,
                    -0.2147454000475757,
                    0.5186642390686561,
                    -2.204730823727094,
                    0.4450775094271588,
                    -0.3232630153814084,
                    0.25916273905091036,
                    -0.01869945068359548,
                    0.03702594563590475,
                    -0.7636023032191716,
                    -0.7063475116770447,
                    -0.23106259206707208,
                    0.9244260648532024,
                    -0.6813874893345435,
                    -0.4602838367263791,
                    -1.8161284697196256,
                    -1.0046868329946967,
                    -0.6295719962656069,
                    -1.4321568290198217,
                    -1.1110749075167592,
                    -0.41763250199069585,
                    -0.7468390917110168,
                    -1.7604360375328478,
                    1.8944986596455429,
                    -0.8789134540183472,
                    -1.841259652112187,
                    -1.3108912613471826,
                    -0.04655527584620964,
                    -0.3362039999641741,
                    -0.765878678264832,
                    3.796649790404122,
                    3.6826850237425717,
                    4.421213911190393,
                    -0.16613447565328154,
                    -0.7033779277240271,
                    1.122787564019235,
                    -1.3743600336686204,
                    -0.6453435151584904,
                    1.7690565542489243,
                    0.8814151414706426,
                    0.45035366368122776,
                    -1.5335522335318175,
                    -1.778803698091767,
                    1.666248657125208,
                    2.115598672163471,
                    -1.209862765165035,
                    -0.420040369541344,
                    -1.2998272738385417,
                    0.6181922206518872,
                    -0.39507459377587373,
                    -2.330679049867457,
                    -0.5648457371506043,
                    -0.4301840487972311,
                    -0.6009022244882818,
                    0.983248786816797,
                    0.8361358189478515,
                    -0.2850405179765485,
                    2.173341370973816,
                    0.07546613865471036,
                    3.5562243757746077,
                    -0.23862251714567131,
                    3.972078273215894,
                    0.4279320678251249,
                    2.226556632353864,
                    -1.189150499044824,
                    -0.00796555452883662,
                    -0.0006964343503263075,
                    0.5720230118283615,
                    0.20563897975531453,
                    2.3401968711500225,
                    3.797980480400444,
                    -1.0621060412728092,
                    -1.6298662116671037,
                    0.6238114229329857
                  ],
                  "yaxis": "y"
                }
              ],
              "layout": {
                "legend": {
                  "tracegroupgap": 0
                },
                "margin": {
                  "t": 60
                },
                "template": {
                  "data": {
                    "bar": [
                      {
                        "error_x": {
                          "color": "#2a3f5f"
                        },
                        "error_y": {
                          "color": "#2a3f5f"
                        },
                        "marker": {
                          "line": {
                            "color": "#E5ECF6",
                            "width": 0.5
                          },
                          "pattern": {
                            "fillmode": "overlay",
                            "size": 10,
                            "solidity": 0.2
                          }
                        },
                        "type": "bar"
                      }
                    ],
                    "barpolar": [
                      {
                        "marker": {
                          "line": {
                            "color": "#E5ECF6",
                            "width": 0.5
                          },
                          "pattern": {
                            "fillmode": "overlay",
                            "size": 10,
                            "solidity": 0.2
                          }
                        },
                        "type": "barpolar"
                      }
                    ],
                    "carpet": [
                      {
                        "aaxis": {
                          "endlinecolor": "#2a3f5f",
                          "gridcolor": "white",
                          "linecolor": "white",
                          "minorgridcolor": "white",
                          "startlinecolor": "#2a3f5f"
                        },
                        "baxis": {
                          "endlinecolor": "#2a3f5f",
                          "gridcolor": "white",
                          "linecolor": "white",
                          "minorgridcolor": "white",
                          "startlinecolor": "#2a3f5f"
                        },
                        "type": "carpet"
                      }
                    ],
                    "choropleth": [
                      {
                        "colorbar": {
                          "outlinewidth": 0,
                          "ticks": ""
                        },
                        "type": "choropleth"
                      }
                    ],
                    "contour": [
                      {
                        "colorbar": {
                          "outlinewidth": 0,
                          "ticks": ""
                        },
                        "colorscale": [
                          [
                            0,
                            "#0d0887"
                          ],
                          [
                            0.1111111111111111,
                            "#46039f"
                          ],
                          [
                            0.2222222222222222,
                            "#7201a8"
                          ],
                          [
                            0.3333333333333333,
                            "#9c179e"
                          ],
                          [
                            0.4444444444444444,
                            "#bd3786"
                          ],
                          [
                            0.5555555555555556,
                            "#d8576b"
                          ],
                          [
                            0.6666666666666666,
                            "#ed7953"
                          ],
                          [
                            0.7777777777777778,
                            "#fb9f3a"
                          ],
                          [
                            0.8888888888888888,
                            "#fdca26"
                          ],
                          [
                            1,
                            "#f0f921"
                          ]
                        ],
                        "type": "contour"
                      }
                    ],
                    "contourcarpet": [
                      {
                        "colorbar": {
                          "outlinewidth": 0,
                          "ticks": ""
                        },
                        "type": "contourcarpet"
                      }
                    ],
                    "heatmap": [
                      {
                        "colorbar": {
                          "outlinewidth": 0,
                          "ticks": ""
                        },
                        "colorscale": [
                          [
                            0,
                            "#0d0887"
                          ],
                          [
                            0.1111111111111111,
                            "#46039f"
                          ],
                          [
                            0.2222222222222222,
                            "#7201a8"
                          ],
                          [
                            0.3333333333333333,
                            "#9c179e"
                          ],
                          [
                            0.4444444444444444,
                            "#bd3786"
                          ],
                          [
                            0.5555555555555556,
                            "#d8576b"
                          ],
                          [
                            0.6666666666666666,
                            "#ed7953"
                          ],
                          [
                            0.7777777777777778,
                            "#fb9f3a"
                          ],
                          [
                            0.8888888888888888,
                            "#fdca26"
                          ],
                          [
                            1,
                            "#f0f921"
                          ]
                        ],
                        "type": "heatmap"
                      }
                    ],
                    "heatmapgl": [
                      {
                        "colorbar": {
                          "outlinewidth": 0,
                          "ticks": ""
                        },
                        "colorscale": [
                          [
                            0,
                            "#0d0887"
                          ],
                          [
                            0.1111111111111111,
                            "#46039f"
                          ],
                          [
                            0.2222222222222222,
                            "#7201a8"
                          ],
                          [
                            0.3333333333333333,
                            "#9c179e"
                          ],
                          [
                            0.4444444444444444,
                            "#bd3786"
                          ],
                          [
                            0.5555555555555556,
                            "#d8576b"
                          ],
                          [
                            0.6666666666666666,
                            "#ed7953"
                          ],
                          [
                            0.7777777777777778,
                            "#fb9f3a"
                          ],
                          [
                            0.8888888888888888,
                            "#fdca26"
                          ],
                          [
                            1,
                            "#f0f921"
                          ]
                        ],
                        "type": "heatmapgl"
                      }
                    ],
                    "histogram": [
                      {
                        "marker": {
                          "pattern": {
                            "fillmode": "overlay",
                            "size": 10,
                            "solidity": 0.2
                          }
                        },
                        "type": "histogram"
                      }
                    ],
                    "histogram2d": [
                      {
                        "colorbar": {
                          "outlinewidth": 0,
                          "ticks": ""
                        },
                        "colorscale": [
                          [
                            0,
                            "#0d0887"
                          ],
                          [
                            0.1111111111111111,
                            "#46039f"
                          ],
                          [
                            0.2222222222222222,
                            "#7201a8"
                          ],
                          [
                            0.3333333333333333,
                            "#9c179e"
                          ],
                          [
                            0.4444444444444444,
                            "#bd3786"
                          ],
                          [
                            0.5555555555555556,
                            "#d8576b"
                          ],
                          [
                            0.6666666666666666,
                            "#ed7953"
                          ],
                          [
                            0.7777777777777778,
                            "#fb9f3a"
                          ],
                          [
                            0.8888888888888888,
                            "#fdca26"
                          ],
                          [
                            1,
                            "#f0f921"
                          ]
                        ],
                        "type": "histogram2d"
                      }
                    ],
                    "histogram2dcontour": [
                      {
                        "colorbar": {
                          "outlinewidth": 0,
                          "ticks": ""
                        },
                        "colorscale": [
                          [
                            0,
                            "#0d0887"
                          ],
                          [
                            0.1111111111111111,
                            "#46039f"
                          ],
                          [
                            0.2222222222222222,
                            "#7201a8"
                          ],
                          [
                            0.3333333333333333,
                            "#9c179e"
                          ],
                          [
                            0.4444444444444444,
                            "#bd3786"
                          ],
                          [
                            0.5555555555555556,
                            "#d8576b"
                          ],
                          [
                            0.6666666666666666,
                            "#ed7953"
                          ],
                          [
                            0.7777777777777778,
                            "#fb9f3a"
                          ],
                          [
                            0.8888888888888888,
                            "#fdca26"
                          ],
                          [
                            1,
                            "#f0f921"
                          ]
                        ],
                        "type": "histogram2dcontour"
                      }
                    ],
                    "mesh3d": [
                      {
                        "colorbar": {
                          "outlinewidth": 0,
                          "ticks": ""
                        },
                        "type": "mesh3d"
                      }
                    ],
                    "parcoords": [
                      {
                        "line": {
                          "colorbar": {
                            "outlinewidth": 0,
                            "ticks": ""
                          }
                        },
                        "type": "parcoords"
                      }
                    ],
                    "pie": [
                      {
                        "automargin": true,
                        "type": "pie"
                      }
                    ],
                    "scatter": [
                      {
                        "fillpattern": {
                          "fillmode": "overlay",
                          "size": 10,
                          "solidity": 0.2
                        },
                        "type": "scatter"
                      }
                    ],
                    "scatter3d": [
                      {
                        "line": {
                          "colorbar": {
                            "outlinewidth": 0,
                            "ticks": ""
                          }
                        },
                        "marker": {
                          "colorbar": {
                            "outlinewidth": 0,
                            "ticks": ""
                          }
                        },
                        "type": "scatter3d"
                      }
                    ],
                    "scattercarpet": [
                      {
                        "marker": {
                          "colorbar": {
                            "outlinewidth": 0,
                            "ticks": ""
                          }
                        },
                        "type": "scattercarpet"
                      }
                    ],
                    "scattergeo": [
                      {
                        "marker": {
                          "colorbar": {
                            "outlinewidth": 0,
                            "ticks": ""
                          }
                        },
                        "type": "scattergeo"
                      }
                    ],
                    "scattergl": [
                      {
                        "marker": {
                          "colorbar": {
                            "outlinewidth": 0,
                            "ticks": ""
                          }
                        },
                        "type": "scattergl"
                      }
                    ],
                    "scattermapbox": [
                      {
                        "marker": {
                          "colorbar": {
                            "outlinewidth": 0,
                            "ticks": ""
                          }
                        },
                        "type": "scattermapbox"
                      }
                    ],
                    "scatterpolar": [
                      {
                        "marker": {
                          "colorbar": {
                            "outlinewidth": 0,
                            "ticks": ""
                          }
                        },
                        "type": "scatterpolar"
                      }
                    ],
                    "scatterpolargl": [
                      {
                        "marker": {
                          "colorbar": {
                            "outlinewidth": 0,
                            "ticks": ""
                          }
                        },
                        "type": "scatterpolargl"
                      }
                    ],
                    "scatterternary": [
                      {
                        "marker": {
                          "colorbar": {
                            "outlinewidth": 0,
                            "ticks": ""
                          }
                        },
                        "type": "scatterternary"
                      }
                    ],
                    "surface": [
                      {
                        "colorbar": {
                          "outlinewidth": 0,
                          "ticks": ""
                        },
                        "colorscale": [
                          [
                            0,
                            "#0d0887"
                          ],
                          [
                            0.1111111111111111,
                            "#46039f"
                          ],
                          [
                            0.2222222222222222,
                            "#7201a8"
                          ],
                          [
                            0.3333333333333333,
                            "#9c179e"
                          ],
                          [
                            0.4444444444444444,
                            "#bd3786"
                          ],
                          [
                            0.5555555555555556,
                            "#d8576b"
                          ],
                          [
                            0.6666666666666666,
                            "#ed7953"
                          ],
                          [
                            0.7777777777777778,
                            "#fb9f3a"
                          ],
                          [
                            0.8888888888888888,
                            "#fdca26"
                          ],
                          [
                            1,
                            "#f0f921"
                          ]
                        ],
                        "type": "surface"
                      }
                    ],
                    "table": [
                      {
                        "cells": {
                          "fill": {
                            "color": "#EBF0F8"
                          },
                          "line": {
                            "color": "white"
                          }
                        },
                        "header": {
                          "fill": {
                            "color": "#C8D4E3"
                          },
                          "line": {
                            "color": "white"
                          }
                        },
                        "type": "table"
                      }
                    ]
                  },
                  "layout": {
                    "annotationdefaults": {
                      "arrowcolor": "#2a3f5f",
                      "arrowhead": 0,
                      "arrowwidth": 1
                    },
                    "autotypenumbers": "strict",
                    "coloraxis": {
                      "colorbar": {
                        "outlinewidth": 0,
                        "ticks": ""
                      }
                    },
                    "colorscale": {
                      "diverging": [
                        [
                          0,
                          "#8e0152"
                        ],
                        [
                          0.1,
                          "#c51b7d"
                        ],
                        [
                          0.2,
                          "#de77ae"
                        ],
                        [
                          0.3,
                          "#f1b6da"
                        ],
                        [
                          0.4,
                          "#fde0ef"
                        ],
                        [
                          0.5,
                          "#f7f7f7"
                        ],
                        [
                          0.6,
                          "#e6f5d0"
                        ],
                        [
                          0.7,
                          "#b8e186"
                        ],
                        [
                          0.8,
                          "#7fbc41"
                        ],
                        [
                          0.9,
                          "#4d9221"
                        ],
                        [
                          1,
                          "#276419"
                        ]
                      ],
                      "sequential": [
                        [
                          0,
                          "#0d0887"
                        ],
                        [
                          0.1111111111111111,
                          "#46039f"
                        ],
                        [
                          0.2222222222222222,
                          "#7201a8"
                        ],
                        [
                          0.3333333333333333,
                          "#9c179e"
                        ],
                        [
                          0.4444444444444444,
                          "#bd3786"
                        ],
                        [
                          0.5555555555555556,
                          "#d8576b"
                        ],
                        [
                          0.6666666666666666,
                          "#ed7953"
                        ],
                        [
                          0.7777777777777778,
                          "#fb9f3a"
                        ],
                        [
                          0.8888888888888888,
                          "#fdca26"
                        ],
                        [
                          1,
                          "#f0f921"
                        ]
                      ],
                      "sequentialminus": [
                        [
                          0,
                          "#0d0887"
                        ],
                        [
                          0.1111111111111111,
                          "#46039f"
                        ],
                        [
                          0.2222222222222222,
                          "#7201a8"
                        ],
                        [
                          0.3333333333333333,
                          "#9c179e"
                        ],
                        [
                          0.4444444444444444,
                          "#bd3786"
                        ],
                        [
                          0.5555555555555556,
                          "#d8576b"
                        ],
                        [
                          0.6666666666666666,
                          "#ed7953"
                        ],
                        [
                          0.7777777777777778,
                          "#fb9f3a"
                        ],
                        [
                          0.8888888888888888,
                          "#fdca26"
                        ],
                        [
                          1,
                          "#f0f921"
                        ]
                      ]
                    },
                    "colorway": [
                      "#636efa",
                      "#EF553B",
                      "#00cc96",
                      "#ab63fa",
                      "#FFA15A",
                      "#19d3f3",
                      "#FF6692",
                      "#B6E880",
                      "#FF97FF",
                      "#FECB52"
                    ],
                    "font": {
                      "color": "#2a3f5f"
                    },
                    "geo": {
                      "bgcolor": "white",
                      "lakecolor": "white",
                      "landcolor": "#E5ECF6",
                      "showlakes": true,
                      "showland": true,
                      "subunitcolor": "white"
                    },
                    "hoverlabel": {
                      "align": "left"
                    },
                    "hovermode": "closest",
                    "mapbox": {
                      "style": "light"
                    },
                    "paper_bgcolor": "white",
                    "plot_bgcolor": "#E5ECF6",
                    "polar": {
                      "angularaxis": {
                        "gridcolor": "white",
                        "linecolor": "white",
                        "ticks": ""
                      },
                      "bgcolor": "#E5ECF6",
                      "radialaxis": {
                        "gridcolor": "white",
                        "linecolor": "white",
                        "ticks": ""
                      }
                    },
                    "scene": {
                      "xaxis": {
                        "backgroundcolor": "#E5ECF6",
                        "gridcolor": "white",
                        "gridwidth": 2,
                        "linecolor": "white",
                        "showbackground": true,
                        "ticks": "",
                        "zerolinecolor": "white"
                      },
                      "yaxis": {
                        "backgroundcolor": "#E5ECF6",
                        "gridcolor": "white",
                        "gridwidth": 2,
                        "linecolor": "white",
                        "showbackground": true,
                        "ticks": "",
                        "zerolinecolor": "white"
                      },
                      "zaxis": {
                        "backgroundcolor": "#E5ECF6",
                        "gridcolor": "white",
                        "gridwidth": 2,
                        "linecolor": "white",
                        "showbackground": true,
                        "ticks": "",
                        "zerolinecolor": "white"
                      }
                    },
                    "shapedefaults": {
                      "line": {
                        "color": "#2a3f5f"
                      }
                    },
                    "ternary": {
                      "aaxis": {
                        "gridcolor": "white",
                        "linecolor": "white",
                        "ticks": ""
                      },
                      "baxis": {
                        "gridcolor": "white",
                        "linecolor": "white",
                        "ticks": ""
                      },
                      "bgcolor": "#E5ECF6",
                      "caxis": {
                        "gridcolor": "white",
                        "linecolor": "white",
                        "ticks": ""
                      }
                    },
                    "title": {
                      "x": 0.05
                    },
                    "xaxis": {
                      "automargin": true,
                      "gridcolor": "white",
                      "linecolor": "white",
                      "ticks": "",
                      "title": {
                        "standoff": 15
                      },
                      "zerolinecolor": "white",
                      "zerolinewidth": 2
                    },
                    "yaxis": {
                      "automargin": true,
                      "gridcolor": "white",
                      "linecolor": "white",
                      "ticks": "",
                      "title": {
                        "standoff": 15
                      },
                      "zerolinecolor": "white",
                      "zerolinewidth": 2
                    }
                  }
                },
                "xaxis": {
                  "anchor": "y",
                  "domain": [
                    0,
                    1
                  ],
                  "title": {
                    "text": "Componente Principal 1"
                  }
                },
                "yaxis": {
                  "anchor": "x",
                  "domain": [
                    0,
                    1
                  ],
                  "title": {
                    "text": "Componente Principal 2"
                  }
                }
              }
            }
          },
          "metadata": {},
          "output_type": "display_data"
        }
      ],
      "source": [
        "px.scatter(df_pca, x = 'Componente Principal 1', y = 'Componente Principal 2')"
      ]
    },
    {
      "cell_type": "markdown",
      "metadata": {
        "id": "mxIg_vAkdxZr"
      },
      "source": [
        "Dada a interpretação anterior dos componentes, pode-se notar que a maioria das músicas tem um valor comum de popularidade, e poucas músicas se encontram muito à direita, indicando um valor muito alto do 1 componente principal, e portanto uma popularidade significativamente maior que as demais. É importante reiterar que todas as músicas dos dados são populares, inclusive as que se encontram à esquerda."
      ]
    }
  ],
  "metadata": {
    "colab": {
      "provenance": [],
      "toc_visible": true
    },
    "kernelspec": {
      "display_name": "Python 3",
      "name": "python3"
    },
    "language_info": {
      "codemirror_mode": {
        "name": "ipython",
        "version": 3
      },
      "file_extension": ".py",
      "mimetype": "text/x-python",
      "name": "python",
      "nbconvert_exporter": "python",
      "pygments_lexer": "ipython3",
      "version": "3.10.11"
    }
  },
  "nbformat": 4,
  "nbformat_minor": 0
}
