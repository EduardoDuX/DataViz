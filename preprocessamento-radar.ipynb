{
 "cells": [
  {
   "cell_type": "markdown",
   "metadata": {},
   "source": [
    "# Pré-processamento dos dados\n",
    "\n",
    "Para que a visualização multidimensional dos dados fosse possível, foi necessário realizar um processamento nos dados que consiste em extrair, para cada artista, os valores médios de alguns atributos de interesse, a fim de que o usuário possa comparar os pontos fortes de cada cantor. A análise foi concentrada nos 15 artistas com mais músicas no conjunto de dados."
   ]
  },
  {
   "cell_type": "code",
   "execution_count": 28,
   "metadata": {},
   "outputs": [],
   "source": [
    "import pandas as pd\n",
    "import numpy  as np\n",
    "import plotly.express as px\n",
    "from sklearn.preprocessing import StandardScaler"
   ]
  },
  {
   "cell_type": "code",
   "execution_count": 29,
   "metadata": {},
   "outputs": [
    {
     "data": {
      "text/html": [
       "<div>\n",
       "<style scoped>\n",
       "    .dataframe tbody tr th:only-of-type {\n",
       "        vertical-align: middle;\n",
       "    }\n",
       "\n",
       "    .dataframe tbody tr th {\n",
       "        vertical-align: top;\n",
       "    }\n",
       "\n",
       "    .dataframe thead th {\n",
       "        text-align: right;\n",
       "    }\n",
       "</style>\n",
       "<table border=\"1\" class=\"dataframe\">\n",
       "  <thead>\n",
       "    <tr style=\"text-align: right;\">\n",
       "      <th></th>\n",
       "      <th>track_name</th>\n",
       "      <th>artist(s)_name</th>\n",
       "      <th>artist_count</th>\n",
       "      <th>released_year</th>\n",
       "      <th>released_month</th>\n",
       "      <th>released_day</th>\n",
       "      <th>in_spotify_playlists</th>\n",
       "      <th>in_spotify_charts</th>\n",
       "      <th>streams</th>\n",
       "      <th>in_apple_playlists</th>\n",
       "      <th>...</th>\n",
       "      <th>bpm</th>\n",
       "      <th>key</th>\n",
       "      <th>mode</th>\n",
       "      <th>danceability_%</th>\n",
       "      <th>valence_%</th>\n",
       "      <th>energy_%</th>\n",
       "      <th>acousticness_%</th>\n",
       "      <th>instrumentalness_%</th>\n",
       "      <th>liveness_%</th>\n",
       "      <th>speechiness_%</th>\n",
       "    </tr>\n",
       "  </thead>\n",
       "  <tbody>\n",
       "    <tr>\n",
       "      <th>0</th>\n",
       "      <td>Seven (feat. Latto) (Explicit Ver.)</td>\n",
       "      <td>Latto, Jung Kook</td>\n",
       "      <td>2</td>\n",
       "      <td>2023</td>\n",
       "      <td>7</td>\n",
       "      <td>14</td>\n",
       "      <td>553</td>\n",
       "      <td>147</td>\n",
       "      <td>141381703</td>\n",
       "      <td>43</td>\n",
       "      <td>...</td>\n",
       "      <td>125</td>\n",
       "      <td>B</td>\n",
       "      <td>Major</td>\n",
       "      <td>80</td>\n",
       "      <td>89</td>\n",
       "      <td>83</td>\n",
       "      <td>31</td>\n",
       "      <td>0</td>\n",
       "      <td>8</td>\n",
       "      <td>4</td>\n",
       "    </tr>\n",
       "    <tr>\n",
       "      <th>1</th>\n",
       "      <td>LALA</td>\n",
       "      <td>Myke Towers</td>\n",
       "      <td>1</td>\n",
       "      <td>2023</td>\n",
       "      <td>3</td>\n",
       "      <td>23</td>\n",
       "      <td>1474</td>\n",
       "      <td>48</td>\n",
       "      <td>133716286</td>\n",
       "      <td>48</td>\n",
       "      <td>...</td>\n",
       "      <td>92</td>\n",
       "      <td>C#</td>\n",
       "      <td>Major</td>\n",
       "      <td>71</td>\n",
       "      <td>61</td>\n",
       "      <td>74</td>\n",
       "      <td>7</td>\n",
       "      <td>0</td>\n",
       "      <td>10</td>\n",
       "      <td>4</td>\n",
       "    </tr>\n",
       "    <tr>\n",
       "      <th>2</th>\n",
       "      <td>vampire</td>\n",
       "      <td>Olivia Rodrigo</td>\n",
       "      <td>1</td>\n",
       "      <td>2023</td>\n",
       "      <td>6</td>\n",
       "      <td>30</td>\n",
       "      <td>1397</td>\n",
       "      <td>113</td>\n",
       "      <td>140003974</td>\n",
       "      <td>94</td>\n",
       "      <td>...</td>\n",
       "      <td>138</td>\n",
       "      <td>F</td>\n",
       "      <td>Major</td>\n",
       "      <td>51</td>\n",
       "      <td>32</td>\n",
       "      <td>53</td>\n",
       "      <td>17</td>\n",
       "      <td>0</td>\n",
       "      <td>31</td>\n",
       "      <td>6</td>\n",
       "    </tr>\n",
       "    <tr>\n",
       "      <th>3</th>\n",
       "      <td>Cruel Summer</td>\n",
       "      <td>Taylor Swift</td>\n",
       "      <td>1</td>\n",
       "      <td>2019</td>\n",
       "      <td>8</td>\n",
       "      <td>23</td>\n",
       "      <td>7858</td>\n",
       "      <td>100</td>\n",
       "      <td>800840817</td>\n",
       "      <td>116</td>\n",
       "      <td>...</td>\n",
       "      <td>170</td>\n",
       "      <td>A</td>\n",
       "      <td>Major</td>\n",
       "      <td>55</td>\n",
       "      <td>58</td>\n",
       "      <td>72</td>\n",
       "      <td>11</td>\n",
       "      <td>0</td>\n",
       "      <td>11</td>\n",
       "      <td>15</td>\n",
       "    </tr>\n",
       "    <tr>\n",
       "      <th>4</th>\n",
       "      <td>WHERE SHE GOES</td>\n",
       "      <td>Bad Bunny</td>\n",
       "      <td>1</td>\n",
       "      <td>2023</td>\n",
       "      <td>5</td>\n",
       "      <td>18</td>\n",
       "      <td>3133</td>\n",
       "      <td>50</td>\n",
       "      <td>303236322</td>\n",
       "      <td>84</td>\n",
       "      <td>...</td>\n",
       "      <td>144</td>\n",
       "      <td>A</td>\n",
       "      <td>Minor</td>\n",
       "      <td>65</td>\n",
       "      <td>23</td>\n",
       "      <td>80</td>\n",
       "      <td>14</td>\n",
       "      <td>63</td>\n",
       "      <td>11</td>\n",
       "      <td>6</td>\n",
       "    </tr>\n",
       "  </tbody>\n",
       "</table>\n",
       "<p>5 rows × 24 columns</p>\n",
       "</div>"
      ],
      "text/plain": [
       "                            track_name    artist(s)_name  artist_count  \\\n",
       "0  Seven (feat. Latto) (Explicit Ver.)  Latto, Jung Kook             2   \n",
       "1                                 LALA       Myke Towers             1   \n",
       "2                              vampire    Olivia Rodrigo             1   \n",
       "3                         Cruel Summer      Taylor Swift             1   \n",
       "4                       WHERE SHE GOES         Bad Bunny             1   \n",
       "\n",
       "   released_year  released_month  released_day  in_spotify_playlists  \\\n",
       "0           2023               7            14                   553   \n",
       "1           2023               3            23                  1474   \n",
       "2           2023               6            30                  1397   \n",
       "3           2019               8            23                  7858   \n",
       "4           2023               5            18                  3133   \n",
       "\n",
       "   in_spotify_charts    streams  in_apple_playlists  ...  bpm key   mode  \\\n",
       "0                147  141381703                  43  ...  125   B  Major   \n",
       "1                 48  133716286                  48  ...   92  C#  Major   \n",
       "2                113  140003974                  94  ...  138   F  Major   \n",
       "3                100  800840817                 116  ...  170   A  Major   \n",
       "4                 50  303236322                  84  ...  144   A  Minor   \n",
       "\n",
       "  danceability_%  valence_% energy_% acousticness_%  instrumentalness_%  \\\n",
       "0             80         89       83             31                   0   \n",
       "1             71         61       74              7                   0   \n",
       "2             51         32       53             17                   0   \n",
       "3             55         58       72             11                   0   \n",
       "4             65         23       80             14                  63   \n",
       "\n",
       "   liveness_%  speechiness_%  \n",
       "0           8              4  \n",
       "1          10              4  \n",
       "2          31              6  \n",
       "3          11             15  \n",
       "4          11              6  \n",
       "\n",
       "[5 rows x 24 columns]"
      ]
     },
     "execution_count": 29,
     "metadata": {},
     "output_type": "execute_result"
    }
   ],
   "source": [
    "# Leitura do conjunto de dados original\n",
    "dados = pd.read_csv('https://raw.githubusercontent.com/EduardoDuX/DataViz/main/spotify-2023.csv', encoding='latin-1')\n",
    "dados.head()"
   ]
  },
  {
   "cell_type": "code",
   "execution_count": 30,
   "metadata": {},
   "outputs": [],
   "source": [
    "# Removendo uma linha com dados inválidos\n",
    "dados = dados.drop(574)"
   ]
  },
  {
   "cell_type": "code",
   "execution_count": 31,
   "metadata": {},
   "outputs": [
    {
     "data": {
      "text/html": [
       "<div>\n",
       "<style scoped>\n",
       "    .dataframe tbody tr th:only-of-type {\n",
       "        vertical-align: middle;\n",
       "    }\n",
       "\n",
       "    .dataframe tbody tr th {\n",
       "        vertical-align: top;\n",
       "    }\n",
       "\n",
       "    .dataframe thead th {\n",
       "        text-align: right;\n",
       "    }\n",
       "</style>\n",
       "<table border=\"1\" class=\"dataframe\">\n",
       "  <thead>\n",
       "    <tr style=\"text-align: right;\">\n",
       "      <th></th>\n",
       "      <th>artist(s)_name</th>\n",
       "      <th>main_artist</th>\n",
       "    </tr>\n",
       "  </thead>\n",
       "  <tbody>\n",
       "    <tr>\n",
       "      <th>0</th>\n",
       "      <td>Latto, Jung Kook</td>\n",
       "      <td>Latto</td>\n",
       "    </tr>\n",
       "    <tr>\n",
       "      <th>1</th>\n",
       "      <td>Myke Towers</td>\n",
       "      <td>Myke Towers</td>\n",
       "    </tr>\n",
       "    <tr>\n",
       "      <th>2</th>\n",
       "      <td>Olivia Rodrigo</td>\n",
       "      <td>Olivia Rodrigo</td>\n",
       "    </tr>\n",
       "    <tr>\n",
       "      <th>3</th>\n",
       "      <td>Taylor Swift</td>\n",
       "      <td>Taylor Swift</td>\n",
       "    </tr>\n",
       "    <tr>\n",
       "      <th>4</th>\n",
       "      <td>Bad Bunny</td>\n",
       "      <td>Bad Bunny</td>\n",
       "    </tr>\n",
       "    <tr>\n",
       "      <th>...</th>\n",
       "      <td>...</td>\n",
       "      <td>...</td>\n",
       "    </tr>\n",
       "    <tr>\n",
       "      <th>948</th>\n",
       "      <td>Selena Gomez</td>\n",
       "      <td>Selena Gomez</td>\n",
       "    </tr>\n",
       "    <tr>\n",
       "      <th>949</th>\n",
       "      <td>Taylor Swift</td>\n",
       "      <td>Taylor Swift</td>\n",
       "    </tr>\n",
       "    <tr>\n",
       "      <th>950</th>\n",
       "      <td>Feid, Paulo Londra</td>\n",
       "      <td>Feid</td>\n",
       "    </tr>\n",
       "    <tr>\n",
       "      <th>951</th>\n",
       "      <td>Feid, Sech, Jhayco</td>\n",
       "      <td>Feid</td>\n",
       "    </tr>\n",
       "    <tr>\n",
       "      <th>952</th>\n",
       "      <td>Burna Boy</td>\n",
       "      <td>Burna Boy</td>\n",
       "    </tr>\n",
       "  </tbody>\n",
       "</table>\n",
       "<p>952 rows × 2 columns</p>\n",
       "</div>"
      ],
      "text/plain": [
       "         artist(s)_name     main_artist\n",
       "0      Latto, Jung Kook           Latto\n",
       "1           Myke Towers     Myke Towers\n",
       "2        Olivia Rodrigo  Olivia Rodrigo\n",
       "3          Taylor Swift    Taylor Swift\n",
       "4             Bad Bunny       Bad Bunny\n",
       "..                  ...             ...\n",
       "948        Selena Gomez    Selena Gomez\n",
       "949        Taylor Swift    Taylor Swift\n",
       "950  Feid, Paulo Londra            Feid\n",
       "951  Feid, Sech, Jhayco            Feid\n",
       "952           Burna Boy       Burna Boy\n",
       "\n",
       "[952 rows x 2 columns]"
      ]
     },
     "execution_count": 31,
     "metadata": {},
     "output_type": "execute_result"
    }
   ],
   "source": [
    "# Extraindo, para cada música, o artista principal dela\n",
    "dados['main_artist'] = ''\n",
    "\n",
    "for index, row in dados.iterrows():\n",
    "    if row['artist_count'] > 1:\n",
    "        artists = row['artist(s)_name'].split(',')\n",
    "        dados.at[index, 'main_artist'] = artists[0]\n",
    "    else:\n",
    "        dados.at[index, 'main_artist'] = row['artist(s)_name']\n",
    "\n",
    "# Exibindo o resultado\n",
    "dados[['artist(s)_name', 'main_artist']]"
   ]
  },
  {
   "cell_type": "code",
   "execution_count": 32,
   "metadata": {},
   "outputs": [
    {
     "data": {
      "text/plain": [
       "['Taylor Swift',\n",
       " 'The Weeknd',\n",
       " 'Bad Bunny',\n",
       " 'SZA',\n",
       " 'Kendrick Lamar',\n",
       " 'Drake',\n",
       " 'Harry Styles',\n",
       " 'Feid',\n",
       " 'Ed Sheeran',\n",
       " 'Morgan Wallen',\n",
       " 'Eminem',\n",
       " 'BTS',\n",
       " 'Karol G',\n",
       " 'Labrinth',\n",
       " 'Doja Cat']"
      ]
     },
     "execution_count": 32,
     "metadata": {},
     "output_type": "execute_result"
    }
   ],
   "source": [
    "# Exibindo os artistas com mais músicas no dataset (em ordem decrescente)\n",
    "main_artists = dados['main_artist'].value_counts()[:15].keys().values.tolist()\n",
    "main_artists"
   ]
  },
  {
   "cell_type": "code",
   "execution_count": 33,
   "metadata": {},
   "outputs": [],
   "source": [
    "# Variáveis de interesse\n",
    "variaveis = ['streams', 'in_apple_playlists', 'in_apple_charts',\n",
    "             'in_deezer_playlists', 'in_deezer_charts', 'in_shazam_charts', 'bpm', \n",
    "             'danceability_%', 'valence_%', 'energy_%',\n",
    "             'acousticness_%', 'instrumentalness_%', 'liveness_%', 'speechiness_%']\n",
    "\n",
    "# Variáveis de interesse que são do tipo string\n",
    "variaveis_string = ['streams', 'in_deezer_playlists', 'in_shazam_charts']\n",
    "\n",
    "for variavel in variaveis_string:\n",
    "    dados[variavel] = dados[variavel].str.replace(',', '')\n",
    "\n",
    "# Convertendo todas as variáveis de interesse para o tipo float\n",
    "dados[variaveis] = dados[variaveis].astype(float)"
   ]
  },
  {
   "cell_type": "code",
   "execution_count": 34,
   "metadata": {},
   "outputs": [
    {
     "data": {
      "text/html": [
       "<div>\n",
       "<style scoped>\n",
       "    .dataframe tbody tr th:only-of-type {\n",
       "        vertical-align: middle;\n",
       "    }\n",
       "\n",
       "    .dataframe tbody tr th {\n",
       "        vertical-align: top;\n",
       "    }\n",
       "\n",
       "    .dataframe thead th {\n",
       "        text-align: right;\n",
       "    }\n",
       "</style>\n",
       "<table border=\"1\" class=\"dataframe\">\n",
       "  <thead>\n",
       "    <tr style=\"text-align: right;\">\n",
       "      <th></th>\n",
       "      <th>streams</th>\n",
       "      <th>in_apple_playlists</th>\n",
       "      <th>in_apple_charts</th>\n",
       "      <th>in_deezer_playlists</th>\n",
       "      <th>in_deezer_charts</th>\n",
       "      <th>in_shazam_charts</th>\n",
       "      <th>bpm</th>\n",
       "      <th>danceability_%</th>\n",
       "      <th>valence_%</th>\n",
       "      <th>energy_%</th>\n",
       "      <th>acousticness_%</th>\n",
       "      <th>instrumentalness_%</th>\n",
       "      <th>liveness_%</th>\n",
       "      <th>speechiness_%</th>\n",
       "    </tr>\n",
       "    <tr>\n",
       "      <th>main_artist</th>\n",
       "      <th></th>\n",
       "      <th></th>\n",
       "      <th></th>\n",
       "      <th></th>\n",
       "      <th></th>\n",
       "      <th></th>\n",
       "      <th></th>\n",
       "      <th></th>\n",
       "      <th></th>\n",
       "      <th></th>\n",
       "      <th></th>\n",
       "      <th></th>\n",
       "      <th></th>\n",
       "      <th></th>\n",
       "    </tr>\n",
       "  </thead>\n",
       "  <tbody>\n",
       "    <tr>\n",
       "      <th>(G)I-DLE</th>\n",
       "      <td>1.334917e+08</td>\n",
       "      <td>12.0</td>\n",
       "      <td>121.0</td>\n",
       "      <td>8.0</td>\n",
       "      <td>0.0</td>\n",
       "      <td>79.5</td>\n",
       "      <td>133.0</td>\n",
       "      <td>77.5</td>\n",
       "      <td>67.0</td>\n",
       "      <td>87.0</td>\n",
       "      <td>3.5</td>\n",
       "      <td>0.0</td>\n",
       "      <td>37.5</td>\n",
       "      <td>11.5</td>\n",
       "    </tr>\n",
       "    <tr>\n",
       "      <th>21 Savage</th>\n",
       "      <td>6.068094e+07</td>\n",
       "      <td>3.0</td>\n",
       "      <td>0.0</td>\n",
       "      <td>5.0</td>\n",
       "      <td>0.0</td>\n",
       "      <td>0.0</td>\n",
       "      <td>148.0</td>\n",
       "      <td>68.0</td>\n",
       "      <td>29.0</td>\n",
       "      <td>73.0</td>\n",
       "      <td>0.0</td>\n",
       "      <td>0.0</td>\n",
       "      <td>7.0</td>\n",
       "      <td>7.0</td>\n",
       "    </tr>\n",
       "    <tr>\n",
       "      <th>24kgoldn</th>\n",
       "      <td>1.699402e+09</td>\n",
       "      <td>237.0</td>\n",
       "      <td>27.0</td>\n",
       "      <td>636.0</td>\n",
       "      <td>0.0</td>\n",
       "      <td>NaN</td>\n",
       "      <td>91.0</td>\n",
       "      <td>70.0</td>\n",
       "      <td>76.0</td>\n",
       "      <td>72.0</td>\n",
       "      <td>22.0</td>\n",
       "      <td>0.0</td>\n",
       "      <td>27.0</td>\n",
       "      <td>4.0</td>\n",
       "    </tr>\n",
       "    <tr>\n",
       "      <th>50 Cent</th>\n",
       "      <td>1.202723e+09</td>\n",
       "      <td>235.0</td>\n",
       "      <td>106.0</td>\n",
       "      <td>5221.0</td>\n",
       "      <td>1.0</td>\n",
       "      <td>35.0</td>\n",
       "      <td>90.0</td>\n",
       "      <td>90.0</td>\n",
       "      <td>79.0</td>\n",
       "      <td>71.0</td>\n",
       "      <td>26.0</td>\n",
       "      <td>0.0</td>\n",
       "      <td>7.0</td>\n",
       "      <td>37.0</td>\n",
       "    </tr>\n",
       "    <tr>\n",
       "      <th>A$AP Rocky</th>\n",
       "      <td>9.418647e+07</td>\n",
       "      <td>17.0</td>\n",
       "      <td>60.0</td>\n",
       "      <td>28.0</td>\n",
       "      <td>1.0</td>\n",
       "      <td>44.0</td>\n",
       "      <td>90.0</td>\n",
       "      <td>60.0</td>\n",
       "      <td>13.0</td>\n",
       "      <td>53.0</td>\n",
       "      <td>4.0</td>\n",
       "      <td>0.0</td>\n",
       "      <td>21.0</td>\n",
       "      <td>4.0</td>\n",
       "    </tr>\n",
       "    <tr>\n",
       "      <th>...</th>\n",
       "      <td>...</td>\n",
       "      <td>...</td>\n",
       "      <td>...</td>\n",
       "      <td>...</td>\n",
       "      <td>...</td>\n",
       "      <td>...</td>\n",
       "      <td>...</td>\n",
       "      <td>...</td>\n",
       "      <td>...</td>\n",
       "      <td>...</td>\n",
       "      <td>...</td>\n",
       "      <td>...</td>\n",
       "      <td>...</td>\n",
       "      <td>...</td>\n",
       "    </tr>\n",
       "    <tr>\n",
       "      <th>girl in red</th>\n",
       "      <td>7.230439e+08</td>\n",
       "      <td>31.0</td>\n",
       "      <td>21.0</td>\n",
       "      <td>15.0</td>\n",
       "      <td>0.0</td>\n",
       "      <td>4.0</td>\n",
       "      <td>130.0</td>\n",
       "      <td>57.0</td>\n",
       "      <td>24.0</td>\n",
       "      <td>37.0</td>\n",
       "      <td>11.0</td>\n",
       "      <td>18.0</td>\n",
       "      <td>16.0</td>\n",
       "      <td>3.0</td>\n",
       "    </tr>\n",
       "    <tr>\n",
       "      <th>j-hope</th>\n",
       "      <td>1.361978e+08</td>\n",
       "      <td>14.0</td>\n",
       "      <td>67.0</td>\n",
       "      <td>9.5</td>\n",
       "      <td>0.0</td>\n",
       "      <td>4.5</td>\n",
       "      <td>95.5</td>\n",
       "      <td>73.0</td>\n",
       "      <td>56.0</td>\n",
       "      <td>77.0</td>\n",
       "      <td>27.0</td>\n",
       "      <td>0.0</td>\n",
       "      <td>10.0</td>\n",
       "      <td>8.5</td>\n",
       "    </tr>\n",
       "    <tr>\n",
       "      <th>sped up 8282</th>\n",
       "      <td>1.037625e+08</td>\n",
       "      <td>0.0</td>\n",
       "      <td>0.0</td>\n",
       "      <td>6.0</td>\n",
       "      <td>0.0</td>\n",
       "      <td>0.0</td>\n",
       "      <td>144.0</td>\n",
       "      <td>74.0</td>\n",
       "      <td>75.0</td>\n",
       "      <td>73.0</td>\n",
       "      <td>42.0</td>\n",
       "      <td>0.0</td>\n",
       "      <td>9.0</td>\n",
       "      <td>4.0</td>\n",
       "    </tr>\n",
       "    <tr>\n",
       "      <th>sped up nightcore</th>\n",
       "      <td>2.070333e+08</td>\n",
       "      <td>0.0</td>\n",
       "      <td>0.0</td>\n",
       "      <td>21.0</td>\n",
       "      <td>0.0</td>\n",
       "      <td>0.0</td>\n",
       "      <td>130.0</td>\n",
       "      <td>69.0</td>\n",
       "      <td>36.0</td>\n",
       "      <td>90.0</td>\n",
       "      <td>1.0</td>\n",
       "      <td>10.0</td>\n",
       "      <td>15.0</td>\n",
       "      <td>4.0</td>\n",
       "    </tr>\n",
       "    <tr>\n",
       "      <th>teto</th>\n",
       "      <td>1.391938e+08</td>\n",
       "      <td>27.0</td>\n",
       "      <td>2.0</td>\n",
       "      <td>31.0</td>\n",
       "      <td>0.0</td>\n",
       "      <td>0.0</td>\n",
       "      <td>119.0</td>\n",
       "      <td>87.0</td>\n",
       "      <td>28.0</td>\n",
       "      <td>50.0</td>\n",
       "      <td>12.0</td>\n",
       "      <td>0.0</td>\n",
       "      <td>10.0</td>\n",
       "      <td>10.0</td>\n",
       "    </tr>\n",
       "  </tbody>\n",
       "</table>\n",
       "<p>458 rows × 14 columns</p>\n",
       "</div>"
      ],
      "text/plain": [
       "                        streams  in_apple_playlists  in_apple_charts  \\\n",
       "main_artist                                                            \n",
       "(G)I-DLE           1.334917e+08                12.0            121.0   \n",
       "21 Savage          6.068094e+07                 3.0              0.0   \n",
       "24kgoldn           1.699402e+09               237.0             27.0   \n",
       "50 Cent            1.202723e+09               235.0            106.0   \n",
       "A$AP Rocky         9.418647e+07                17.0             60.0   \n",
       "...                         ...                 ...              ...   \n",
       "girl in red        7.230439e+08                31.0             21.0   \n",
       "j-hope             1.361978e+08                14.0             67.0   \n",
       "sped up 8282       1.037625e+08                 0.0              0.0   \n",
       "sped up nightcore  2.070333e+08                 0.0              0.0   \n",
       "teto               1.391938e+08                27.0              2.0   \n",
       "\n",
       "                   in_deezer_playlists  in_deezer_charts  in_shazam_charts  \\\n",
       "main_artist                                                                  \n",
       "(G)I-DLE                           8.0               0.0              79.5   \n",
       "21 Savage                          5.0               0.0               0.0   \n",
       "24kgoldn                         636.0               0.0               NaN   \n",
       "50 Cent                         5221.0               1.0              35.0   \n",
       "A$AP Rocky                        28.0               1.0              44.0   \n",
       "...                                ...               ...               ...   \n",
       "girl in red                       15.0               0.0               4.0   \n",
       "j-hope                             9.5               0.0               4.5   \n",
       "sped up 8282                       6.0               0.0               0.0   \n",
       "sped up nightcore                 21.0               0.0               0.0   \n",
       "teto                              31.0               0.0               0.0   \n",
       "\n",
       "                     bpm  danceability_%  valence_%  energy_%  acousticness_%  \\\n",
       "main_artist                                                                     \n",
       "(G)I-DLE           133.0            77.5       67.0      87.0             3.5   \n",
       "21 Savage          148.0            68.0       29.0      73.0             0.0   \n",
       "24kgoldn            91.0            70.0       76.0      72.0            22.0   \n",
       "50 Cent             90.0            90.0       79.0      71.0            26.0   \n",
       "A$AP Rocky          90.0            60.0       13.0      53.0             4.0   \n",
       "...                  ...             ...        ...       ...             ...   \n",
       "girl in red        130.0            57.0       24.0      37.0            11.0   \n",
       "j-hope              95.5            73.0       56.0      77.0            27.0   \n",
       "sped up 8282       144.0            74.0       75.0      73.0            42.0   \n",
       "sped up nightcore  130.0            69.0       36.0      90.0             1.0   \n",
       "teto               119.0            87.0       28.0      50.0            12.0   \n",
       "\n",
       "                   instrumentalness_%  liveness_%  speechiness_%  \n",
       "main_artist                                                       \n",
       "(G)I-DLE                          0.0        37.5           11.5  \n",
       "21 Savage                         0.0         7.0            7.0  \n",
       "24kgoldn                          0.0        27.0            4.0  \n",
       "50 Cent                           0.0         7.0           37.0  \n",
       "A$AP Rocky                        0.0        21.0            4.0  \n",
       "...                               ...         ...            ...  \n",
       "girl in red                      18.0        16.0            3.0  \n",
       "j-hope                            0.0        10.0            8.5  \n",
       "sped up 8282                      0.0         9.0            4.0  \n",
       "sped up nightcore                10.0        15.0            4.0  \n",
       "teto                              0.0        10.0           10.0  \n",
       "\n",
       "[458 rows x 14 columns]"
      ]
     },
     "execution_count": 34,
     "metadata": {},
     "output_type": "execute_result"
    }
   ],
   "source": [
    "# Calculando as médias de cada um dos atributos de interesse para todos os artistas\n",
    "variaveis.append('main_artist')\n",
    "medias = dados[variaveis].groupby('main_artist').mean()\n",
    "medias"
   ]
  },
  {
   "cell_type": "code",
   "execution_count": 35,
   "metadata": {},
   "outputs": [
    {
     "data": {
      "text/html": [
       "<div>\n",
       "<style scoped>\n",
       "    .dataframe tbody tr th:only-of-type {\n",
       "        vertical-align: middle;\n",
       "    }\n",
       "\n",
       "    .dataframe tbody tr th {\n",
       "        vertical-align: top;\n",
       "    }\n",
       "\n",
       "    .dataframe thead th {\n",
       "        text-align: right;\n",
       "    }\n",
       "</style>\n",
       "<table border=\"1\" class=\"dataframe\">\n",
       "  <thead>\n",
       "    <tr style=\"text-align: right;\">\n",
       "      <th></th>\n",
       "      <th>streams</th>\n",
       "      <th>in_apple_playlists</th>\n",
       "      <th>in_apple_charts</th>\n",
       "      <th>in_deezer_playlists</th>\n",
       "      <th>in_deezer_charts</th>\n",
       "      <th>in_shazam_charts</th>\n",
       "      <th>bpm</th>\n",
       "      <th>danceability_%</th>\n",
       "      <th>valence_%</th>\n",
       "      <th>energy_%</th>\n",
       "      <th>acousticness_%</th>\n",
       "      <th>instrumentalness_%</th>\n",
       "      <th>liveness_%</th>\n",
       "      <th>speechiness_%</th>\n",
       "    </tr>\n",
       "    <tr>\n",
       "      <th>main_artist</th>\n",
       "      <th></th>\n",
       "      <th></th>\n",
       "      <th></th>\n",
       "      <th></th>\n",
       "      <th></th>\n",
       "      <th></th>\n",
       "      <th></th>\n",
       "      <th></th>\n",
       "      <th></th>\n",
       "      <th></th>\n",
       "      <th></th>\n",
       "      <th></th>\n",
       "      <th></th>\n",
       "      <th></th>\n",
       "    </tr>\n",
       "  </thead>\n",
       "  <tbody>\n",
       "    <tr>\n",
       "      <th>Taylor Swift</th>\n",
       "      <td>4.006455e+08</td>\n",
       "      <td>51.444444</td>\n",
       "      <td>54.000000</td>\n",
       "      <td>87.416667</td>\n",
       "      <td>1.611111</td>\n",
       "      <td>50.611111</td>\n",
       "      <td>124.111111</td>\n",
       "      <td>60.000000</td>\n",
       "      <td>34.305556</td>\n",
       "      <td>56.250000</td>\n",
       "      <td>28.416667</td>\n",
       "      <td>0.638889</td>\n",
       "      <td>16.500000</td>\n",
       "      <td>7.250000</td>\n",
       "    </tr>\n",
       "    <tr>\n",
       "      <th>The Weeknd</th>\n",
       "      <td>6.328396e+08</td>\n",
       "      <td>76.852941</td>\n",
       "      <td>71.029412</td>\n",
       "      <td>348.000000</td>\n",
       "      <td>2.029412</td>\n",
       "      <td>73.100000</td>\n",
       "      <td>118.794118</td>\n",
       "      <td>59.617647</td>\n",
       "      <td>42.882353</td>\n",
       "      <td>63.647059</td>\n",
       "      <td>21.147059</td>\n",
       "      <td>1.058824</td>\n",
       "      <td>20.617647</td>\n",
       "      <td>8.323529</td>\n",
       "    </tr>\n",
       "    <tr>\n",
       "      <th>Bad Bunny</th>\n",
       "      <td>5.909148e+08</td>\n",
       "      <td>41.692308</td>\n",
       "      <td>61.500000</td>\n",
       "      <td>68.692308</td>\n",
       "      <td>3.615385</td>\n",
       "      <td>39.615385</td>\n",
       "      <td>119.307692</td>\n",
       "      <td>74.153846</td>\n",
       "      <td>48.576923</td>\n",
       "      <td>67.038462</td>\n",
       "      <td>24.000000</td>\n",
       "      <td>2.423077</td>\n",
       "      <td>19.769231</td>\n",
       "      <td>9.576923</td>\n",
       "    </tr>\n",
       "    <tr>\n",
       "      <th>SZA</th>\n",
       "      <td>2.823048e+08</td>\n",
       "      <td>47.739130</td>\n",
       "      <td>55.260870</td>\n",
       "      <td>47.304348</td>\n",
       "      <td>1.173913</td>\n",
       "      <td>21.913043</td>\n",
       "      <td>116.956522</td>\n",
       "      <td>60.000000</td>\n",
       "      <td>47.782609</td>\n",
       "      <td>53.826087</td>\n",
       "      <td>48.173913</td>\n",
       "      <td>1.826087</td>\n",
       "      <td>19.434783</td>\n",
       "      <td>9.608696</td>\n",
       "    </tr>\n",
       "    <tr>\n",
       "      <th>Kendrick Lamar</th>\n",
       "      <td>2.415610e+08</td>\n",
       "      <td>30.565217</td>\n",
       "      <td>12.869565</td>\n",
       "      <td>111.043478</td>\n",
       "      <td>0.000000</td>\n",
       "      <td>31.478261</td>\n",
       "      <td>122.608696</td>\n",
       "      <td>66.434783</td>\n",
       "      <td>48.000000</td>\n",
       "      <td>58.304348</td>\n",
       "      <td>41.086957</td>\n",
       "      <td>0.043478</td>\n",
       "      <td>16.304348</td>\n",
       "      <td>23.565217</td>\n",
       "    </tr>\n",
       "    <tr>\n",
       "      <th>Drake</th>\n",
       "      <td>4.233174e+08</td>\n",
       "      <td>72.105263</td>\n",
       "      <td>50.736842</td>\n",
       "      <td>225.684211</td>\n",
       "      <td>0.052632</td>\n",
       "      <td>22.000000</td>\n",
       "      <td>133.578947</td>\n",
       "      <td>73.684211</td>\n",
       "      <td>30.526316</td>\n",
       "      <td>54.684211</td>\n",
       "      <td>5.526316</td>\n",
       "      <td>0.105263</td>\n",
       "      <td>23.105263</td>\n",
       "      <td>19.947368</td>\n",
       "    </tr>\n",
       "    <tr>\n",
       "      <th>Harry Styles</th>\n",
       "      <td>6.828615e+08</td>\n",
       "      <td>102.411765</td>\n",
       "      <td>32.058824</td>\n",
       "      <td>217.352941</td>\n",
       "      <td>4.470588</td>\n",
       "      <td>18.800000</td>\n",
       "      <td>128.529412</td>\n",
       "      <td>61.352941</td>\n",
       "      <td>54.000000</td>\n",
       "      <td>58.882353</td>\n",
       "      <td>42.823529</td>\n",
       "      <td>1.588235</td>\n",
       "      <td>14.294118</td>\n",
       "      <td>5.352941</td>\n",
       "    </tr>\n",
       "    <tr>\n",
       "      <th>Feid</th>\n",
       "      <td>2.452318e+08</td>\n",
       "      <td>28.466667</td>\n",
       "      <td>40.866667</td>\n",
       "      <td>29.533333</td>\n",
       "      <td>3.800000</td>\n",
       "      <td>33.400000</td>\n",
       "      <td>120.800000</td>\n",
       "      <td>75.000000</td>\n",
       "      <td>58.333333</td>\n",
       "      <td>67.600000</td>\n",
       "      <td>11.533333</td>\n",
       "      <td>0.000000</td>\n",
       "      <td>17.133333</td>\n",
       "      <td>9.466667</td>\n",
       "    </tr>\n",
       "    <tr>\n",
       "      <th>Ed Sheeran</th>\n",
       "      <td>1.119975e+09</td>\n",
       "      <td>128.615385</td>\n",
       "      <td>46.461538</td>\n",
       "      <td>1333.923077</td>\n",
       "      <td>3.307692</td>\n",
       "      <td>81.454545</td>\n",
       "      <td>115.000000</td>\n",
       "      <td>71.076923</td>\n",
       "      <td>52.538462</td>\n",
       "      <td>62.615385</td>\n",
       "      <td>33.692308</td>\n",
       "      <td>0.000000</td>\n",
       "      <td>16.307692</td>\n",
       "      <td>5.230769</td>\n",
       "    </tr>\n",
       "    <tr>\n",
       "      <th>Morgan Wallen</th>\n",
       "      <td>1.437575e+08</td>\n",
       "      <td>16.250000</td>\n",
       "      <td>47.250000</td>\n",
       "      <td>2.583333</td>\n",
       "      <td>0.083333</td>\n",
       "      <td>49.166667</td>\n",
       "      <td>139.833333</td>\n",
       "      <td>58.166667</td>\n",
       "      <td>59.500000</td>\n",
       "      <td>77.166667</td>\n",
       "      <td>20.250000</td>\n",
       "      <td>0.000000</td>\n",
       "      <td>22.500000</td>\n",
       "      <td>3.250000</td>\n",
       "    </tr>\n",
       "    <tr>\n",
       "      <th>Eminem</th>\n",
       "      <td>1.132636e+09</td>\n",
       "      <td>82.222222</td>\n",
       "      <td>50.666667</td>\n",
       "      <td>2724.888889</td>\n",
       "      <td>1.444444</td>\n",
       "      <td>30.555556</td>\n",
       "      <td>122.555556</td>\n",
       "      <td>79.666667</td>\n",
       "      <td>47.222222</td>\n",
       "      <td>74.111111</td>\n",
       "      <td>6.444444</td>\n",
       "      <td>0.000000</td>\n",
       "      <td>22.555556</td>\n",
       "      <td>16.444444</td>\n",
       "    </tr>\n",
       "    <tr>\n",
       "      <th>BTS</th>\n",
       "      <td>5.236945e+08</td>\n",
       "      <td>63.222222</td>\n",
       "      <td>101.777778</td>\n",
       "      <td>111.222222</td>\n",
       "      <td>0.444444</td>\n",
       "      <td>13.625000</td>\n",
       "      <td>120.111111</td>\n",
       "      <td>67.555556</td>\n",
       "      <td>59.444444</td>\n",
       "      <td>71.111111</td>\n",
       "      <td>8.222222</td>\n",
       "      <td>0.000000</td>\n",
       "      <td>24.111111</td>\n",
       "      <td>9.222222</td>\n",
       "    </tr>\n",
       "    <tr>\n",
       "      <th>Karol G</th>\n",
       "      <td>3.612082e+08</td>\n",
       "      <td>61.222222</td>\n",
       "      <td>78.000000</td>\n",
       "      <td>80.000000</td>\n",
       "      <td>7.555556</td>\n",
       "      <td>90.666667</td>\n",
       "      <td>125.888889</td>\n",
       "      <td>81.444444</td>\n",
       "      <td>58.555556</td>\n",
       "      <td>66.777778</td>\n",
       "      <td>47.222222</td>\n",
       "      <td>0.111111</td>\n",
       "      <td>11.555556</td>\n",
       "      <td>21.222222</td>\n",
       "    </tr>\n",
       "    <tr>\n",
       "      <th>Labrinth</th>\n",
       "      <td>3.423669e+08</td>\n",
       "      <td>31.250000</td>\n",
       "      <td>60.500000</td>\n",
       "      <td>96.000000</td>\n",
       "      <td>0.000000</td>\n",
       "      <td>4.875000</td>\n",
       "      <td>99.000000</td>\n",
       "      <td>42.250000</td>\n",
       "      <td>30.000000</td>\n",
       "      <td>50.125000</td>\n",
       "      <td>38.750000</td>\n",
       "      <td>14.125000</td>\n",
       "      <td>20.750000</td>\n",
       "      <td>9.875000</td>\n",
       "    </tr>\n",
       "    <tr>\n",
       "      <th>Doja Cat</th>\n",
       "      <td>7.678501e+08</td>\n",
       "      <td>92.714286</td>\n",
       "      <td>31.428571</td>\n",
       "      <td>157.714286</td>\n",
       "      <td>2.285714</td>\n",
       "      <td>6.800000</td>\n",
       "      <td>119.000000</td>\n",
       "      <td>80.428571</td>\n",
       "      <td>55.000000</td>\n",
       "      <td>60.000000</td>\n",
       "      <td>21.857143</td>\n",
       "      <td>0.571429</td>\n",
       "      <td>17.285714</td>\n",
       "      <td>13.285714</td>\n",
       "    </tr>\n",
       "  </tbody>\n",
       "</table>\n",
       "</div>"
      ],
      "text/plain": [
       "                     streams  in_apple_playlists  in_apple_charts  \\\n",
       "main_artist                                                         \n",
       "Taylor Swift    4.006455e+08           51.444444        54.000000   \n",
       "The Weeknd      6.328396e+08           76.852941        71.029412   \n",
       "Bad Bunny       5.909148e+08           41.692308        61.500000   \n",
       "SZA             2.823048e+08           47.739130        55.260870   \n",
       "Kendrick Lamar  2.415610e+08           30.565217        12.869565   \n",
       "Drake           4.233174e+08           72.105263        50.736842   \n",
       "Harry Styles    6.828615e+08          102.411765        32.058824   \n",
       "Feid            2.452318e+08           28.466667        40.866667   \n",
       "Ed Sheeran      1.119975e+09          128.615385        46.461538   \n",
       "Morgan Wallen   1.437575e+08           16.250000        47.250000   \n",
       "Eminem          1.132636e+09           82.222222        50.666667   \n",
       "BTS             5.236945e+08           63.222222       101.777778   \n",
       "Karol G         3.612082e+08           61.222222        78.000000   \n",
       "Labrinth        3.423669e+08           31.250000        60.500000   \n",
       "Doja Cat        7.678501e+08           92.714286        31.428571   \n",
       "\n",
       "                in_deezer_playlists  in_deezer_charts  in_shazam_charts  \\\n",
       "main_artist                                                               \n",
       "Taylor Swift              87.416667          1.611111         50.611111   \n",
       "The Weeknd               348.000000          2.029412         73.100000   \n",
       "Bad Bunny                 68.692308          3.615385         39.615385   \n",
       "SZA                       47.304348          1.173913         21.913043   \n",
       "Kendrick Lamar           111.043478          0.000000         31.478261   \n",
       "Drake                    225.684211          0.052632         22.000000   \n",
       "Harry Styles             217.352941          4.470588         18.800000   \n",
       "Feid                      29.533333          3.800000         33.400000   \n",
       "Ed Sheeran              1333.923077          3.307692         81.454545   \n",
       "Morgan Wallen              2.583333          0.083333         49.166667   \n",
       "Eminem                  2724.888889          1.444444         30.555556   \n",
       "BTS                      111.222222          0.444444         13.625000   \n",
       "Karol G                   80.000000          7.555556         90.666667   \n",
       "Labrinth                  96.000000          0.000000          4.875000   \n",
       "Doja Cat                 157.714286          2.285714          6.800000   \n",
       "\n",
       "                       bpm  danceability_%  valence_%   energy_%  \\\n",
       "main_artist                                                        \n",
       "Taylor Swift    124.111111       60.000000  34.305556  56.250000   \n",
       "The Weeknd      118.794118       59.617647  42.882353  63.647059   \n",
       "Bad Bunny       119.307692       74.153846  48.576923  67.038462   \n",
       "SZA             116.956522       60.000000  47.782609  53.826087   \n",
       "Kendrick Lamar  122.608696       66.434783  48.000000  58.304348   \n",
       "Drake           133.578947       73.684211  30.526316  54.684211   \n",
       "Harry Styles    128.529412       61.352941  54.000000  58.882353   \n",
       "Feid            120.800000       75.000000  58.333333  67.600000   \n",
       "Ed Sheeran      115.000000       71.076923  52.538462  62.615385   \n",
       "Morgan Wallen   139.833333       58.166667  59.500000  77.166667   \n",
       "Eminem          122.555556       79.666667  47.222222  74.111111   \n",
       "BTS             120.111111       67.555556  59.444444  71.111111   \n",
       "Karol G         125.888889       81.444444  58.555556  66.777778   \n",
       "Labrinth         99.000000       42.250000  30.000000  50.125000   \n",
       "Doja Cat        119.000000       80.428571  55.000000  60.000000   \n",
       "\n",
       "                acousticness_%  instrumentalness_%  liveness_%  speechiness_%  \n",
       "main_artist                                                                    \n",
       "Taylor Swift         28.416667            0.638889   16.500000       7.250000  \n",
       "The Weeknd           21.147059            1.058824   20.617647       8.323529  \n",
       "Bad Bunny            24.000000            2.423077   19.769231       9.576923  \n",
       "SZA                  48.173913            1.826087   19.434783       9.608696  \n",
       "Kendrick Lamar       41.086957            0.043478   16.304348      23.565217  \n",
       "Drake                 5.526316            0.105263   23.105263      19.947368  \n",
       "Harry Styles         42.823529            1.588235   14.294118       5.352941  \n",
       "Feid                 11.533333            0.000000   17.133333       9.466667  \n",
       "Ed Sheeran           33.692308            0.000000   16.307692       5.230769  \n",
       "Morgan Wallen        20.250000            0.000000   22.500000       3.250000  \n",
       "Eminem                6.444444            0.000000   22.555556      16.444444  \n",
       "BTS                   8.222222            0.000000   24.111111       9.222222  \n",
       "Karol G              47.222222            0.111111   11.555556      21.222222  \n",
       "Labrinth             38.750000           14.125000   20.750000       9.875000  \n",
       "Doja Cat             21.857143            0.571429   17.285714      13.285714  "
      ]
     },
     "execution_count": 35,
     "metadata": {},
     "output_type": "execute_result"
    }
   ],
   "source": [
    "# Extraindo as medias apenas dos artistas principais\n",
    "medias = medias.loc[main_artists]\n",
    "medias"
   ]
  },
  {
   "cell_type": "code",
   "execution_count": 36,
   "metadata": {},
   "outputs": [
    {
     "data": {
      "text/html": [
       "<div>\n",
       "<style scoped>\n",
       "    .dataframe tbody tr th:only-of-type {\n",
       "        vertical-align: middle;\n",
       "    }\n",
       "\n",
       "    .dataframe tbody tr th {\n",
       "        vertical-align: top;\n",
       "    }\n",
       "\n",
       "    .dataframe thead th {\n",
       "        text-align: right;\n",
       "    }\n",
       "</style>\n",
       "<table border=\"1\" class=\"dataframe\">\n",
       "  <thead>\n",
       "    <tr style=\"text-align: right;\">\n",
       "      <th></th>\n",
       "      <th>streams</th>\n",
       "      <th>in_apple_playlists</th>\n",
       "      <th>in_apple_charts</th>\n",
       "      <th>in_deezer_playlists</th>\n",
       "      <th>in_deezer_charts</th>\n",
       "      <th>in_shazam_charts</th>\n",
       "      <th>bpm</th>\n",
       "      <th>danceability_%</th>\n",
       "      <th>valence_%</th>\n",
       "      <th>energy_%</th>\n",
       "      <th>acousticness_%</th>\n",
       "      <th>instrumentalness_%</th>\n",
       "      <th>liveness_%</th>\n",
       "      <th>speechiness_%</th>\n",
       "    </tr>\n",
       "    <tr>\n",
       "      <th>main_artist</th>\n",
       "      <th></th>\n",
       "      <th></th>\n",
       "      <th></th>\n",
       "      <th></th>\n",
       "      <th></th>\n",
       "      <th></th>\n",
       "      <th></th>\n",
       "      <th></th>\n",
       "      <th></th>\n",
       "      <th></th>\n",
       "      <th></th>\n",
       "      <th></th>\n",
       "      <th></th>\n",
       "      <th></th>\n",
       "    </tr>\n",
       "  </thead>\n",
       "  <tbody>\n",
       "    <tr>\n",
       "      <th>Taylor Swift</th>\n",
       "      <td>-0.430751</td>\n",
       "      <td>-0.343091</td>\n",
       "      <td>0.051084</td>\n",
       "      <td>-0.411478</td>\n",
       "      <td>-0.249927</td>\n",
       "      <td>0.497236</td>\n",
       "      <td>0.271113</td>\n",
       "      <td>-0.715591</td>\n",
       "      <td>-1.449052</td>\n",
       "      <td>-0.869132</td>\n",
       "      <td>0.126111</td>\n",
       "      <td>-0.248830</td>\n",
       "      <td>-0.670944</td>\n",
       "      <td>-0.704087</td>\n",
       "    </tr>\n",
       "    <tr>\n",
       "      <th>The Weeknd</th>\n",
       "      <td>0.366634</td>\n",
       "      <td>0.499946</td>\n",
       "      <td>0.887910</td>\n",
       "      <td>-0.040041</td>\n",
       "      <td>-0.046468</td>\n",
       "      <td>1.374943</td>\n",
       "      <td>-0.336412</td>\n",
       "      <td>-0.752622</td>\n",
       "      <td>-0.570047</td>\n",
       "      <td>0.111006</td>\n",
       "      <td>-0.381257</td>\n",
       "      <td>-0.127403</td>\n",
       "      <td>0.522474</td>\n",
       "      <td>-0.523754</td>\n",
       "    </tr>\n",
       "    <tr>\n",
       "      <th>Bad Bunny</th>\n",
       "      <td>0.222659</td>\n",
       "      <td>-0.666660</td>\n",
       "      <td>0.419634</td>\n",
       "      <td>-0.438168</td>\n",
       "      <td>0.724939</td>\n",
       "      <td>0.068090</td>\n",
       "      <td>-0.277730</td>\n",
       "      <td>0.655179</td>\n",
       "      <td>0.013570</td>\n",
       "      <td>0.560379</td>\n",
       "      <td>-0.182142</td>\n",
       "      <td>0.267080</td>\n",
       "      <td>0.276577</td>\n",
       "      <td>-0.313206</td>\n",
       "    </tr>\n",
       "    <tr>\n",
       "      <th>SZA</th>\n",
       "      <td>-0.837148</td>\n",
       "      <td>-0.466031</td>\n",
       "      <td>0.113043</td>\n",
       "      <td>-0.468655</td>\n",
       "      <td>-0.462578</td>\n",
       "      <td>-0.622804</td>\n",
       "      <td>-0.546377</td>\n",
       "      <td>-0.715591</td>\n",
       "      <td>-0.067837</td>\n",
       "      <td>-1.190310</td>\n",
       "      <td>1.505028</td>\n",
       "      <td>0.094456</td>\n",
       "      <td>0.179644</td>\n",
       "      <td>-0.307869</td>\n",
       "    </tr>\n",
       "    <tr>\n",
       "      <th>Kendrick Lamar</th>\n",
       "      <td>-0.977068</td>\n",
       "      <td>-1.035850</td>\n",
       "      <td>-1.970069</td>\n",
       "      <td>-0.377800</td>\n",
       "      <td>-1.033562</td>\n",
       "      <td>-0.249489</td>\n",
       "      <td>0.099445</td>\n",
       "      <td>-0.092396</td>\n",
       "      <td>-0.045557</td>\n",
       "      <td>-0.596924</td>\n",
       "      <td>1.010408</td>\n",
       "      <td>-0.420997</td>\n",
       "      <td>-0.727650</td>\n",
       "      <td>2.036574</td>\n",
       "    </tr>\n",
       "    <tr>\n",
       "      <th>Drake</th>\n",
       "      <td>-0.352892</td>\n",
       "      <td>0.342422</td>\n",
       "      <td>-0.109268</td>\n",
       "      <td>-0.214391</td>\n",
       "      <td>-1.007962</td>\n",
       "      <td>-0.619410</td>\n",
       "      <td>1.352916</td>\n",
       "      <td>0.609696</td>\n",
       "      <td>-1.836373</td>\n",
       "      <td>-1.076605</td>\n",
       "      <td>-1.471475</td>\n",
       "      <td>-0.403132</td>\n",
       "      <td>1.243459</td>\n",
       "      <td>1.428841</td>\n",
       "    </tr>\n",
       "    <tr>\n",
       "      <th>Harry Styles</th>\n",
       "      <td>0.538416</td>\n",
       "      <td>1.347971</td>\n",
       "      <td>-1.027108</td>\n",
       "      <td>-0.226266</td>\n",
       "      <td>1.140905</td>\n",
       "      <td>-0.744301</td>\n",
       "      <td>0.775952</td>\n",
       "      <td>-0.584562</td>\n",
       "      <td>0.569362</td>\n",
       "      <td>-0.520336</td>\n",
       "      <td>1.131609</td>\n",
       "      <td>0.025680</td>\n",
       "      <td>-1.310275</td>\n",
       "      <td>-1.022759</td>\n",
       "    </tr>\n",
       "    <tr>\n",
       "      <th>Feid</th>\n",
       "      <td>-0.964462</td>\n",
       "      <td>-1.105478</td>\n",
       "      <td>-0.594289</td>\n",
       "      <td>-0.493986</td>\n",
       "      <td>0.814735</td>\n",
       "      <td>-0.174486</td>\n",
       "      <td>-0.107218</td>\n",
       "      <td>0.737127</td>\n",
       "      <td>1.013469</td>\n",
       "      <td>0.634785</td>\n",
       "      <td>-1.052227</td>\n",
       "      <td>-0.433569</td>\n",
       "      <td>-0.487385</td>\n",
       "      <td>-0.331727</td>\n",
       "    </tr>\n",
       "    <tr>\n",
       "      <th>Ed Sheeran</th>\n",
       "      <td>2.039523</td>\n",
       "      <td>2.217390</td>\n",
       "      <td>-0.319357</td>\n",
       "      <td>1.365302</td>\n",
       "      <td>0.575280</td>\n",
       "      <td>1.701007</td>\n",
       "      <td>-0.769931</td>\n",
       "      <td>0.357185</td>\n",
       "      <td>0.419574</td>\n",
       "      <td>-0.025695</td>\n",
       "      <td>0.494313</td>\n",
       "      <td>-0.433569</td>\n",
       "      <td>-0.726680</td>\n",
       "      <td>-1.043282</td>\n",
       "    </tr>\n",
       "    <tr>\n",
       "      <th>Morgan Wallen</th>\n",
       "      <td>-1.312938</td>\n",
       "      <td>-1.510819</td>\n",
       "      <td>-0.280612</td>\n",
       "      <td>-0.532400</td>\n",
       "      <td>-0.993029</td>\n",
       "      <td>0.440862</td>\n",
       "      <td>2.067548</td>\n",
       "      <td>-0.893146</td>\n",
       "      <td>1.133037</td>\n",
       "      <td>1.902404</td>\n",
       "      <td>-0.443865</td>\n",
       "      <td>-0.433569</td>\n",
       "      <td>1.068036</td>\n",
       "      <td>-1.376015</td>\n",
       "    </tr>\n",
       "    <tr>\n",
       "      <th>Eminem</th>\n",
       "      <td>2.083002</td>\n",
       "      <td>0.678096</td>\n",
       "      <td>-0.112717</td>\n",
       "      <td>3.347997</td>\n",
       "      <td>-0.330993</td>\n",
       "      <td>-0.285501</td>\n",
       "      <td>0.093374</td>\n",
       "      <td>1.189084</td>\n",
       "      <td>-0.125269</td>\n",
       "      <td>1.497531</td>\n",
       "      <td>-1.407396</td>\n",
       "      <td>-0.433569</td>\n",
       "      <td>1.084138</td>\n",
       "      <td>0.840413</td>\n",
       "    </tr>\n",
       "    <tr>\n",
       "      <th>BTS</th>\n",
       "      <td>-0.008184</td>\n",
       "      <td>0.047688</td>\n",
       "      <td>2.398888</td>\n",
       "      <td>-0.377546</td>\n",
       "      <td>-0.817387</td>\n",
       "      <td>-0.946274</td>\n",
       "      <td>-0.185931</td>\n",
       "      <td>0.016148</td>\n",
       "      <td>1.127343</td>\n",
       "      <td>1.100020</td>\n",
       "      <td>-1.283320</td>\n",
       "      <td>-0.433569</td>\n",
       "      <td>1.534984</td>\n",
       "      <td>-0.372790</td>\n",
       "    </tr>\n",
       "    <tr>\n",
       "      <th>Karol G</th>\n",
       "      <td>-0.566183</td>\n",
       "      <td>-0.018671</td>\n",
       "      <td>1.230446</td>\n",
       "      <td>-0.422050</td>\n",
       "      <td>2.641414</td>\n",
       "      <td>2.060542</td>\n",
       "      <td>0.474243</td>\n",
       "      <td>1.361258</td>\n",
       "      <td>1.036244</td>\n",
       "      <td>0.525837</td>\n",
       "      <td>1.438606</td>\n",
       "      <td>-0.401441</td>\n",
       "      <td>-2.103992</td>\n",
       "      <td>1.642993</td>\n",
       "    </tr>\n",
       "    <tr>\n",
       "      <th>Labrinth</th>\n",
       "      <td>-0.630887</td>\n",
       "      <td>-1.013129</td>\n",
       "      <td>0.370494</td>\n",
       "      <td>-0.399244</td>\n",
       "      <td>-1.033562</td>\n",
       "      <td>-1.287772</td>\n",
       "      <td>-2.598105</td>\n",
       "      <td>-2.434642</td>\n",
       "      <td>-1.890313</td>\n",
       "      <td>-1.680718</td>\n",
       "      <td>0.847305</td>\n",
       "      <td>3.650769</td>\n",
       "      <td>0.560834</td>\n",
       "      <td>-0.263135</td>\n",
       "    </tr>\n",
       "    <tr>\n",
       "      <th>Doja Cat</th>\n",
       "      <td>0.830278</td>\n",
       "      <td>1.026215</td>\n",
       "      <td>-1.058078</td>\n",
       "      <td>-0.311275</td>\n",
       "      <td>0.078196</td>\n",
       "      <td>-1.212643</td>\n",
       "      <td>-0.312887</td>\n",
       "      <td>1.262873</td>\n",
       "      <td>0.671848</td>\n",
       "      <td>-0.372243</td>\n",
       "      <td>-0.331698</td>\n",
       "      <td>-0.268337</td>\n",
       "      <td>-0.443220</td>\n",
       "      <td>0.309803</td>\n",
       "    </tr>\n",
       "  </tbody>\n",
       "</table>\n",
       "</div>"
      ],
      "text/plain": [
       "                 streams  in_apple_playlists  in_apple_charts  \\\n",
       "main_artist                                                     \n",
       "Taylor Swift   -0.430751           -0.343091         0.051084   \n",
       "The Weeknd      0.366634            0.499946         0.887910   \n",
       "Bad Bunny       0.222659           -0.666660         0.419634   \n",
       "SZA            -0.837148           -0.466031         0.113043   \n",
       "Kendrick Lamar -0.977068           -1.035850        -1.970069   \n",
       "Drake          -0.352892            0.342422        -0.109268   \n",
       "Harry Styles    0.538416            1.347971        -1.027108   \n",
       "Feid           -0.964462           -1.105478        -0.594289   \n",
       "Ed Sheeran      2.039523            2.217390        -0.319357   \n",
       "Morgan Wallen  -1.312938           -1.510819        -0.280612   \n",
       "Eminem          2.083002            0.678096        -0.112717   \n",
       "BTS            -0.008184            0.047688         2.398888   \n",
       "Karol G        -0.566183           -0.018671         1.230446   \n",
       "Labrinth       -0.630887           -1.013129         0.370494   \n",
       "Doja Cat        0.830278            1.026215        -1.058078   \n",
       "\n",
       "                in_deezer_playlists  in_deezer_charts  in_shazam_charts  \\\n",
       "main_artist                                                               \n",
       "Taylor Swift              -0.411478         -0.249927          0.497236   \n",
       "The Weeknd                -0.040041         -0.046468          1.374943   \n",
       "Bad Bunny                 -0.438168          0.724939          0.068090   \n",
       "SZA                       -0.468655         -0.462578         -0.622804   \n",
       "Kendrick Lamar            -0.377800         -1.033562         -0.249489   \n",
       "Drake                     -0.214391         -1.007962         -0.619410   \n",
       "Harry Styles              -0.226266          1.140905         -0.744301   \n",
       "Feid                      -0.493986          0.814735         -0.174486   \n",
       "Ed Sheeran                 1.365302          0.575280          1.701007   \n",
       "Morgan Wallen             -0.532400         -0.993029          0.440862   \n",
       "Eminem                     3.347997         -0.330993         -0.285501   \n",
       "BTS                       -0.377546         -0.817387         -0.946274   \n",
       "Karol G                   -0.422050          2.641414          2.060542   \n",
       "Labrinth                  -0.399244         -1.033562         -1.287772   \n",
       "Doja Cat                  -0.311275          0.078196         -1.212643   \n",
       "\n",
       "                     bpm  danceability_%  valence_%  energy_%  acousticness_%  \\\n",
       "main_artist                                                                     \n",
       "Taylor Swift    0.271113       -0.715591  -1.449052 -0.869132        0.126111   \n",
       "The Weeknd     -0.336412       -0.752622  -0.570047  0.111006       -0.381257   \n",
       "Bad Bunny      -0.277730        0.655179   0.013570  0.560379       -0.182142   \n",
       "SZA            -0.546377       -0.715591  -0.067837 -1.190310        1.505028   \n",
       "Kendrick Lamar  0.099445       -0.092396  -0.045557 -0.596924        1.010408   \n",
       "Drake           1.352916        0.609696  -1.836373 -1.076605       -1.471475   \n",
       "Harry Styles    0.775952       -0.584562   0.569362 -0.520336        1.131609   \n",
       "Feid           -0.107218        0.737127   1.013469  0.634785       -1.052227   \n",
       "Ed Sheeran     -0.769931        0.357185   0.419574 -0.025695        0.494313   \n",
       "Morgan Wallen   2.067548       -0.893146   1.133037  1.902404       -0.443865   \n",
       "Eminem          0.093374        1.189084  -0.125269  1.497531       -1.407396   \n",
       "BTS            -0.185931        0.016148   1.127343  1.100020       -1.283320   \n",
       "Karol G         0.474243        1.361258   1.036244  0.525837        1.438606   \n",
       "Labrinth       -2.598105       -2.434642  -1.890313 -1.680718        0.847305   \n",
       "Doja Cat       -0.312887        1.262873   0.671848 -0.372243       -0.331698   \n",
       "\n",
       "                instrumentalness_%  liveness_%  speechiness_%  \n",
       "main_artist                                                    \n",
       "Taylor Swift             -0.248830   -0.670944      -0.704087  \n",
       "The Weeknd               -0.127403    0.522474      -0.523754  \n",
       "Bad Bunny                 0.267080    0.276577      -0.313206  \n",
       "SZA                       0.094456    0.179644      -0.307869  \n",
       "Kendrick Lamar           -0.420997   -0.727650       2.036574  \n",
       "Drake                    -0.403132    1.243459       1.428841  \n",
       "Harry Styles              0.025680   -1.310275      -1.022759  \n",
       "Feid                     -0.433569   -0.487385      -0.331727  \n",
       "Ed Sheeran               -0.433569   -0.726680      -1.043282  \n",
       "Morgan Wallen            -0.433569    1.068036      -1.376015  \n",
       "Eminem                   -0.433569    1.084138       0.840413  \n",
       "BTS                      -0.433569    1.534984      -0.372790  \n",
       "Karol G                  -0.401441   -2.103992       1.642993  \n",
       "Labrinth                  3.650769    0.560834      -0.263135  \n",
       "Doja Cat                 -0.268337   -0.443220       0.309803  "
      ]
     },
     "execution_count": 36,
     "metadata": {},
     "output_type": "execute_result"
    }
   ],
   "source": [
    "# Alterando a escala dos valores para realizar a visualização\n",
    "scaler = StandardScaler()\n",
    "medias[variaveis[:-1]] = scaler.fit_transform(medias[variaveis[:-1]])\n",
    "medias"
   ]
  },
  {
   "cell_type": "code",
   "execution_count": 37,
   "metadata": {},
   "outputs": [
    {
     "data": {
      "application/vnd.plotly.v1+json": {
       "config": {
        "plotlyServerURL": "https://plot.ly"
       },
       "data": [
        {
         "fill": "toself",
         "hovertemplate": "r=%{r}<br>theta=%{theta}<extra></extra>",
         "legendgroup": "",
         "line": {
          "color": "#636efa",
          "dash": "solid"
         },
         "marker": {
          "symbol": "circle"
         },
         "mode": "lines",
         "name": "",
         "r": [
          -0.35289223947616016,
          0.34242154373842,
          -0.10926822401423956,
          -0.21439054721507284,
          -1.0079622976499463,
          -0.6194104920028182,
          1.352916282295805,
          0.6096956651018166,
          -1.8363728416002982,
          -1.0766052008705,
          -1.4714749590899947,
          -0.4031315657194253,
          1.2434594767791591,
          1.4288407136474086,
          -0.35289223947616016
         ],
         "showlegend": false,
         "subplot": "polar",
         "theta": [
          "streams",
          "in_apple_playlists",
          "in_apple_charts",
          "in_deezer_playlists",
          "in_deezer_charts",
          "in_shazam_charts",
          "bpm",
          "danceability_%",
          "valence_%",
          "energy_%",
          "acousticness_%",
          "instrumentalness_%",
          "liveness_%",
          "speechiness_%",
          "streams"
         ],
         "type": "scatterpolar"
        }
       ],
       "layout": {
        "legend": {
         "tracegroupgap": 0
        },
        "margin": {
         "t": 60
        },
        "polar": {
         "angularaxis": {
          "direction": "clockwise",
          "rotation": 90
         },
         "domain": {
          "x": [
           0,
           1
          ],
          "y": [
           0,
           1
          ]
         }
        },
        "template": {
         "data": {
          "bar": [
           {
            "error_x": {
             "color": "#2a3f5f"
            },
            "error_y": {
             "color": "#2a3f5f"
            },
            "marker": {
             "line": {
              "color": "#E5ECF6",
              "width": 0.5
             },
             "pattern": {
              "fillmode": "overlay",
              "size": 10,
              "solidity": 0.2
             }
            },
            "type": "bar"
           }
          ],
          "barpolar": [
           {
            "marker": {
             "line": {
              "color": "#E5ECF6",
              "width": 0.5
             },
             "pattern": {
              "fillmode": "overlay",
              "size": 10,
              "solidity": 0.2
             }
            },
            "type": "barpolar"
           }
          ],
          "carpet": [
           {
            "aaxis": {
             "endlinecolor": "#2a3f5f",
             "gridcolor": "white",
             "linecolor": "white",
             "minorgridcolor": "white",
             "startlinecolor": "#2a3f5f"
            },
            "baxis": {
             "endlinecolor": "#2a3f5f",
             "gridcolor": "white",
             "linecolor": "white",
             "minorgridcolor": "white",
             "startlinecolor": "#2a3f5f"
            },
            "type": "carpet"
           }
          ],
          "choropleth": [
           {
            "colorbar": {
             "outlinewidth": 0,
             "ticks": ""
            },
            "type": "choropleth"
           }
          ],
          "contour": [
           {
            "colorbar": {
             "outlinewidth": 0,
             "ticks": ""
            },
            "colorscale": [
             [
              0,
              "#0d0887"
             ],
             [
              0.1111111111111111,
              "#46039f"
             ],
             [
              0.2222222222222222,
              "#7201a8"
             ],
             [
              0.3333333333333333,
              "#9c179e"
             ],
             [
              0.4444444444444444,
              "#bd3786"
             ],
             [
              0.5555555555555556,
              "#d8576b"
             ],
             [
              0.6666666666666666,
              "#ed7953"
             ],
             [
              0.7777777777777778,
              "#fb9f3a"
             ],
             [
              0.8888888888888888,
              "#fdca26"
             ],
             [
              1,
              "#f0f921"
             ]
            ],
            "type": "contour"
           }
          ],
          "contourcarpet": [
           {
            "colorbar": {
             "outlinewidth": 0,
             "ticks": ""
            },
            "type": "contourcarpet"
           }
          ],
          "heatmap": [
           {
            "colorbar": {
             "outlinewidth": 0,
             "ticks": ""
            },
            "colorscale": [
             [
              0,
              "#0d0887"
             ],
             [
              0.1111111111111111,
              "#46039f"
             ],
             [
              0.2222222222222222,
              "#7201a8"
             ],
             [
              0.3333333333333333,
              "#9c179e"
             ],
             [
              0.4444444444444444,
              "#bd3786"
             ],
             [
              0.5555555555555556,
              "#d8576b"
             ],
             [
              0.6666666666666666,
              "#ed7953"
             ],
             [
              0.7777777777777778,
              "#fb9f3a"
             ],
             [
              0.8888888888888888,
              "#fdca26"
             ],
             [
              1,
              "#f0f921"
             ]
            ],
            "type": "heatmap"
           }
          ],
          "heatmapgl": [
           {
            "colorbar": {
             "outlinewidth": 0,
             "ticks": ""
            },
            "colorscale": [
             [
              0,
              "#0d0887"
             ],
             [
              0.1111111111111111,
              "#46039f"
             ],
             [
              0.2222222222222222,
              "#7201a8"
             ],
             [
              0.3333333333333333,
              "#9c179e"
             ],
             [
              0.4444444444444444,
              "#bd3786"
             ],
             [
              0.5555555555555556,
              "#d8576b"
             ],
             [
              0.6666666666666666,
              "#ed7953"
             ],
             [
              0.7777777777777778,
              "#fb9f3a"
             ],
             [
              0.8888888888888888,
              "#fdca26"
             ],
             [
              1,
              "#f0f921"
             ]
            ],
            "type": "heatmapgl"
           }
          ],
          "histogram": [
           {
            "marker": {
             "pattern": {
              "fillmode": "overlay",
              "size": 10,
              "solidity": 0.2
             }
            },
            "type": "histogram"
           }
          ],
          "histogram2d": [
           {
            "colorbar": {
             "outlinewidth": 0,
             "ticks": ""
            },
            "colorscale": [
             [
              0,
              "#0d0887"
             ],
             [
              0.1111111111111111,
              "#46039f"
             ],
             [
              0.2222222222222222,
              "#7201a8"
             ],
             [
              0.3333333333333333,
              "#9c179e"
             ],
             [
              0.4444444444444444,
              "#bd3786"
             ],
             [
              0.5555555555555556,
              "#d8576b"
             ],
             [
              0.6666666666666666,
              "#ed7953"
             ],
             [
              0.7777777777777778,
              "#fb9f3a"
             ],
             [
              0.8888888888888888,
              "#fdca26"
             ],
             [
              1,
              "#f0f921"
             ]
            ],
            "type": "histogram2d"
           }
          ],
          "histogram2dcontour": [
           {
            "colorbar": {
             "outlinewidth": 0,
             "ticks": ""
            },
            "colorscale": [
             [
              0,
              "#0d0887"
             ],
             [
              0.1111111111111111,
              "#46039f"
             ],
             [
              0.2222222222222222,
              "#7201a8"
             ],
             [
              0.3333333333333333,
              "#9c179e"
             ],
             [
              0.4444444444444444,
              "#bd3786"
             ],
             [
              0.5555555555555556,
              "#d8576b"
             ],
             [
              0.6666666666666666,
              "#ed7953"
             ],
             [
              0.7777777777777778,
              "#fb9f3a"
             ],
             [
              0.8888888888888888,
              "#fdca26"
             ],
             [
              1,
              "#f0f921"
             ]
            ],
            "type": "histogram2dcontour"
           }
          ],
          "mesh3d": [
           {
            "colorbar": {
             "outlinewidth": 0,
             "ticks": ""
            },
            "type": "mesh3d"
           }
          ],
          "parcoords": [
           {
            "line": {
             "colorbar": {
              "outlinewidth": 0,
              "ticks": ""
             }
            },
            "type": "parcoords"
           }
          ],
          "pie": [
           {
            "automargin": true,
            "type": "pie"
           }
          ],
          "scatter": [
           {
            "fillpattern": {
             "fillmode": "overlay",
             "size": 10,
             "solidity": 0.2
            },
            "type": "scatter"
           }
          ],
          "scatter3d": [
           {
            "line": {
             "colorbar": {
              "outlinewidth": 0,
              "ticks": ""
             }
            },
            "marker": {
             "colorbar": {
              "outlinewidth": 0,
              "ticks": ""
             }
            },
            "type": "scatter3d"
           }
          ],
          "scattercarpet": [
           {
            "marker": {
             "colorbar": {
              "outlinewidth": 0,
              "ticks": ""
             }
            },
            "type": "scattercarpet"
           }
          ],
          "scattergeo": [
           {
            "marker": {
             "colorbar": {
              "outlinewidth": 0,
              "ticks": ""
             }
            },
            "type": "scattergeo"
           }
          ],
          "scattergl": [
           {
            "marker": {
             "colorbar": {
              "outlinewidth": 0,
              "ticks": ""
             }
            },
            "type": "scattergl"
           }
          ],
          "scattermapbox": [
           {
            "marker": {
             "colorbar": {
              "outlinewidth": 0,
              "ticks": ""
             }
            },
            "type": "scattermapbox"
           }
          ],
          "scatterpolar": [
           {
            "marker": {
             "colorbar": {
              "outlinewidth": 0,
              "ticks": ""
             }
            },
            "type": "scatterpolar"
           }
          ],
          "scatterpolargl": [
           {
            "marker": {
             "colorbar": {
              "outlinewidth": 0,
              "ticks": ""
             }
            },
            "type": "scatterpolargl"
           }
          ],
          "scatterternary": [
           {
            "marker": {
             "colorbar": {
              "outlinewidth": 0,
              "ticks": ""
             }
            },
            "type": "scatterternary"
           }
          ],
          "surface": [
           {
            "colorbar": {
             "outlinewidth": 0,
             "ticks": ""
            },
            "colorscale": [
             [
              0,
              "#0d0887"
             ],
             [
              0.1111111111111111,
              "#46039f"
             ],
             [
              0.2222222222222222,
              "#7201a8"
             ],
             [
              0.3333333333333333,
              "#9c179e"
             ],
             [
              0.4444444444444444,
              "#bd3786"
             ],
             [
              0.5555555555555556,
              "#d8576b"
             ],
             [
              0.6666666666666666,
              "#ed7953"
             ],
             [
              0.7777777777777778,
              "#fb9f3a"
             ],
             [
              0.8888888888888888,
              "#fdca26"
             ],
             [
              1,
              "#f0f921"
             ]
            ],
            "type": "surface"
           }
          ],
          "table": [
           {
            "cells": {
             "fill": {
              "color": "#EBF0F8"
             },
             "line": {
              "color": "white"
             }
            },
            "header": {
             "fill": {
              "color": "#C8D4E3"
             },
             "line": {
              "color": "white"
             }
            },
            "type": "table"
           }
          ]
         },
         "layout": {
          "annotationdefaults": {
           "arrowcolor": "#2a3f5f",
           "arrowhead": 0,
           "arrowwidth": 1
          },
          "autotypenumbers": "strict",
          "coloraxis": {
           "colorbar": {
            "outlinewidth": 0,
            "ticks": ""
           }
          },
          "colorscale": {
           "diverging": [
            [
             0,
             "#8e0152"
            ],
            [
             0.1,
             "#c51b7d"
            ],
            [
             0.2,
             "#de77ae"
            ],
            [
             0.3,
             "#f1b6da"
            ],
            [
             0.4,
             "#fde0ef"
            ],
            [
             0.5,
             "#f7f7f7"
            ],
            [
             0.6,
             "#e6f5d0"
            ],
            [
             0.7,
             "#b8e186"
            ],
            [
             0.8,
             "#7fbc41"
            ],
            [
             0.9,
             "#4d9221"
            ],
            [
             1,
             "#276419"
            ]
           ],
           "sequential": [
            [
             0,
             "#0d0887"
            ],
            [
             0.1111111111111111,
             "#46039f"
            ],
            [
             0.2222222222222222,
             "#7201a8"
            ],
            [
             0.3333333333333333,
             "#9c179e"
            ],
            [
             0.4444444444444444,
             "#bd3786"
            ],
            [
             0.5555555555555556,
             "#d8576b"
            ],
            [
             0.6666666666666666,
             "#ed7953"
            ],
            [
             0.7777777777777778,
             "#fb9f3a"
            ],
            [
             0.8888888888888888,
             "#fdca26"
            ],
            [
             1,
             "#f0f921"
            ]
           ],
           "sequentialminus": [
            [
             0,
             "#0d0887"
            ],
            [
             0.1111111111111111,
             "#46039f"
            ],
            [
             0.2222222222222222,
             "#7201a8"
            ],
            [
             0.3333333333333333,
             "#9c179e"
            ],
            [
             0.4444444444444444,
             "#bd3786"
            ],
            [
             0.5555555555555556,
             "#d8576b"
            ],
            [
             0.6666666666666666,
             "#ed7953"
            ],
            [
             0.7777777777777778,
             "#fb9f3a"
            ],
            [
             0.8888888888888888,
             "#fdca26"
            ],
            [
             1,
             "#f0f921"
            ]
           ]
          },
          "colorway": [
           "#636efa",
           "#EF553B",
           "#00cc96",
           "#ab63fa",
           "#FFA15A",
           "#19d3f3",
           "#FF6692",
           "#B6E880",
           "#FF97FF",
           "#FECB52"
          ],
          "font": {
           "color": "#2a3f5f"
          },
          "geo": {
           "bgcolor": "white",
           "lakecolor": "white",
           "landcolor": "#E5ECF6",
           "showlakes": true,
           "showland": true,
           "subunitcolor": "white"
          },
          "hoverlabel": {
           "align": "left"
          },
          "hovermode": "closest",
          "mapbox": {
           "style": "light"
          },
          "paper_bgcolor": "white",
          "plot_bgcolor": "#E5ECF6",
          "polar": {
           "angularaxis": {
            "gridcolor": "white",
            "linecolor": "white",
            "ticks": ""
           },
           "bgcolor": "#E5ECF6",
           "radialaxis": {
            "gridcolor": "white",
            "linecolor": "white",
            "ticks": ""
           }
          },
          "scene": {
           "xaxis": {
            "backgroundcolor": "#E5ECF6",
            "gridcolor": "white",
            "gridwidth": 2,
            "linecolor": "white",
            "showbackground": true,
            "ticks": "",
            "zerolinecolor": "white"
           },
           "yaxis": {
            "backgroundcolor": "#E5ECF6",
            "gridcolor": "white",
            "gridwidth": 2,
            "linecolor": "white",
            "showbackground": true,
            "ticks": "",
            "zerolinecolor": "white"
           },
           "zaxis": {
            "backgroundcolor": "#E5ECF6",
            "gridcolor": "white",
            "gridwidth": 2,
            "linecolor": "white",
            "showbackground": true,
            "ticks": "",
            "zerolinecolor": "white"
           }
          },
          "shapedefaults": {
           "line": {
            "color": "#2a3f5f"
           }
          },
          "ternary": {
           "aaxis": {
            "gridcolor": "white",
            "linecolor": "white",
            "ticks": ""
           },
           "baxis": {
            "gridcolor": "white",
            "linecolor": "white",
            "ticks": ""
           },
           "bgcolor": "#E5ECF6",
           "caxis": {
            "gridcolor": "white",
            "linecolor": "white",
            "ticks": ""
           }
          },
          "title": {
           "x": 0.05
          },
          "xaxis": {
           "automargin": true,
           "gridcolor": "white",
           "linecolor": "white",
           "ticks": "",
           "title": {
            "standoff": 15
           },
           "zerolinecolor": "white",
           "zerolinewidth": 2
          },
          "yaxis": {
           "automargin": true,
           "gridcolor": "white",
           "linecolor": "white",
           "ticks": "",
           "title": {
            "standoff": 15
           },
           "zerolinecolor": "white",
           "zerolinewidth": 2
          }
         }
        }
       }
      },
      "text/html": [
       "<div>                            <div id=\"786f54fe-8d5c-4181-ad94-503ee7d07059\" class=\"plotly-graph-div\" style=\"height:525px; width:100%;\"></div>            <script type=\"text/javascript\">                require([\"plotly\"], function(Plotly) {                    window.PLOTLYENV=window.PLOTLYENV || {};                                    if (document.getElementById(\"786f54fe-8d5c-4181-ad94-503ee7d07059\")) {                    Plotly.newPlot(                        \"786f54fe-8d5c-4181-ad94-503ee7d07059\",                        [{\"hovertemplate\":\"r=%{r}\\u003cbr\\u003etheta=%{theta}\\u003cextra\\u003e\\u003c\\u002fextra\\u003e\",\"legendgroup\":\"\",\"line\":{\"color\":\"#636efa\",\"dash\":\"solid\"},\"marker\":{\"symbol\":\"circle\"},\"mode\":\"lines\",\"name\":\"\",\"r\":[-0.35289223947616016,0.34242154373842,-0.10926822401423956,-0.21439054721507284,-1.0079622976499463,-0.6194104920028182,1.352916282295805,0.6096956651018166,-1.8363728416002982,-1.0766052008705,-1.4714749590899947,-0.4031315657194253,1.2434594767791591,1.4288407136474086,-0.35289223947616016],\"showlegend\":false,\"subplot\":\"polar\",\"theta\":[\"streams\",\"in_apple_playlists\",\"in_apple_charts\",\"in_deezer_playlists\",\"in_deezer_charts\",\"in_shazam_charts\",\"bpm\",\"danceability_%\",\"valence_%\",\"energy_%\",\"acousticness_%\",\"instrumentalness_%\",\"liveness_%\",\"speechiness_%\",\"streams\"],\"type\":\"scatterpolar\",\"fill\":\"toself\"}],                        {\"template\":{\"data\":{\"histogram2dcontour\":[{\"type\":\"histogram2dcontour\",\"colorbar\":{\"outlinewidth\":0,\"ticks\":\"\"},\"colorscale\":[[0.0,\"#0d0887\"],[0.1111111111111111,\"#46039f\"],[0.2222222222222222,\"#7201a8\"],[0.3333333333333333,\"#9c179e\"],[0.4444444444444444,\"#bd3786\"],[0.5555555555555556,\"#d8576b\"],[0.6666666666666666,\"#ed7953\"],[0.7777777777777778,\"#fb9f3a\"],[0.8888888888888888,\"#fdca26\"],[1.0,\"#f0f921\"]]}],\"choropleth\":[{\"type\":\"choropleth\",\"colorbar\":{\"outlinewidth\":0,\"ticks\":\"\"}}],\"histogram2d\":[{\"type\":\"histogram2d\",\"colorbar\":{\"outlinewidth\":0,\"ticks\":\"\"},\"colorscale\":[[0.0,\"#0d0887\"],[0.1111111111111111,\"#46039f\"],[0.2222222222222222,\"#7201a8\"],[0.3333333333333333,\"#9c179e\"],[0.4444444444444444,\"#bd3786\"],[0.5555555555555556,\"#d8576b\"],[0.6666666666666666,\"#ed7953\"],[0.7777777777777778,\"#fb9f3a\"],[0.8888888888888888,\"#fdca26\"],[1.0,\"#f0f921\"]]}],\"heatmap\":[{\"type\":\"heatmap\",\"colorbar\":{\"outlinewidth\":0,\"ticks\":\"\"},\"colorscale\":[[0.0,\"#0d0887\"],[0.1111111111111111,\"#46039f\"],[0.2222222222222222,\"#7201a8\"],[0.3333333333333333,\"#9c179e\"],[0.4444444444444444,\"#bd3786\"],[0.5555555555555556,\"#d8576b\"],[0.6666666666666666,\"#ed7953\"],[0.7777777777777778,\"#fb9f3a\"],[0.8888888888888888,\"#fdca26\"],[1.0,\"#f0f921\"]]}],\"heatmapgl\":[{\"type\":\"heatmapgl\",\"colorbar\":{\"outlinewidth\":0,\"ticks\":\"\"},\"colorscale\":[[0.0,\"#0d0887\"],[0.1111111111111111,\"#46039f\"],[0.2222222222222222,\"#7201a8\"],[0.3333333333333333,\"#9c179e\"],[0.4444444444444444,\"#bd3786\"],[0.5555555555555556,\"#d8576b\"],[0.6666666666666666,\"#ed7953\"],[0.7777777777777778,\"#fb9f3a\"],[0.8888888888888888,\"#fdca26\"],[1.0,\"#f0f921\"]]}],\"contourcarpet\":[{\"type\":\"contourcarpet\",\"colorbar\":{\"outlinewidth\":0,\"ticks\":\"\"}}],\"contour\":[{\"type\":\"contour\",\"colorbar\":{\"outlinewidth\":0,\"ticks\":\"\"},\"colorscale\":[[0.0,\"#0d0887\"],[0.1111111111111111,\"#46039f\"],[0.2222222222222222,\"#7201a8\"],[0.3333333333333333,\"#9c179e\"],[0.4444444444444444,\"#bd3786\"],[0.5555555555555556,\"#d8576b\"],[0.6666666666666666,\"#ed7953\"],[0.7777777777777778,\"#fb9f3a\"],[0.8888888888888888,\"#fdca26\"],[1.0,\"#f0f921\"]]}],\"surface\":[{\"type\":\"surface\",\"colorbar\":{\"outlinewidth\":0,\"ticks\":\"\"},\"colorscale\":[[0.0,\"#0d0887\"],[0.1111111111111111,\"#46039f\"],[0.2222222222222222,\"#7201a8\"],[0.3333333333333333,\"#9c179e\"],[0.4444444444444444,\"#bd3786\"],[0.5555555555555556,\"#d8576b\"],[0.6666666666666666,\"#ed7953\"],[0.7777777777777778,\"#fb9f3a\"],[0.8888888888888888,\"#fdca26\"],[1.0,\"#f0f921\"]]}],\"mesh3d\":[{\"type\":\"mesh3d\",\"colorbar\":{\"outlinewidth\":0,\"ticks\":\"\"}}],\"scatter\":[{\"fillpattern\":{\"fillmode\":\"overlay\",\"size\":10,\"solidity\":0.2},\"type\":\"scatter\"}],\"parcoords\":[{\"type\":\"parcoords\",\"line\":{\"colorbar\":{\"outlinewidth\":0,\"ticks\":\"\"}}}],\"scatterpolargl\":[{\"type\":\"scatterpolargl\",\"marker\":{\"colorbar\":{\"outlinewidth\":0,\"ticks\":\"\"}}}],\"bar\":[{\"error_x\":{\"color\":\"#2a3f5f\"},\"error_y\":{\"color\":\"#2a3f5f\"},\"marker\":{\"line\":{\"color\":\"#E5ECF6\",\"width\":0.5},\"pattern\":{\"fillmode\":\"overlay\",\"size\":10,\"solidity\":0.2}},\"type\":\"bar\"}],\"scattergeo\":[{\"type\":\"scattergeo\",\"marker\":{\"colorbar\":{\"outlinewidth\":0,\"ticks\":\"\"}}}],\"scatterpolar\":[{\"type\":\"scatterpolar\",\"marker\":{\"colorbar\":{\"outlinewidth\":0,\"ticks\":\"\"}}}],\"histogram\":[{\"marker\":{\"pattern\":{\"fillmode\":\"overlay\",\"size\":10,\"solidity\":0.2}},\"type\":\"histogram\"}],\"scattergl\":[{\"type\":\"scattergl\",\"marker\":{\"colorbar\":{\"outlinewidth\":0,\"ticks\":\"\"}}}],\"scatter3d\":[{\"type\":\"scatter3d\",\"line\":{\"colorbar\":{\"outlinewidth\":0,\"ticks\":\"\"}},\"marker\":{\"colorbar\":{\"outlinewidth\":0,\"ticks\":\"\"}}}],\"scattermapbox\":[{\"type\":\"scattermapbox\",\"marker\":{\"colorbar\":{\"outlinewidth\":0,\"ticks\":\"\"}}}],\"scatterternary\":[{\"type\":\"scatterternary\",\"marker\":{\"colorbar\":{\"outlinewidth\":0,\"ticks\":\"\"}}}],\"scattercarpet\":[{\"type\":\"scattercarpet\",\"marker\":{\"colorbar\":{\"outlinewidth\":0,\"ticks\":\"\"}}}],\"carpet\":[{\"aaxis\":{\"endlinecolor\":\"#2a3f5f\",\"gridcolor\":\"white\",\"linecolor\":\"white\",\"minorgridcolor\":\"white\",\"startlinecolor\":\"#2a3f5f\"},\"baxis\":{\"endlinecolor\":\"#2a3f5f\",\"gridcolor\":\"white\",\"linecolor\":\"white\",\"minorgridcolor\":\"white\",\"startlinecolor\":\"#2a3f5f\"},\"type\":\"carpet\"}],\"table\":[{\"cells\":{\"fill\":{\"color\":\"#EBF0F8\"},\"line\":{\"color\":\"white\"}},\"header\":{\"fill\":{\"color\":\"#C8D4E3\"},\"line\":{\"color\":\"white\"}},\"type\":\"table\"}],\"barpolar\":[{\"marker\":{\"line\":{\"color\":\"#E5ECF6\",\"width\":0.5},\"pattern\":{\"fillmode\":\"overlay\",\"size\":10,\"solidity\":0.2}},\"type\":\"barpolar\"}],\"pie\":[{\"automargin\":true,\"type\":\"pie\"}]},\"layout\":{\"autotypenumbers\":\"strict\",\"colorway\":[\"#636efa\",\"#EF553B\",\"#00cc96\",\"#ab63fa\",\"#FFA15A\",\"#19d3f3\",\"#FF6692\",\"#B6E880\",\"#FF97FF\",\"#FECB52\"],\"font\":{\"color\":\"#2a3f5f\"},\"hovermode\":\"closest\",\"hoverlabel\":{\"align\":\"left\"},\"paper_bgcolor\":\"white\",\"plot_bgcolor\":\"#E5ECF6\",\"polar\":{\"bgcolor\":\"#E5ECF6\",\"angularaxis\":{\"gridcolor\":\"white\",\"linecolor\":\"white\",\"ticks\":\"\"},\"radialaxis\":{\"gridcolor\":\"white\",\"linecolor\":\"white\",\"ticks\":\"\"}},\"ternary\":{\"bgcolor\":\"#E5ECF6\",\"aaxis\":{\"gridcolor\":\"white\",\"linecolor\":\"white\",\"ticks\":\"\"},\"baxis\":{\"gridcolor\":\"white\",\"linecolor\":\"white\",\"ticks\":\"\"},\"caxis\":{\"gridcolor\":\"white\",\"linecolor\":\"white\",\"ticks\":\"\"}},\"coloraxis\":{\"colorbar\":{\"outlinewidth\":0,\"ticks\":\"\"}},\"colorscale\":{\"sequential\":[[0.0,\"#0d0887\"],[0.1111111111111111,\"#46039f\"],[0.2222222222222222,\"#7201a8\"],[0.3333333333333333,\"#9c179e\"],[0.4444444444444444,\"#bd3786\"],[0.5555555555555556,\"#d8576b\"],[0.6666666666666666,\"#ed7953\"],[0.7777777777777778,\"#fb9f3a\"],[0.8888888888888888,\"#fdca26\"],[1.0,\"#f0f921\"]],\"sequentialminus\":[[0.0,\"#0d0887\"],[0.1111111111111111,\"#46039f\"],[0.2222222222222222,\"#7201a8\"],[0.3333333333333333,\"#9c179e\"],[0.4444444444444444,\"#bd3786\"],[0.5555555555555556,\"#d8576b\"],[0.6666666666666666,\"#ed7953\"],[0.7777777777777778,\"#fb9f3a\"],[0.8888888888888888,\"#fdca26\"],[1.0,\"#f0f921\"]],\"diverging\":[[0,\"#8e0152\"],[0.1,\"#c51b7d\"],[0.2,\"#de77ae\"],[0.3,\"#f1b6da\"],[0.4,\"#fde0ef\"],[0.5,\"#f7f7f7\"],[0.6,\"#e6f5d0\"],[0.7,\"#b8e186\"],[0.8,\"#7fbc41\"],[0.9,\"#4d9221\"],[1,\"#276419\"]]},\"xaxis\":{\"gridcolor\":\"white\",\"linecolor\":\"white\",\"ticks\":\"\",\"title\":{\"standoff\":15},\"zerolinecolor\":\"white\",\"automargin\":true,\"zerolinewidth\":2},\"yaxis\":{\"gridcolor\":\"white\",\"linecolor\":\"white\",\"ticks\":\"\",\"title\":{\"standoff\":15},\"zerolinecolor\":\"white\",\"automargin\":true,\"zerolinewidth\":2},\"scene\":{\"xaxis\":{\"backgroundcolor\":\"#E5ECF6\",\"gridcolor\":\"white\",\"linecolor\":\"white\",\"showbackground\":true,\"ticks\":\"\",\"zerolinecolor\":\"white\",\"gridwidth\":2},\"yaxis\":{\"backgroundcolor\":\"#E5ECF6\",\"gridcolor\":\"white\",\"linecolor\":\"white\",\"showbackground\":true,\"ticks\":\"\",\"zerolinecolor\":\"white\",\"gridwidth\":2},\"zaxis\":{\"backgroundcolor\":\"#E5ECF6\",\"gridcolor\":\"white\",\"linecolor\":\"white\",\"showbackground\":true,\"ticks\":\"\",\"zerolinecolor\":\"white\",\"gridwidth\":2}},\"shapedefaults\":{\"line\":{\"color\":\"#2a3f5f\"}},\"annotationdefaults\":{\"arrowcolor\":\"#2a3f5f\",\"arrowhead\":0,\"arrowwidth\":1},\"geo\":{\"bgcolor\":\"white\",\"landcolor\":\"#E5ECF6\",\"subunitcolor\":\"white\",\"showland\":true,\"showlakes\":true,\"lakecolor\":\"white\"},\"title\":{\"x\":0.05},\"mapbox\":{\"style\":\"light\"}}},\"polar\":{\"domain\":{\"x\":[0.0,1.0],\"y\":[0.0,1.0]},\"angularaxis\":{\"direction\":\"clockwise\",\"rotation\":90}},\"legend\":{\"tracegroupgap\":0},\"margin\":{\"t\":60}},                        {\"responsive\": true}                    ).then(function(){\n",
       "                            \n",
       "var gd = document.getElementById('786f54fe-8d5c-4181-ad94-503ee7d07059');\n",
       "var x = new MutationObserver(function (mutations, observer) {{\n",
       "        var display = window.getComputedStyle(gd).display;\n",
       "        if (!display || display === 'none') {{\n",
       "            console.log([gd, 'removed!']);\n",
       "            Plotly.purge(gd);\n",
       "            observer.disconnect();\n",
       "        }}\n",
       "}});\n",
       "\n",
       "// Listen for the removal of the full notebook cells\n",
       "var notebookContainer = gd.closest('#notebook-container');\n",
       "if (notebookContainer) {{\n",
       "    x.observe(notebookContainer, {childList: true});\n",
       "}}\n",
       "\n",
       "// Listen for the clearing of the current output cell\n",
       "var outputEl = gd.closest('.output');\n",
       "if (outputEl) {{\n",
       "    x.observe(outputEl, {childList: true});\n",
       "}}\n",
       "\n",
       "                        })                };                });            </script>        </div>"
      ]
     },
     "metadata": {},
     "output_type": "display_data"
    }
   ],
   "source": [
    "# Exemplo de um Radar Chart\n",
    "fig = px.line_polar(medias, medias.iloc[5], theta=medias.columns, line_close=True)\n",
    "fig.update_traces(fill='toself')\n",
    "fig.show()"
   ]
  },
  {
   "cell_type": "code",
   "execution_count": 38,
   "metadata": {},
   "outputs": [],
   "source": [
    "# Salvando o dataframe como um arquivo .csv\n",
    "medias.to_csv('media-artistas-principais.csv',index=True)"
   ]
  }
 ],
 "metadata": {
  "kernelspec": {
   "display_name": ".venv",
   "language": "python",
   "name": "python3"
  },
  "language_info": {
   "codemirror_mode": {
    "name": "ipython",
    "version": 3
   },
   "file_extension": ".py",
   "mimetype": "text/x-python",
   "name": "python",
   "nbconvert_exporter": "python",
   "pygments_lexer": "ipython3",
   "version": "3.11.2"
  }
 },
 "nbformat": 4,
 "nbformat_minor": 2
}
